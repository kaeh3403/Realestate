{
 "cells": [
  {
   "cell_type": "code",
   "execution_count": 1,
   "metadata": {
    "ExecuteTime": {
     "end_time": "2022-02-05T01:47:10.023479Z",
     "start_time": "2022-02-05T01:47:09.370605Z"
    }
   },
   "outputs": [
    {
     "name": "stdout",
     "output_type": "stream",
     "text": [
      "C:\\developer\\Realestate\n"
     ]
    }
   ],
   "source": [
    "import requests\n",
    "import numpy as np\n",
    "import time\n",
    "import json\n",
    "import pandas as pd\n",
    "from selenium import webdriver\n",
    "import os\n",
    "print(os.getcwd())"
   ]
  },
  {
   "cell_type": "markdown",
   "metadata": {},
   "source": [
    "mapping_code = pd.read_excel(\"mapping_code.xlsx\")\n",
    "print(mapping_code)"
   ]
  },
  {
   "cell_type": "code",
   "execution_count": 2,
   "metadata": {},
   "outputs": [],
   "source": [
    "code=[{\"gu\":\"강남구\",\"LAT\":37.497113 ,\"LON\": 127.062318,\"DONG\":11680}\n",
    ",{\"gu\":\"강동구\",\"LAT\":37.547284 ,\"LON\": 127.147819,\"DONG\":11740}\n",
    ",{\"gu\":\"강북구\",\"LAT\":37.638649 ,\"LON\": 127.021337,\"DONG\":11305}\n",
    ",{\"gu\":\"강서구\",\"LAT\":37.557012 ,\"LON\": 126.823391,\"DONG\":11500}\n",
    ",{\"gu\":\"관악구\",\"LAT\":37.477748 ,\"LON\": 126.950788,\"DONG\":11620}\n",
    ",{\"gu\":\"광진구\",\"LAT\":37.548608 ,\"LON\": 127.082634,\"DONG\":11215}\n",
    ",{\"gu\":\"구로구\",\"LAT\":37.493441 ,\"LON\": 126.851923,\"DONG\":11530}\n",
    ",{\"gu\":\"금천구\",\"LAT\":37.466765 ,\"LON\": 126.898586,\"DONG\":11545}\n",
    ",{\"gu\":\"노원구\",\"LAT\":37.639354 ,\"LON\": 127.072757,\"DONG\":11350}\n",
    ",{\"gu\":\"도봉구\",\"LAT\":37.660125 ,\"LON\": 127.037006,\"DONG\":11320}\n",
    ",{\"gu\":\"동대문구\",\"LAT\":37.582263 ,\"LON\": 127.049773 ,\"DONG\":11230}\n",
    ",{\"gu\":\"동작구\" , \"LAT\":37.500862 ,\"LON\": 126.949992 ,\"DONG\":11590 }\n",
    ",{\"gu\":\"마포구\",  \"LAT\":37.551057 ,\"LON\": 126.931071 ,\"DONG\":11440}\n",
    ",{\"gu\":\"서대문구\",\"LAT\":37.569822 ,\"LON\": 126.949121 ,\"DONG\":11410}\n",
    ",{\"gu\":\"서초구\",  \"LAT\":37.474402 ,\"LON\": 127.033607 ,\"DONG\":11650}\n",
    ",{\"gu\":\"성동구\",  \"LAT\":37.555878 ,\"LON\": 127.035161 ,\"DONG\":11200}\n",
    ",{\"gu\":\"성북구\"  ,\"LAT\":37.591859 ,\"LON\": 127.020048 ,\"DONG\":11290}\n",
    ",{\"gu\":\"송파구\"  ,\"LAT\":37.502988 ,\"LON\": 127.119120 ,\"DONG\":11710}\n",
    ",{\"gu\":\"양천구\"  ,\"LAT\":37.530285 ,\"LON\": 126.853761 ,\"DONG\": 11470}\n",
    ",{\"gu\":\"영등포구\",\"LAT\":37.522614 ,\"LON\": 126.899129 ,\"DONG\":11560}\n",
    ",{\"gu\":\" 용산구\" ,\"LAT\":37.536019 ,\"LON\": 126.972387 ,\"DONG\":11170}\n",
    ",{\"gu\":\" 은평구 \",\"LAT\":37.607088 ,\"LON\": 126.917073 ,\"DONG\": 11380}\n",
    ",{\"gu\":\" 종로구 \",\"LAT\":37.577500 ,\"LON\": 126.982828 ,\"DONG\":11110}\n",
    ",{\"gu\":\"  중구  \",\"LAT\":37.563092 ,\"LON\": 126.988644 ,\"DONG\": 11140}\n",
    ",{\"gu\":\" 중랑구 \",\"LAT\":37.599270 ,\"LON\": 127.087847 ,\"DONG\": 11260}]"
   ]
  },
  {
   "cell_type": "code",
   "execution_count": 5,
   "metadata": {
    "ExecuteTime": {
     "end_time": "2022-02-05T01:48:08.701288Z",
     "start_time": "2022-02-05T01:48:08.689320Z"
    }
   },
   "outputs": [],
   "source": [
    "code=[{\"gu\":\"강남구\",\"LAT\":37.497113 ,\"LON\": 127.062318,\"DONG\":11680}\n",
    ",{\"gu\":\"강동구\",\"LAT\":37.547284 ,\"LON\": 127.147819,\"DONG\":11740}]"
   ]
  },
  {
   "cell_type": "code",
   "execution_count": 6,
   "metadata": {
    "ExecuteTime": {
     "end_time": "2022-02-05T01:48:10.212124Z",
     "start_time": "2022-02-05T01:48:10.201154Z"
    }
   },
   "outputs": [
    {
     "name": "stdout",
     "output_type": "stream",
     "text": [
      "[{'gu': '강남구', 'LAT': 37.497113, 'LON': 127.062318, 'DONG': 11680}, {'gu': '강동구', 'LAT': 37.547284, 'LON': 127.147819, 'DONG': 11740}]\n"
     ]
    }
   ],
   "source": [
    "print(code)"
   ]
  },
  {
   "cell_type": "code",
   "execution_count": 2,
   "metadata": {
    "ExecuteTime": {
     "end_time": "2022-02-05T01:47:38.214762Z",
     "start_time": "2022-02-05T01:47:38.210774Z"
    }
   },
   "outputs": [],
   "source": [
    "url = \"https://m.land.naver.com/cluster/ajax/articleList\"\n",
    "HEAD = {\n",
    "        'User-Agent': \"PostmanRuntime/7.20.0\",\n",
    "        'Accept': \"*/*\",\n",
    "        'Cache-Control': \"no-cache\",\n",
    "        'Postman-Token': \"adbba748-cb85-4fb4-8f6a-4be441f19cc3\",\n",
    "        'Host': \"m.land.naver.com\",\n",
    "        'Accept-Encoding': \"gzip, deflate\",\n",
    "        'Connection': \"keep-alive\",\n",
    "        'cache-control': \"no-cache\"\n",
    "        }"
   ]
  },
  {
   "cell_type": "code",
   "execution_count": 3,
   "metadata": {
    "ExecuteTime": {
     "end_time": "2022-02-05T01:47:40.255967Z",
     "start_time": "2022-02-05T01:47:40.249981Z"
    }
   },
   "outputs": [
    {
     "name": "stdout",
     "output_type": "stream",
     "text": [
      "C:\\developer\\Realestate\n"
     ]
    }
   ],
   "source": [
    "import os\n",
    "print(os.getcwd())"
   ]
  },
  {
   "cell_type": "code",
   "execution_count": 7,
   "metadata": {
    "ExecuteTime": {
     "end_time": "2022-02-05T01:48:13.841446Z",
     "start_time": "2022-02-05T01:48:13.831473Z"
    }
   },
   "outputs": [],
   "source": [
    "def get_soup(DONG,LAT,LON,PAGE):\n",
    "##행정동 및 위도 경도##변수 입력 \n",
    "    dong={\"cortarNo\":DONG}\n",
    "    lat={\"lat\":LAT}\n",
    "    lon={\"lon\":LON}\n",
    "    page={\"page\":PAGE}\n",
    "  ##고정값\n",
    "    con1= {\"rletTpCd\":\"DDDGG%3AGM\"} ## 검색물건\n",
    "    con2= {\"tradTpCd\":\"A1\"} ##거래방법 A1 : 매매\n",
    "    con3={\"showR0\":\"\"}    ## 그외조건 없음\n",
    "    con4 = {\"z\":\"7\"}  ## 축척\n",
    "  ##검색조건\n",
    "    space1={\"spcMin\":\"132\"} ##40평이상\n",
    "    space2={\"spcMax\":\"900000000\"} ## 무한\n",
    "    price1={\"dprcMin\":\"30000\"} ##3억이상 10억 미만\n",
    "    price2={\"dprcMax\":\"100000\"}\n",
    "  ##mapping 고정값\n",
    "    rgt = {\"rgt\": str(float(lat[\"lat\"])+0.3475542)}\n",
    "    lft = {\"lft\": str(float(lat[\"lat\"])-0.3475542)}\n",
    "    top = {\"top\": str(float(lon[\"lon\"])+0.0538928)}\n",
    "    btm = {\"btm\": str(float(lon[\"lon\"])-0.0538928)}\n",
    "    qstring={**con1,**con2,**con3,**con4,**space1,**space2,**price1,**price2,**dong,**lat,**lon,**lft,**rgt,**top,**btm,**page}\n",
    "    result=requests.request(\"GET\",url,headers=HEAD,params=qstring,timeout=5)\n",
    "    text=json.loads(result.text)\n",
    "    return text\n",
    "\n",
    "       \n",
    "    \n"
   ]
  },
  {
   "cell_type": "code",
   "execution_count": 8,
   "metadata": {
    "ExecuteTime": {
     "end_time": "2022-02-05T01:48:24.103689Z",
     "start_time": "2022-02-05T01:48:23.329140Z"
    }
   },
   "outputs": [
    {
     "name": "stdout",
     "output_type": "stream",
     "text": [
      "1168000000\n",
      "{'code': 'success', 'more': True, 'TIME': False, 'z': 7, 'page': 1, 'body': [{'atclNo': '2203381086', 'cortarNo': '1168011100', 'atclNm': '복합상가', 'atclStatCd': 'R0', 'rletTpCd': 'D02', 'uprRletTpCd': 'D02', 'rletTpNm': '상가', 'tradTpCd': 'A1', 'tradTpNm': '매매', 'vrfcTpCd': 'OWNER', 'flrInfo': '6/8', 'prc': 70000, 'rentPrc': 0, 'hanPrc': '7억', 'spc1': 150, 'spc2': 120, 'direction': '남향', 'atclCfmYmd': '22.02.03.', 'lat': 37.465783, 'lng': 127.101199, 'atclFetrDesc': '대로변, 병원 학원업종 집중 상가', 'tagList': ['10년이내', '주차가능', '남향'], 'bildNm': '', 'minute': 0, 'sameAddrCnt': 1, 'sameAddrDirectCnt': 0, 'cpid': 'bizmk', 'cpNm': '매경부동산', 'cpCnt': 1, 'rltrNm': '세곡바로공인중개사사무소', 'directTradYn': 'N', 'minMviFee': 0, 'maxMviFee': 0, 'etRoomCnt': 0, 'tradePriceHan': '', 'tradeRentPrice': 0, 'tradeCheckedByOwner': False, 'cpLinkVO': {'cpId': 'bizmk', 'mobileArticleLinkTypeCode': 'NONE', 'mobileBmsInspectPassYn': 'Y', 'pcArticleLinkUseAtArticleTitle': False, 'pcArticleLinkUseAtCpName': False, 'mobileArticleLinkUseAtArticleTitle': False, 'mobileArticleLinkUseAtCpName': False}, 'dtlAddrYn': 'N', 'dtlAddr': ''}, {'atclNo': '2203046509', 'cortarNo': '1168011800', 'atclNm': '단지내상가', 'atclStatCd': 'R0', 'rletTpCd': 'D02', 'uprRletTpCd': 'D02', 'rletTpNm': '상가', 'tradTpCd': 'A1', 'tradTpNm': '매매', 'vrfcTpCd': 'OWNER', 'flrInfo': 'B1/32', 'prc': 85000, 'rentPrc': 0, 'hanPrc': '8억 5,000', 'spc1': 190, 'spc2': 83, 'direction': '남향', 'atclCfmYmd': '22.01.28.', 'lat': 37.488123, 'lng': 127.051086, 'tagList': ['25년이내', '주차가능', '남향'], 'bildNm': '', 'minute': 0, 'sameAddrCnt': 1, 'sameAddrDirectCnt': 0, 'cpid': 'bizmk', 'cpNm': '매경부동산', 'cpCnt': 1, 'rltrNm': '타워랜드공인중개사사무소', 'directTradYn': 'N', 'minMviFee': 0, 'maxMviFee': 0, 'etRoomCnt': 0, 'tradePriceHan': '', 'tradeRentPrice': 0, 'tradeCheckedByOwner': False, 'cpLinkVO': {'cpId': 'bizmk', 'mobileArticleLinkTypeCode': 'NONE', 'mobileBmsInspectPassYn': 'Y', 'pcArticleLinkUseAtArticleTitle': False, 'pcArticleLinkUseAtCpName': False, 'mobileArticleLinkUseAtArticleTitle': False, 'mobileArticleLinkUseAtCpName': False}, 'dtlAddrYn': 'N', 'dtlAddr': ''}, {'atclNo': '2203410325', 'cortarNo': '1168010100', 'atclNm': '일반상가', 'atclStatCd': 'R0', 'rletTpCd': 'D02', 'uprRletTpCd': 'D02', 'rletTpNm': '상가', 'tradTpCd': 'A1', 'tradTpNm': '매매', 'vrfcTpCd': 'DOC', 'flrInfo': 'B1/22', 'prc': 52000, 'rentPrc': 0, 'hanPrc': '5억 2,000', 'spc1': 145, 'spc2': 59, 'direction': '북향', 'atclCfmYmd': '22.02.03.', 'lat': 37.503431, 'lng': 127.046732, 'atclFetrDesc': '역삼동 한신인터밸리 내 지하푸드코트 저렴한 상가', 'tagList': ['15년이내', '역세권', '주차가능', '엘리베이터'], 'bildNm': '', 'minute': 0, 'sameAddrCnt': 1, 'sameAddrDirectCnt': 0, 'cpid': 'NEONET', 'cpNm': '부동산뱅크', 'cpCnt': 1, 'rltrNm': '늘찬공인중개사사무소', 'directTradYn': 'N', 'minMviFee': 0, 'maxMviFee': 0, 'etRoomCnt': 0, 'tradePriceHan': '', 'tradeRentPrice': 0, 'tradeCheckedByOwner': False, 'cpLinkVO': {'cpId': 'NEONET', 'mobileArticleLinkTypeCode': 'NONE', 'mobileBmsInspectPassYn': 'Y', 'pcArticleLinkUseAtArticleTitle': False, 'pcArticleLinkUseAtCpName': False, 'mobileArticleLinkUseAtArticleTitle': False, 'mobileArticleLinkUseAtCpName': False}, 'dtlAddrYn': 'N', 'dtlAddr': ''}, {'atclNo': '2203362705', 'cortarNo': '1168011100', 'atclNm': '일반상가', 'atclStatCd': 'R0', 'rletTpCd': 'D02', 'uprRletTpCd': 'D02', 'rletTpNm': '상가', 'tradTpCd': 'A1', 'tradTpNm': '매매', 'vrfcTpCd': 'DOC', 'flrInfo': 'B2/8', 'prc': 70000, 'rentPrc': 0, 'hanPrc': '7억', 'spc1': 264, 'spc2': 145, 'direction': '남향', 'atclCfmYmd': '22.02.03.', 'lat': 37.465783, 'lng': 127.101199, 'atclFetrDesc': '세곡동 대표 상가, 투자로 좋은 물건, 수익률 높음', 'tagList': ['10년이내', '주차가능', '남향'], 'bildNm': '', 'minute': 0, 'sameAddrCnt': 1, 'sameAddrDirectCnt': 0, 'cpid': 'bizmk', 'cpNm': '매경부동산', 'cpCnt': 1, 'rltrNm': '세곡바로공인중개사사무소', 'directTradYn': 'N', 'minMviFee': 0, 'maxMviFee': 0, 'etRoomCnt': 0, 'tradePriceHan': '', 'tradeRentPrice': 0, 'tradeCheckedByOwner': False, 'cpLinkVO': {'cpId': 'bizmk', 'mobileArticleLinkTypeCode': 'NONE', 'mobileBmsInspectPassYn': 'Y', 'pcArticleLinkUseAtArticleTitle': False, 'pcArticleLinkUseAtCpName': False, 'mobileArticleLinkUseAtArticleTitle': False, 'mobileArticleLinkUseAtCpName': False}, 'dtlAddrYn': 'N', 'dtlAddr': ''}, {'atclNo': '2203135032', 'cortarNo': '1168010100', 'atclNm': '복합상가', 'atclStatCd': 'R0', 'rletTpCd': 'D02', 'uprRletTpCd': 'D02', 'rletTpNm': '상가', 'tradTpCd': 'A1', 'tradTpNm': '매매', 'vrfcTpCd': 'DOC', 'flrInfo': '5/5', 'prc': 95000, 'rentPrc': 0, 'hanPrc': '9억 5,000', 'spc1': 245, 'spc2': 100, 'direction': '북향', 'atclCfmYmd': '22.01.28.', 'lat': 37.499225, 'lng': 127.048457, 'atclFetrDesc': '아파트 밀집지역 상권.이마트 유동인구 유입.편리한 주차 ', 'tagList': ['25년이내', '주차가능', '총5층', '북향'], 'bildNm': '한솔필리아', 'minute': 0, 'sameAddrCnt': 1, 'sameAddrDirectCnt': 0, 'cpid': 'bizmk', 'cpNm': '매경부동산', 'cpCnt': 1, 'rltrNm': '강남골드부동산중개', 'directTradYn': 'N', 'minMviFee': 0, 'maxMviFee': 0, 'etRoomCnt': 0, 'tradePriceHan': '', 'tradeRentPrice': 0, 'tradeCheckedByOwner': False, 'cpLinkVO': {'cpId': 'bizmk', 'mobileArticleLinkTypeCode': 'NONE', 'mobileBmsInspectPassYn': 'Y', 'pcArticleLinkUseAtArticleTitle': False, 'pcArticleLinkUseAtCpName': False, 'mobileArticleLinkUseAtArticleTitle': False, 'mobileArticleLinkUseAtCpName': False}, 'dtlAddrYn': 'N', 'dtlAddr': ''}, {'atclNo': '2203097029', 'cortarNo': '1168010300', 'atclNm': '임야', 'atclStatCd': 'R0', 'rletTpCd': 'E03', 'uprRletTpCd': 'E03', 'rletTpNm': '토지', 'tradTpCd': 'A1', 'tradTpNm': '매매', 'vrfcTpCd': 'DOC', 'flrInfo': '-', 'prc': 45000, 'rentPrc': 0, 'hanPrc': '4억 5,000', 'spc1': 2517, 'spc2': 0, 'atclCfmYmd': '22.01.28.', 'lat': 37.474288, 'lng': 127.05723, 'atclFetrDesc': '자연녹지', 'tagList': [], 'bildNm': '', 'minute': 0, 'sameAddrCnt': 1, 'sameAddrDirectCnt': 0, 'cpid': 'bizmk', 'cpNm': '매경부동산', 'cpCnt': 1, 'rltrNm': '어바인사랑공인중개사사무소\\t', 'directTradYn': 'N', 'minMviFee': 0, 'maxMviFee': 0, 'etRoomCnt': 0, 'tradePriceHan': '', 'tradeRentPrice': 0, 'tradeCheckedByOwner': False, 'cpLinkVO': {'cpId': 'bizmk', 'mobileArticleLinkTypeCode': 'NONE', 'mobileBmsInspectPassYn': 'Y', 'pcArticleLinkUseAtArticleTitle': False, 'pcArticleLinkUseAtCpName': False, 'mobileArticleLinkUseAtArticleTitle': False, 'mobileArticleLinkUseAtCpName': False}, 'dtlAddrYn': 'N', 'dtlAddr': ''}, {'atclNo': '2203051431', 'cortarNo': '1168010400', 'atclNm': '다가구', 'atclStatCd': 'R0', 'rletTpCd': 'C03', 'uprRletTpCd': 'C03', 'rletTpNm': '단독/다가구', 'tradTpCd': 'A1', 'tradTpNm': '매매', 'vrfcTpCd': 'DOC', 'flrInfo': '6/B1', 'prc': 68000, 'rentPrc': 0, 'hanPrc': '6억 8,000', 'spc1': 360, 'spc2': 972, 'direction': '남서향', 'atclCfmYmd': '22.01.28.', 'repImgUrl': '/20220128_64/land_naver_1643332939357UYjAw_JPEG/KakaoTalk_20211119_125545856_10.jpg', 'repImgTpCd': '10', 'repImgThumb': 'f130_98', 'lat': 37.519207, 'lng': 127.042305, 'atclFetrDesc': '청담동 강남구청역 역세권 럭셔리 풀옵션 빌라 6.8억 매매', 'tagList': ['4년이내', '역세권', '방한개'], 'bildNm': '', 'minute': 0, 'sameAddrCnt': 1, 'sameAddrDirectCnt': 0, 'cpid': 'bizmk', 'cpNm': '매경부동산', 'cpCnt': 1, 'rltrNm': '(주)아이앤티에셋부동산중개법인', 'directTradYn': 'N', 'minMviFee': 0, 'maxMviFee': 0, 'etRoomCnt': 0, 'tradePriceHan': '', 'tradeRentPrice': 0, 'tradeCheckedByOwner': False, 'cpLinkVO': {'cpId': 'bizmk', 'mobileArticleLinkTypeCode': 'NONE', 'mobileBmsInspectPassYn': 'Y', 'pcArticleLinkUseAtArticleTitle': False, 'pcArticleLinkUseAtCpName': False, 'mobileArticleLinkUseAtArticleTitle': False, 'mobileArticleLinkUseAtCpName': False}, 'dtlAddrYn': 'N', 'dtlAddr': ''}, {'atclNo': '2201799654', 'cortarNo': '1168011200', 'atclNm': '일반상가', 'atclStatCd': 'R0', 'rletTpCd': 'D02', 'uprRletTpCd': 'D02', 'rletTpNm': '상가', 'tradTpCd': 'A1', 'tradTpNm': '매매', 'vrfcTpCd': 'OWNER', 'flrInfo': '4/5', 'prc': 58000, 'rentPrc': 0, 'hanPrc': '5억 8,000', 'spc1': 168, 'spc2': 90, 'direction': '북향', 'atclCfmYmd': '22.01.17.', 'lat': 37.471923, 'lng': 127.095003, 'atclFetrDesc': '초등, 학부모 관련 업종에 적합. 래미안강남힐즈 건너편, 세곡문화센터 접', 'tagList': ['10년이내', '주차가능', '엘리베이터', '총5층'], 'bildNm': '', 'minute': 0, 'sameAddrCnt': 1, 'sameAddrDirectCnt': 0, 'cpid': 'sunbang', 'cpNm': '선방', 'cpCnt': 1, 'rltrNm': '강남삼성공인중개사사무소', 'directTradYn': 'N', 'minMviFee': 0, 'maxMviFee': 0, 'etRoomCnt': 0, 'tradePriceHan': '', 'tradeRentPrice': 0, 'tradeCheckedByOwner': False, 'cpLinkVO': {'cpId': 'sunbang', 'mobileArticleLinkTypeCode': 'NONE', 'mobileBmsInspectPassYn': 'Y', 'pcArticleLinkUseAtArticleTitle': False, 'pcArticleLinkUseAtCpName': False, 'mobileArticleLinkUseAtArticleTitle': False, 'mobileArticleLinkUseAtCpName': False}, 'dtlAddrYn': 'N', 'dtlAddr': ''}, {'atclNo': '2203406520', 'cortarNo': '1168010100', 'atclNm': '중소형사무실', 'atclStatCd': 'R0', 'rletTpCd': 'D01', 'uprRletTpCd': 'D01', 'rletTpNm': '사무실', 'tradTpCd': 'A1', 'tradTpNm': '매매', 'vrfcTpCd': 'DOC', 'flrInfo': '2/5', 'prc': 60000, 'rentPrc': 0, 'hanPrc': '6억', 'spc1': 151, 'spc2': 67, 'direction': '', 'atclCfmYmd': '22.02.03.', 'lat': 37.499225, 'lng': 127.048457, 'atclFetrDesc': '현 임대중인 사무실 매매 6억', 'tagList': ['25년이상', '주차가능', '총5층'], 'bildNm': '한솔필리아', 'minute': 0, 'sameAddrCnt': 1, 'sameAddrDirectCnt': 0, 'cpid': 'bizmk', 'cpNm': '매경부동산', 'cpCnt': 1, 'rltrNm': '임재은공인중개사사무소', 'directTradYn': 'N', 'minMviFee': 0, 'maxMviFee': 0, 'etRoomCnt': 0, 'tradePriceHan': '', 'tradeRentPrice': 0, 'tradeCheckedByOwner': False, 'cpLinkVO': {'cpId': 'bizmk', 'mobileArticleLinkTypeCode': 'NONE', 'mobileBmsInspectPassYn': 'Y', 'pcArticleLinkUseAtArticleTitle': False, 'pcArticleLinkUseAtCpName': False, 'mobileArticleLinkUseAtArticleTitle': False, 'mobileArticleLinkUseAtCpName': False}, 'dtlAddrYn': 'N', 'dtlAddr': ''}, {'atclNo': '2203000649', 'cortarNo': '1168010800', 'atclNm': '빌라', 'atclStatCd': 'R0', 'rletTpCd': 'C02', 'uprRletTpCd': 'C03', 'rletTpNm': '빌라', 'tradTpCd': 'A1', 'tradTpNm': '매매', 'vrfcTpCd': 'DOC', 'flrInfo': '저/4', 'prc': 100000, 'rentPrc': 0, 'hanPrc': '10억', 'spc1': 219, 'spc2': 105, 'direction': '동향', 'atclCfmYmd': '22.01.27.', 'repImgUrl': '/20220127_63/land_naver_1643269403453303gJ_JPEG/60740cb77dee0_origin.jpg', 'repImgTpCd': '10', 'repImgThumb': 'f130_98', 'lat': 37.511244, 'lng': 127.024654, 'tagList': ['25년이상', '역세권', '대형평수'], 'bildNm': '동현빌라', 'minute': 0, 'sameAddrCnt': 1, 'sameAddrDirectCnt': 0, 'cpid': 'toad', 'cpNm': '피터팬의 좋은방구하기', 'cpCnt': 1, 'rltrNm': 'KB공인중개사사무소', 'directTradYn': 'N', 'minMviFee': 0, 'maxMviFee': 0, 'etRoomCnt': 0, 'tradePriceHan': '', 'tradeRentPrice': 0, 'tradeCheckedByOwner': False, 'cpLinkVO': {'cpId': 'toad', 'mobileArticleUrl': 'http://www.peterpanz.com/rd/rd.php?UID=', 'mobileArticleLinkTypeCode': 'ALL', 'mobileBmsInspectPassYn': 'Y', 'pcArticleLinkUseAtArticleTitle': False, 'pcArticleLinkUseAtCpName': False, 'mobileArticleLinkUseAtArticleTitle': True, 'mobileArticleLinkUseAtCpName': True}, 'dtlAddrYn': 'N', 'dtlAddr': ''}, {'atclNo': '2202892447', 'cortarNo': '1168010100', 'atclNm': '복합상가', 'atclStatCd': 'R0', 'rletTpCd': 'D02', 'uprRletTpCd': 'D02', 'rletTpNm': '상가', 'tradTpCd': 'A1', 'tradTpNm': '매매', 'vrfcTpCd': 'DOC', 'flrInfo': 'B2/22', 'prc': 53000, 'rentPrc': 0, 'hanPrc': '5억 3,000', 'spc1': 145, 'spc2': 59, 'direction': '', 'atclCfmYmd': '22.01.26.', 'lat': 37.502977, 'lng': 127.046553, 'tagList': ['15년이내', '역세권', '엘리베이터'], 'bildNm': '', 'minute': 0, 'sameAddrCnt': 1, 'sameAddrDirectCnt': 0, 'cpid': 'gongsilclub', 'cpNm': '공실클럽', 'cpCnt': 1, 'rltrNm': '주식회사더리얼티부동산중개법인', 'directTradYn': 'N', 'minMviFee': 0, 'maxMviFee': 0, 'etRoomCnt': 0, 'tradePriceHan': '', 'tradeRentPrice': 0, 'tradeCheckedByOwner': False, 'cpLinkVO': {'cpId': 'gongsilclub', 'mobileArticleLinkTypeCode': 'NONE', 'mobileBmsInspectPassYn': 'Y', 'pcArticleLinkUseAtArticleTitle': False, 'pcArticleLinkUseAtCpName': False, 'mobileArticleLinkUseAtArticleTitle': False, 'mobileArticleLinkUseAtCpName': False}, 'dtlAddrYn': 'N', 'dtlAddr': ''}, {'atclNo': '2202809533', 'cortarNo': '1168011200', 'atclNm': '임야', 'atclStatCd': 'R0', 'rletTpCd': 'E03', 'uprRletTpCd': 'E03', 'rletTpNm': '토지', 'tradTpCd': 'A1', 'tradTpNm': '매매', 'vrfcTpCd': 'DOC', 'flrInfo': '-', 'prc': 90000, 'rentPrc': 0, 'hanPrc': '9억', 'spc1': 1488, 'spc2': 0, 'atclCfmYmd': '22.01.26.', 'lat': 37.475472, 'lng': 127.097745, 'atclFetrDesc': '자곡동 못골마을 인접한 임야', 'tagList': [], 'bildNm': '', 'minute': 0, 'sameAddrCnt': 1, 'sameAddrDirectCnt': 0, 'cpid': 'bizmk', 'cpNm': '매경부동산', 'cpCnt': 1, 'rltrNm': '금성공인중개사사무소', 'directTradYn': 'N', 'minMviFee': 0, 'maxMviFee': 0, 'etRoomCnt': 0, 'tradePriceHan': '', 'tradeRentPrice': 0, 'tradeCheckedByOwner': False, 'cpLinkVO': {'cpId': 'bizmk', 'mobileArticleLinkTypeCode': 'NONE', 'mobileBmsInspectPassYn': 'Y', 'pcArticleLinkUseAtArticleTitle': False, 'pcArticleLinkUseAtCpName': False, 'mobileArticleLinkUseAtArticleTitle': False, 'mobileArticleLinkUseAtCpName': False}, 'dtlAddrYn': 'N', 'dtlAddr': ''}, {'atclNo': '2202891809', 'cortarNo': '1168010100', 'atclNm': '복합상가', 'atclStatCd': 'R0', 'rletTpCd': 'D02', 'uprRletTpCd': 'D02', 'rletTpNm': '상가', 'tradTpCd': 'A1', 'tradTpNm': '매매', 'vrfcTpCd': 'DOC', 'flrInfo': 'B2/22', 'prc': 100000, 'rentPrc': 0, 'hanPrc': '10억', 'spc1': 275, 'spc2': 111, 'direction': '', 'atclCfmYmd': '22.01.26.', 'lat': 37.502977, 'lng': 127.046553, 'atclFetrDesc': '테헤란로 한신인터밸리 내 지하상가 분할가능', 'tagList': ['15년이내', '역세권', '엘리베이터'], 'bildNm': '', 'minute': 0, 'sameAddrCnt': 1, 'sameAddrDirectCnt': 0, 'cpid': 'gongsilclub', 'cpNm': '공실클럽', 'cpCnt': 1, 'rltrNm': '주식회사더리얼티부동산중개법인', 'directTradYn': 'N', 'minMviFee': 0, 'maxMviFee': 0, 'etRoomCnt': 0, 'tradePriceHan': '', 'tradeRentPrice': 0, 'tradeCheckedByOwner': False, 'cpLinkVO': {'cpId': 'gongsilclub', 'mobileArticleLinkTypeCode': 'NONE', 'mobileBmsInspectPassYn': 'Y', 'pcArticleLinkUseAtArticleTitle': False, 'pcArticleLinkUseAtCpName': False, 'mobileArticleLinkUseAtArticleTitle': False, 'mobileArticleLinkUseAtCpName': False}, 'dtlAddrYn': 'N', 'dtlAddr': ''}, {'atclNo': '2202684125', 'cortarNo': '1168010100', 'atclNm': '복합상가', 'atclStatCd': 'R0', 'rletTpCd': 'D02', 'uprRletTpCd': 'D02', 'rletTpNm': '상가', 'tradTpCd': 'A1', 'tradTpNm': '매매', 'vrfcTpCd': 'DOC', 'flrInfo': 'B1/22', 'prc': 100000, 'rentPrc': 0, 'hanPrc': '10억', 'spc1': 275, 'spc2': 111, 'direction': '북서향', 'atclCfmYmd': '22.01.25.', 'lat': 37.502977, 'lng': 127.046553, 'atclFetrDesc': '선릉역 테헤란로 대로변 한신인터벨리24 지하상가', 'tagList': ['15년이내', '역세권', '주차가능', '엘리베이터'], 'bildNm': '', 'minute': 0, 'sameAddrCnt': 1, 'sameAddrDirectCnt': 0, 'cpid': 'sunbang', 'cpNm': '선방', 'cpCnt': 1, 'rltrNm': '(주)세계로파트너스부동산중개법인', 'directTradYn': 'N', 'minMviFee': 0, 'maxMviFee': 0, 'etRoomCnt': 0, 'tradePriceHan': '', 'tradeRentPrice': 0, 'tradeCheckedByOwner': False, 'cpLinkVO': {'cpId': 'sunbang', 'mobileArticleLinkTypeCode': 'NONE', 'mobileBmsInspectPassYn': 'Y', 'pcArticleLinkUseAtArticleTitle': False, 'pcArticleLinkUseAtCpName': False, 'mobileArticleLinkUseAtArticleTitle': False, 'mobileArticleLinkUseAtCpName': False}, 'dtlAddrYn': 'N', 'dtlAddr': ''}, {'atclNo': '2202658564', 'cortarNo': '1168011800', 'atclNm': '일반상가', 'atclStatCd': 'R0', 'rletTpCd': 'D02', 'uprRletTpCd': 'D02', 'rletTpNm': '상가', 'tradTpCd': 'A1', 'tradTpNm': '매매', 'vrfcTpCd': 'DOC', 'flrInfo': 'B1/31', 'prc': 85000, 'rentPrc': 0, 'hanPrc': '8억 5,000', 'spc1': 297, 'spc2': 158, 'direction': '', 'atclCfmYmd': '22.01.25.', 'lat': 37.486521, 'lng': 127.051889, 'atclFetrDesc': '타워팰리스블럭내 상가   높은수익률', 'tagList': ['25년이내', '엘리베이터', '천장에어컨', '베란다'], 'bildNm': '', 'minute': 0, 'sameAddrCnt': 1, 'sameAddrDirectCnt': 0, 'cpid': 'SERVE', 'cpNm': '부동산써브', 'cpCnt': 1, 'rltrNm': '우성공인중개사무소', 'directTradYn': 'N', 'minMviFee': 0, 'maxMviFee': 0, 'etRoomCnt': 0, 'tradePriceHan': '', 'tradeRentPrice': 0, 'tradeCheckedByOwner': False, 'cpLinkVO': {'cpId': 'SERVE', 'mobileArticleUrl': 'http://m.serve.co.kr/naver/rd.asp?UID=', 'mobileArticleLinkTypeCode': 'CPNAMEONLY', 'mobileBmsInspectPassYn': 'Y', 'pcArticleLinkUseAtArticleTitle': False, 'pcArticleLinkUseAtCpName': False, 'mobileArticleLinkUseAtArticleTitle': False, 'mobileArticleLinkUseAtCpName': True}, 'dtlAddrYn': 'N', 'dtlAddr': ''}, {'atclNo': '2202560950', 'cortarNo': '1168011400', 'atclNm': '단독', 'atclStatCd': 'R0', 'rletTpCd': 'C03', 'uprRletTpCd': 'C03', 'rletTpNm': '단독/다가구', 'tradTpCd': 'A1', 'tradTpNm': '매매', 'vrfcTpCd': 'DOC', 'flrInfo': '1/B4', 'prc': 88000, 'rentPrc': 0, 'hanPrc': '8억 8,000', 'spc1': 197, 'spc2': 249, 'direction': '남동향', 'atclCfmYmd': '22.01.24.', 'lat': 37.491422, 'lng': 127.084222, 'atclFetrDesc': '신축빌라분양 투자강추 3룸 역세권', 'tagList': ['2년이내', '방세개', '화장실두개', '신발장'], 'bildNm': '', 'minute': 0, 'sameAddrCnt': 1, 'sameAddrDirectCnt': 0, 'cpid': 'bizmk', 'cpNm': '매경부동산', 'cpCnt': 1, 'rltrNm': '루체하임(단지내)공인중개사', 'directTradYn': 'N', 'minMviFee': 0, 'maxMviFee': 0, 'etRoomCnt': 0, 'tradePriceHan': '', 'tradeRentPrice': 0, 'tradeCheckedByOwner': False, 'cpLinkVO': {'cpId': 'bizmk', 'mobileArticleLinkTypeCode': 'NONE', 'mobileBmsInspectPassYn': 'Y', 'pcArticleLinkUseAtArticleTitle': False, 'pcArticleLinkUseAtCpName': False, 'mobileArticleLinkUseAtArticleTitle': False, 'mobileArticleLinkUseAtCpName': False}, 'dtlAddrYn': 'N', 'dtlAddr': ''}, {'atclNo': '2202621847', 'cortarNo': '1168010400', 'atclNm': '복합상가', 'atclStatCd': 'R0', 'rletTpCd': 'D02', 'uprRletTpCd': 'D02', 'rletTpNm': '상가', 'tradTpCd': 'A1', 'tradTpNm': '매매', 'vrfcTpCd': 'DOC', 'flrInfo': '2/10', 'prc': 75000, 'rentPrc': 0, 'hanPrc': '7억 5,000', 'spc1': 140, 'spc2': 75, 'direction': '', 'atclCfmYmd': '22.01.24.', 'lat': 37.526434, 'lng': 127.049678, 'atclFetrDesc': '청담동 고급주거지내의 복합상가', 'tagList': ['10년이내'], 'bildNm': '', 'minute': 0, 'sameAddrCnt': 2, 'sameAddrDirectCnt': 0, 'sameAddrHash': '22D02A1N28eab2a00a127259d4fe133bcb81bf167e5cd1ab22816f8a7ca7b6e8e17679d1', 'sameAddrMaxPrc': '7억 5,000', 'sameAddrMinPrc': '7억 5,000', 'cpid': 'SERVE', 'cpNm': '부동산써브', 'cpCnt': 2, 'rltrNm': '미라클부동산중개법인주식회사', 'directTradYn': 'N', 'minMviFee': 0, 'maxMviFee': 0, 'etRoomCnt': 0, 'tradePriceHan': '', 'tradeRentPrice': 0, 'tradeCheckedByOwner': False, 'cpLinkVO': {'cpId': 'SERVE', 'mobileArticleUrl': 'http://m.serve.co.kr/naver/rd.asp?UID=', 'mobileArticleLinkTypeCode': 'CPNAMEONLY', 'mobileBmsInspectPassYn': 'Y', 'pcArticleLinkUseAtArticleTitle': False, 'pcArticleLinkUseAtCpName': False, 'mobileArticleLinkUseAtArticleTitle': False, 'mobileArticleLinkUseAtCpName': True}, 'dtlAddrYn': 'N', 'dtlAddr': ''}, {'atclNo': '2202346837', 'cortarNo': '1168010100', 'atclNm': '일반상가', 'atclStatCd': 'R0', 'rletTpCd': 'D02', 'uprRletTpCd': 'D02', 'rletTpNm': '상가', 'tradTpCd': 'A1', 'tradTpNm': '매매', 'vrfcTpCd': 'DOC', 'flrInfo': 'B2/15', 'prc': 90000, 'rentPrc': 0, 'hanPrc': '9억', 'spc1': 137, 'spc2': 101, 'direction': '북향', 'atclCfmYmd': '22.01.21.', 'lat': 37.506751, 'lng': 127.033135, 'atclFetrDesc': '언주역 8번출구 대로변상가', 'tagList': ['2년이내', '역세권', '엘리베이터', 'CCTV'], 'bildNm': '', 'minute': 0, 'sameAddrCnt': 1, 'sameAddrDirectCnt': 0, 'cpid': 'bizmk', 'cpNm': '매경부동산', 'cpCnt': 1, 'rltrNm': '주식회사더잇부동산중개관리법인', 'directTradYn': 'N', 'minMviFee': 0, 'maxMviFee': 0, 'etRoomCnt': 0, 'tradePriceHan': '', 'tradeRentPrice': 0, 'tradeCheckedByOwner': False, 'cpLinkVO': {'cpId': 'bizmk', 'mobileArticleLinkTypeCode': 'NONE', 'mobileBmsInspectPassYn': 'Y', 'pcArticleLinkUseAtArticleTitle': False, 'pcArticleLinkUseAtCpName': False, 'mobileArticleLinkUseAtArticleTitle': False, 'mobileArticleLinkUseAtCpName': False}, 'dtlAddrYn': 'N', 'dtlAddr': ''}, {'atclNo': '2202792695', 'cortarNo': '1168011800', 'atclNm': '우성캐릭터빌', 'atclStatCd': 'R0', 'rletTpCd': 'A02', 'uprRletTpCd': 'A02', 'rletTpNm': '오피스텔', 'tradTpCd': 'A1', 'tradTpNm': '매매', 'vrfcTpCd': 'DOC', 'flrInfo': '중/9', 'prc': 90000, 'rentPrc': 0, 'hanPrc': '9억', 'spc1': 155, 'spc2': 78, 'direction': '남서향', 'atclCfmYmd': '22.01.26.', 'repImgUrl': '/20220126_277/land_naver_1643159714104QMhNL_JPEG/20160127_151353_001.jpg', 'repImgTpCd': '10', 'repImgThumb': 'f130_98', 'lat': 37.487158, 'lng': 127.051131, 'atclFetrDesc': '저평가오피스텔 임대하기좋은 매물 급매', 'tagList': ['25년이내', '급매', '화장실한개'], 'bildNm': '101동', 'minute': 0, 'sameAddrCnt': 1, 'sameAddrDirectCnt': 0, 'cpid': 'bizmk', 'cpNm': '매경부동산', 'cpCnt': 1, 'rltrNm': '타워이화공인중개사사무소', 'directTradYn': 'N', 'minMviFee': 0, 'maxMviFee': 0, 'etRoomCnt': 0, 'tradePriceHan': '', 'tradeRentPrice': 0, 'tradeCheckedByOwner': False, 'cpLinkVO': {'cpId': 'bizmk', 'mobileArticleLinkTypeCode': 'NONE', 'mobileBmsInspectPassYn': 'Y', 'pcArticleLinkUseAtArticleTitle': False, 'pcArticleLinkUseAtCpName': False, 'mobileArticleLinkUseAtArticleTitle': False, 'mobileArticleLinkUseAtCpName': False}, 'dtlAddrYn': 'N', 'dtlAddr': ''}, {'atclNo': '2202057000', 'cortarNo': '1168011400', 'atclNm': '단독', 'atclStatCd': 'R0', 'rletTpCd': 'C03', 'uprRletTpCd': 'C03', 'rletTpNm': '단독/다가구', 'tradTpCd': 'A1', 'tradTpNm': '매매', 'vrfcTpCd': 'DOC', 'flrInfo': '2/B4', 'prc': 78000, 'rentPrc': 0, 'hanPrc': '7억 8,000', 'spc1': 197, 'spc2': 249, 'direction': '남동향', 'atclCfmYmd': '22.01.19.', 'lat': 37.491422, 'lng': 127.084222, 'atclFetrDesc': '신축빌라분양 투자강추 2룸 3호선대청역10분이내', 'tagList': ['2년이내', '역세권', '화장실한개', '방두개'], 'bildNm': '', 'minute': 0, 'sameAddrCnt': 1, 'sameAddrDirectCnt': 0, 'cpid': 'bizmk', 'cpNm': '매경부동산', 'cpCnt': 1, 'rltrNm': '루체하임(단지내)공인중개사', 'directTradYn': 'N', 'minMviFee': 0, 'maxMviFee': 0, 'etRoomCnt': 0, 'tradePriceHan': '', 'tradeRentPrice': 0, 'tradeCheckedByOwner': False, 'cpLinkVO': {'cpId': 'bizmk', 'mobileArticleLinkTypeCode': 'NONE', 'mobileBmsInspectPassYn': 'Y', 'pcArticleLinkUseAtArticleTitle': False, 'pcArticleLinkUseAtCpName': False, 'mobileArticleLinkUseAtArticleTitle': False, 'mobileArticleLinkUseAtCpName': False}, 'dtlAddrYn': 'N', 'dtlAddr': ''}]}\n"
     ]
    },
    {
     "name": "stdout",
     "output_type": "stream",
     "text": [
      "ok\n",
      "no\n"
     ]
    }
   ],
   "source": [
    "#강남구\n",
    "DONG=str(code[0][\"DONG\"]*100000)\n",
    "LAT=str(code[0][\"LAT\"])\n",
    "LON=str(code[0][\"LON\"])\n",
    "print(DONG)\n",
    "print(get_soup(DONG,LAT,LON,1))\n",
    "datas=pd.DataFrame()\n",
    "\n",
    "for i in range(1,20):\n",
    "    if get_soup(DONG,LAT,LON,i)[\"more\"]==True:\n",
    "        data=get_soup(DONG,LAT,LON,i)[\"body\"]\n",
    "        datas=datas.append(data)\n",
    "        colname =[\"atclNo\",\"cortarNo\",\"rletTpCd\",\"tradTpCd\",\"flrInfo\",\"prc\",\"spc1\",\"spc2\",\"direction\",\"lat\",\"lng\",\"atclFetrDesc\",\"tagList\",\"rltrNm\"]\n",
    "        data_fin=datas[colname]\n",
    "        print(\"ok\")\n",
    "        i += 1\n",
    "    elif get_soup(DONG,LAT,LON,i)[\"more\"]==False:\n",
    "        print(\"no\")\n",
    "        break\n",
    "# data_fin.to_csv(\"gangnam.csv\",header = True,index=False)\n"
   ]
  },
  {
   "cell_type": "code",
   "execution_count": 86,
   "metadata": {
    "scrolled": true
   },
   "outputs": [
    {
     "name": "stdout",
     "output_type": "stream",
     "text": [
      "ok\n",
      "ok\n",
      "ok\n",
      "ok\n",
      "ok\n",
      "ok\n",
      "ok\n",
      "ok\n",
      "ok\n",
      "ok\n",
      "ok\n",
      "ok\n",
      "no\n"
     ]
    }
   ],
   "source": [
    "#강동구\n",
    "DONG=str(code[1][\"DONG\"]*100000)\n",
    "LAT=str(code[1][\"LAT\"])\n",
    "LON=str(code[1][\"LON\"])\n",
    "\n",
    "datas=pd.DataFrame()\n",
    "\n",
    "for i in range(1,20):\n",
    "    if get_soup(DONG,LAT,LON,i)[\"more\"]==True:\n",
    "        data=get_soup(DONG,LAT,LON,i)[\"body\"]\n",
    "        datas=datas.append(data)\n",
    "        i += 1\n",
    "        colname =[\"atclNo\",\"cortarNo\",\"rletTpCd\",\"tradTpCd\",\"flrInfo\",\"prc\",\"spc1\",\"spc2\",\"direction\",\"lat\",\"lng\",\"atclFetrDesc\",\"tagList\",\"rltrNm\"]\n",
    "        data_fin=datas[colname]\n",
    "        print(\"ok\")\n",
    "        \n",
    "    elif get_soup(DONG,LAT,LON,i)[\"more\"]==False:\n",
    "        print(\"no\")\n",
    "        break\n",
    "data_fin.to_csv(\"gandong.csv\",header = True,index=False)"
   ]
  },
  {
   "cell_type": "code",
   "execution_count": 22,
   "metadata": {},
   "outputs": [
    {
     "ename": "JSONDecodeError",
     "evalue": "Expecting value: line 1 column 1 (char 0)",
     "output_type": "error",
     "traceback": [
      "\u001b[1;31m---------------------------------------------------------------------------\u001b[0m",
      "\u001b[1;31mJSONDecodeError\u001b[0m                           Traceback (most recent call last)",
      "\u001b[1;32m<ipython-input-22-8cf224213009>\u001b[0m in \u001b[0;36m<module>\u001b[1;34m\u001b[0m\n\u001b[0;32m      7\u001b[0m \u001b[1;33m\u001b[0m\u001b[0m\n\u001b[0;32m      8\u001b[0m \u001b[1;32mfor\u001b[0m \u001b[0mi\u001b[0m \u001b[1;32min\u001b[0m \u001b[0mrange\u001b[0m\u001b[1;33m(\u001b[0m\u001b[1;36m1\u001b[0m\u001b[1;33m,\u001b[0m\u001b[1;36m40\u001b[0m\u001b[1;33m)\u001b[0m\u001b[1;33m:\u001b[0m\u001b[1;33m\u001b[0m\u001b[1;33m\u001b[0m\u001b[0m\n\u001b[1;32m----> 9\u001b[1;33m     \u001b[1;32mif\u001b[0m \u001b[0mget_soup\u001b[0m\u001b[1;33m(\u001b[0m\u001b[0mDONG\u001b[0m\u001b[1;33m,\u001b[0m\u001b[0mLAT\u001b[0m\u001b[1;33m,\u001b[0m\u001b[0mLON\u001b[0m\u001b[1;33m,\u001b[0m\u001b[0mi\u001b[0m\u001b[1;33m)\u001b[0m\u001b[1;33m[\u001b[0m\u001b[1;34m\"more\"\u001b[0m\u001b[1;33m]\u001b[0m\u001b[1;33m==\u001b[0m\u001b[1;32mTrue\u001b[0m\u001b[1;33m:\u001b[0m\u001b[1;33m\u001b[0m\u001b[1;33m\u001b[0m\u001b[0m\n\u001b[0m\u001b[0;32m     10\u001b[0m         \u001b[0mdata\u001b[0m\u001b[1;33m=\u001b[0m\u001b[0mget_soup\u001b[0m\u001b[1;33m(\u001b[0m\u001b[0mDONG\u001b[0m\u001b[1;33m,\u001b[0m\u001b[0mLAT\u001b[0m\u001b[1;33m,\u001b[0m\u001b[0mLON\u001b[0m\u001b[1;33m,\u001b[0m\u001b[0mi\u001b[0m\u001b[1;33m)\u001b[0m\u001b[1;33m[\u001b[0m\u001b[1;34m\"body\"\u001b[0m\u001b[1;33m]\u001b[0m\u001b[1;33m\u001b[0m\u001b[1;33m\u001b[0m\u001b[0m\n\u001b[0;32m     11\u001b[0m         \u001b[0mdatas\u001b[0m\u001b[1;33m=\u001b[0m\u001b[0mdatas\u001b[0m\u001b[1;33m.\u001b[0m\u001b[0mappend\u001b[0m\u001b[1;33m(\u001b[0m\u001b[0mdata\u001b[0m\u001b[1;33m)\u001b[0m\u001b[1;33m\u001b[0m\u001b[1;33m\u001b[0m\u001b[0m\n",
      "\u001b[1;32m<ipython-input-19-4f4fb79b97f7>\u001b[0m in \u001b[0;36mget_soup\u001b[1;34m(DONG, LAT, LON, PAGE)\u001b[0m\n\u001b[0;32m     22\u001b[0m     \u001b[0mqstring\u001b[0m\u001b[1;33m=\u001b[0m\u001b[1;33m{\u001b[0m\u001b[1;33m**\u001b[0m\u001b[0mcon1\u001b[0m\u001b[1;33m,\u001b[0m\u001b[1;33m**\u001b[0m\u001b[0mcon2\u001b[0m\u001b[1;33m,\u001b[0m\u001b[1;33m**\u001b[0m\u001b[0mcon3\u001b[0m\u001b[1;33m,\u001b[0m\u001b[1;33m**\u001b[0m\u001b[0mcon4\u001b[0m\u001b[1;33m,\u001b[0m\u001b[1;33m**\u001b[0m\u001b[0mspace1\u001b[0m\u001b[1;33m,\u001b[0m\u001b[1;33m**\u001b[0m\u001b[0mspace2\u001b[0m\u001b[1;33m,\u001b[0m\u001b[1;33m**\u001b[0m\u001b[0mprice1\u001b[0m\u001b[1;33m,\u001b[0m\u001b[1;33m**\u001b[0m\u001b[0mprice2\u001b[0m\u001b[1;33m,\u001b[0m\u001b[1;33m**\u001b[0m\u001b[0mdong\u001b[0m\u001b[1;33m,\u001b[0m\u001b[1;33m**\u001b[0m\u001b[0mlat\u001b[0m\u001b[1;33m,\u001b[0m\u001b[1;33m**\u001b[0m\u001b[0mlon\u001b[0m\u001b[1;33m,\u001b[0m\u001b[1;33m**\u001b[0m\u001b[0mlft\u001b[0m\u001b[1;33m,\u001b[0m\u001b[1;33m**\u001b[0m\u001b[0mrgt\u001b[0m\u001b[1;33m,\u001b[0m\u001b[1;33m**\u001b[0m\u001b[0mtop\u001b[0m\u001b[1;33m,\u001b[0m\u001b[1;33m**\u001b[0m\u001b[0mbtm\u001b[0m\u001b[1;33m,\u001b[0m\u001b[1;33m**\u001b[0m\u001b[0mpage\u001b[0m\u001b[1;33m}\u001b[0m\u001b[1;33m\u001b[0m\u001b[1;33m\u001b[0m\u001b[0m\n\u001b[0;32m     23\u001b[0m     \u001b[0mresult\u001b[0m\u001b[1;33m=\u001b[0m\u001b[0mrequests\u001b[0m\u001b[1;33m.\u001b[0m\u001b[0mrequest\u001b[0m\u001b[1;33m(\u001b[0m\u001b[1;34m\"GET\"\u001b[0m\u001b[1;33m,\u001b[0m\u001b[0murl\u001b[0m\u001b[1;33m,\u001b[0m\u001b[0mheaders\u001b[0m\u001b[1;33m=\u001b[0m\u001b[0mHEAD\u001b[0m\u001b[1;33m,\u001b[0m\u001b[0mparams\u001b[0m\u001b[1;33m=\u001b[0m\u001b[0mqstring\u001b[0m\u001b[1;33m,\u001b[0m\u001b[0mtimeout\u001b[0m\u001b[1;33m=\u001b[0m\u001b[1;36m5\u001b[0m\u001b[1;33m)\u001b[0m\u001b[1;33m\u001b[0m\u001b[1;33m\u001b[0m\u001b[0m\n\u001b[1;32m---> 24\u001b[1;33m     \u001b[0mtext\u001b[0m\u001b[1;33m=\u001b[0m\u001b[0mjson\u001b[0m\u001b[1;33m.\u001b[0m\u001b[0mloads\u001b[0m\u001b[1;33m(\u001b[0m\u001b[0mresult\u001b[0m\u001b[1;33m.\u001b[0m\u001b[0mtext\u001b[0m\u001b[1;33m)\u001b[0m\u001b[1;33m\u001b[0m\u001b[1;33m\u001b[0m\u001b[0m\n\u001b[0m\u001b[0;32m     25\u001b[0m     \u001b[1;32mreturn\u001b[0m \u001b[0mtext\u001b[0m\u001b[1;33m\u001b[0m\u001b[1;33m\u001b[0m\u001b[0m\n\u001b[0;32m     26\u001b[0m \u001b[1;33m\u001b[0m\u001b[0m\n",
      "\u001b[1;32m~\\Anaconda3\\lib\\json\\__init__.py\u001b[0m in \u001b[0;36mloads\u001b[1;34m(s, encoding, cls, object_hook, parse_float, parse_int, parse_constant, object_pairs_hook, **kw)\u001b[0m\n\u001b[0;32m    346\u001b[0m             \u001b[0mparse_int\u001b[0m \u001b[1;32mis\u001b[0m \u001b[1;32mNone\u001b[0m \u001b[1;32mand\u001b[0m \u001b[0mparse_float\u001b[0m \u001b[1;32mis\u001b[0m \u001b[1;32mNone\u001b[0m \u001b[1;32mand\u001b[0m\u001b[1;33m\u001b[0m\u001b[1;33m\u001b[0m\u001b[0m\n\u001b[0;32m    347\u001b[0m             parse_constant is None and object_pairs_hook is None and not kw):\n\u001b[1;32m--> 348\u001b[1;33m         \u001b[1;32mreturn\u001b[0m \u001b[0m_default_decoder\u001b[0m\u001b[1;33m.\u001b[0m\u001b[0mdecode\u001b[0m\u001b[1;33m(\u001b[0m\u001b[0ms\u001b[0m\u001b[1;33m)\u001b[0m\u001b[1;33m\u001b[0m\u001b[1;33m\u001b[0m\u001b[0m\n\u001b[0m\u001b[0;32m    349\u001b[0m     \u001b[1;32mif\u001b[0m \u001b[0mcls\u001b[0m \u001b[1;32mis\u001b[0m \u001b[1;32mNone\u001b[0m\u001b[1;33m:\u001b[0m\u001b[1;33m\u001b[0m\u001b[1;33m\u001b[0m\u001b[0m\n\u001b[0;32m    350\u001b[0m         \u001b[0mcls\u001b[0m \u001b[1;33m=\u001b[0m \u001b[0mJSONDecoder\u001b[0m\u001b[1;33m\u001b[0m\u001b[1;33m\u001b[0m\u001b[0m\n",
      "\u001b[1;32m~\\Anaconda3\\lib\\json\\decoder.py\u001b[0m in \u001b[0;36mdecode\u001b[1;34m(self, s, _w)\u001b[0m\n\u001b[0;32m    335\u001b[0m \u001b[1;33m\u001b[0m\u001b[0m\n\u001b[0;32m    336\u001b[0m         \"\"\"\n\u001b[1;32m--> 337\u001b[1;33m         \u001b[0mobj\u001b[0m\u001b[1;33m,\u001b[0m \u001b[0mend\u001b[0m \u001b[1;33m=\u001b[0m \u001b[0mself\u001b[0m\u001b[1;33m.\u001b[0m\u001b[0mraw_decode\u001b[0m\u001b[1;33m(\u001b[0m\u001b[0ms\u001b[0m\u001b[1;33m,\u001b[0m \u001b[0midx\u001b[0m\u001b[1;33m=\u001b[0m\u001b[0m_w\u001b[0m\u001b[1;33m(\u001b[0m\u001b[0ms\u001b[0m\u001b[1;33m,\u001b[0m \u001b[1;36m0\u001b[0m\u001b[1;33m)\u001b[0m\u001b[1;33m.\u001b[0m\u001b[0mend\u001b[0m\u001b[1;33m(\u001b[0m\u001b[1;33m)\u001b[0m\u001b[1;33m)\u001b[0m\u001b[1;33m\u001b[0m\u001b[1;33m\u001b[0m\u001b[0m\n\u001b[0m\u001b[0;32m    338\u001b[0m         \u001b[0mend\u001b[0m \u001b[1;33m=\u001b[0m \u001b[0m_w\u001b[0m\u001b[1;33m(\u001b[0m\u001b[0ms\u001b[0m\u001b[1;33m,\u001b[0m \u001b[0mend\u001b[0m\u001b[1;33m)\u001b[0m\u001b[1;33m.\u001b[0m\u001b[0mend\u001b[0m\u001b[1;33m(\u001b[0m\u001b[1;33m)\u001b[0m\u001b[1;33m\u001b[0m\u001b[1;33m\u001b[0m\u001b[0m\n\u001b[0;32m    339\u001b[0m         \u001b[1;32mif\u001b[0m \u001b[0mend\u001b[0m \u001b[1;33m!=\u001b[0m \u001b[0mlen\u001b[0m\u001b[1;33m(\u001b[0m\u001b[0ms\u001b[0m\u001b[1;33m)\u001b[0m\u001b[1;33m:\u001b[0m\u001b[1;33m\u001b[0m\u001b[1;33m\u001b[0m\u001b[0m\n",
      "\u001b[1;32m~\\Anaconda3\\lib\\json\\decoder.py\u001b[0m in \u001b[0;36mraw_decode\u001b[1;34m(self, s, idx)\u001b[0m\n\u001b[0;32m    353\u001b[0m             \u001b[0mobj\u001b[0m\u001b[1;33m,\u001b[0m \u001b[0mend\u001b[0m \u001b[1;33m=\u001b[0m \u001b[0mself\u001b[0m\u001b[1;33m.\u001b[0m\u001b[0mscan_once\u001b[0m\u001b[1;33m(\u001b[0m\u001b[0ms\u001b[0m\u001b[1;33m,\u001b[0m \u001b[0midx\u001b[0m\u001b[1;33m)\u001b[0m\u001b[1;33m\u001b[0m\u001b[1;33m\u001b[0m\u001b[0m\n\u001b[0;32m    354\u001b[0m         \u001b[1;32mexcept\u001b[0m \u001b[0mStopIteration\u001b[0m \u001b[1;32mas\u001b[0m \u001b[0merr\u001b[0m\u001b[1;33m:\u001b[0m\u001b[1;33m\u001b[0m\u001b[1;33m\u001b[0m\u001b[0m\n\u001b[1;32m--> 355\u001b[1;33m             \u001b[1;32mraise\u001b[0m \u001b[0mJSONDecodeError\u001b[0m\u001b[1;33m(\u001b[0m\u001b[1;34m\"Expecting value\"\u001b[0m\u001b[1;33m,\u001b[0m \u001b[0ms\u001b[0m\u001b[1;33m,\u001b[0m \u001b[0merr\u001b[0m\u001b[1;33m.\u001b[0m\u001b[0mvalue\u001b[0m\u001b[1;33m)\u001b[0m \u001b[1;32mfrom\u001b[0m \u001b[1;32mNone\u001b[0m\u001b[1;33m\u001b[0m\u001b[1;33m\u001b[0m\u001b[0m\n\u001b[0m\u001b[0;32m    356\u001b[0m         \u001b[1;32mreturn\u001b[0m \u001b[0mobj\u001b[0m\u001b[1;33m,\u001b[0m \u001b[0mend\u001b[0m\u001b[1;33m\u001b[0m\u001b[1;33m\u001b[0m\u001b[0m\n",
      "\u001b[1;31mJSONDecodeError\u001b[0m: Expecting value: line 1 column 1 (char 0)"
     ]
    }
   ],
   "source": [
    "#강북구\n",
    "DONG=str(code[2][\"DONG\"]*100000)\n",
    "LAT=str(code[2][\"LAT\"])\n",
    "LON=str(code[2][\"LON\"])\n",
    "\n",
    "datas=pd.DataFrame()\n",
    "\n",
    "for i in range(1,40):\n",
    "    if get_soup(DONG,LAT,LON,i)[\"more\"]==True:\n",
    "        data=get_soup(DONG,LAT,LON,i)[\"body\"]\n",
    "        datas=datas.append(data)\n",
    "        i += 1\n",
    "        colname =[\"atclNo\",\"cortarNo\",\"rletTpCd\",\"tradTpCd\",\"flrInfo\",\"prc\",\"spc1\",\"spc2\",\"direction\",\"lat\",\"lng\",\"atclFetrDesc\",\"tagList\",\"rltrNm\"]\n",
    "        data_fin=datas[colname]\n",
    "        print(\"ok\")\n",
    "        \n",
    "    elif get_soup(DONG,LAT,LON,i)[\"more\"]==False:\n",
    "        print(\"no\")\n",
    "        break\n",
    "data_fin.to_csv(\"ganbook.csv\",header = True,index=False)"
   ]
  },
  {
   "cell_type": "code",
   "execution_count": 28,
   "metadata": {},
   "outputs": [
    {
     "name": "stdout",
     "output_type": "stream",
     "text": [
      "ok\n",
      "ok\n",
      "ok\n",
      "ok\n",
      "ok\n",
      "ok\n"
     ]
    },
    {
     "name": "stderr",
     "output_type": "stream",
     "text": [
      "C:\\Users\\marya\\Anaconda3\\lib\\site-packages\\pandas\\core\\frame.py:6692: FutureWarning: Sorting because non-concatenation axis is not aligned. A future version\n",
      "of pandas will change to not sort by default.\n",
      "\n",
      "To accept the future behavior, pass 'sort=False'.\n",
      "\n",
      "To retain the current behavior and silence the warning, pass 'sort=True'.\n",
      "\n",
      "  sort=sort)\n"
     ]
    },
    {
     "name": "stdout",
     "output_type": "stream",
     "text": [
      "ok\n"
     ]
    },
    {
     "name": "stderr",
     "output_type": "stream",
     "text": [
      "C:\\Users\\marya\\Anaconda3\\lib\\site-packages\\pandas\\core\\indexing.py:1494: FutureWarning: \n",
      "Passing list-likes to .loc or [] with any missing label will raise\n",
      "KeyError in the future, you can use .reindex() as an alternative.\n",
      "\n",
      "See the documentation here:\n",
      "https://pandas.pydata.org/pandas-docs/stable/indexing.html#deprecate-loc-reindex-listlike\n",
      "  return self._getitem_tuple(key)\n"
     ]
    },
    {
     "name": "stdout",
     "output_type": "stream",
     "text": [
      "ok\n",
      "ok\n",
      "ok\n",
      "ok\n",
      "ok\n",
      "ok\n",
      "ok\n",
      "ok\n",
      "ok\n",
      "ok\n",
      "ok\n",
      "ok\n",
      "ok\n",
      "ok\n",
      "ok\n",
      "ok\n",
      "ok\n",
      "ok\n",
      "ok\n",
      "ok\n",
      "ok\n",
      "ok\n"
     ]
    }
   ],
   "source": [
    "#강서구\n",
    "DONG=str(code[3][\"DONG\"]*100000)\n",
    "LAT=str(code[3][\"LAT\"])\n",
    "LON=str(code[3][\"LON\"])\n",
    "\n",
    "datas=pd.DataFrame()\n",
    "\n",
    "for i in range(1,30):\n",
    "    if get_soup(DONG,LAT,LON,i)[\"more\"]==True:\n",
    "        data=get_soup(DONG,LAT,LON,i)[\"body\"]\n",
    "        time.sleep(5)\n",
    "        datas=datas.append(data)\n",
    "        i += 1\n",
    "        colname =[\"atclNo\",\"cortarNo\",\"rletTpCd\",\"tradTpCd\",\"flrInfo\",\"prc\",\"spc1\",\"spc2\",\"direction\",\"lat\",\"lng\",\"atclFetrDesc\",\"tagList\",\"rltrNm\"]\n",
    "        data_fin=datas[colname]\n",
    "        time.sleep(5)\n",
    "        print(\"ok\")\n",
    "        \n",
    "    elif get_soup(DONG,LAT,LON,i)[\"more\"]==False:\n",
    "        print(\"no\")\n",
    "        break\n",
    "data_fin.to_csv(\"ganseo.csv\",header = True,index=False)"
   ]
  },
  {
   "cell_type": "code",
   "execution_count": 30,
   "metadata": {},
   "outputs": [
    {
     "name": "stdout",
     "output_type": "stream",
     "text": [
      "ok\n",
      "ok\n",
      "ok\n",
      "ok\n",
      "ok\n",
      "ok\n",
      "ok\n",
      "ok\n",
      "ok\n",
      "ok\n",
      "ok\n",
      "ok\n",
      "ok\n",
      "ok\n",
      "ok\n",
      "ok\n",
      "ok\n",
      "ok\n",
      "ok\n",
      "ok\n",
      "ok\n",
      "ok\n",
      "ok\n",
      "ok\n",
      "ok\n",
      "no\n"
     ]
    }
   ],
   "source": [
    "#관악구\n",
    "DONG=str(code[4][\"DONG\"]*100000)\n",
    "LAT=str(code[4][\"LAT\"])\n",
    "LON=str(code[4][\"LON\"])\n",
    "\n",
    "datas=pd.DataFrame()\n",
    "\n",
    "for i in range(1,30):\n",
    "    if get_soup(DONG,LAT,LON,i)[\"more\"]==True:\n",
    "        data=get_soup(DONG,LAT,LON,i)[\"body\"]\n",
    "        time.sleep(8)\n",
    "        datas=datas.append(data)\n",
    "        i += 1\n",
    "        colname =[\"atclNo\",\"cortarNo\",\"rletTpCd\",\"tradTpCd\",\"flrInfo\",\"prc\",\"spc1\",\"spc2\",\"direction\",\"lat\",\"lng\",\"atclFetrDesc\",\"tagList\",\"rltrNm\"]\n",
    "        data_fin=datas[colname]\n",
    "        time.sleep(10)\n",
    "        print(\"ok\")\n",
    "        \n",
    "    elif get_soup(DONG,LAT,LON,i)[\"more\"]==False:\n",
    "        print(\"no\")\n",
    "        break\n",
    "data_fin.to_csv(\"gwanak.csv\",header = True,index=False)"
   ]
  },
  {
   "cell_type": "code",
   "execution_count": 31,
   "metadata": {},
   "outputs": [
    {
     "name": "stdout",
     "output_type": "stream",
     "text": [
      "ok\n",
      "ok\n",
      "ok\n",
      "ok\n",
      "ok\n",
      "ok\n",
      "ok\n",
      "ok\n",
      "no\n"
     ]
    }
   ],
   "source": [
    "#광진구\n",
    "DONG=str(code[5][\"DONG\"]*100000)\n",
    "LAT=str(code[5][\"LAT\"])\n",
    "LON=str(code[5][\"LON\"])\n",
    "\n",
    "datas=pd.DataFrame()\n",
    "\n",
    "for i in range(1,30):\n",
    "    if get_soup(DONG,LAT,LON,i)[\"more\"]==True:\n",
    "        data=get_soup(DONG,LAT,LON,i)[\"body\"]\n",
    "        time.sleep(7)\n",
    "        datas=datas.append(data)\n",
    "        i += 1\n",
    "        colname =[\"atclNo\",\"cortarNo\",\"rletTpCd\",\"tradTpCd\",\"flrInfo\",\"prc\",\"spc1\",\"spc2\",\"direction\",\"lat\",\"lng\",\"atclFetrDesc\",\"tagList\",\"rltrNm\"]\n",
    "        data_fin=datas[colname]\n",
    "        time.sleep(8)\n",
    "        print(\"ok\")\n",
    "        \n",
    "    elif get_soup(DONG,LAT,LON,i)[\"more\"]==False:\n",
    "        print(\"no\")\n",
    "        break\n",
    "data_fin.to_csv(\"gwangjin.csv\",header = True,index=False)"
   ]
  },
  {
   "cell_type": "code",
   "execution_count": 32,
   "metadata": {},
   "outputs": [
    {
     "name": "stdout",
     "output_type": "stream",
     "text": [
      "ok\n",
      "ok\n",
      "ok\n",
      "ok\n",
      "ok\n",
      "ok\n",
      "ok\n",
      "ok\n",
      "ok\n",
      "ok\n",
      "ok\n",
      "ok\n",
      "ok\n",
      "ok\n",
      "ok\n",
      "ok\n",
      "ok\n",
      "ok\n",
      "ok\n",
      "ok\n",
      "ok\n",
      "ok\n",
      "ok\n",
      "ok\n",
      "ok\n",
      "ok\n",
      "no\n"
     ]
    }
   ],
   "source": [
    "#구로구\n",
    "DONG=str(code[6][\"DONG\"]*100000)\n",
    "LAT=str(code[6][\"LAT\"])\n",
    "LON=str(code[6][\"LON\"])\n",
    "\n",
    "datas=pd.DataFrame()\n",
    "\n",
    "for i in range(1,30):\n",
    "    if get_soup(DONG,LAT,LON,i)[\"more\"]==True:\n",
    "        data=get_soup(DONG,LAT,LON,i)[\"body\"]\n",
    "        time.sleep(10)\n",
    "        datas=datas.append(data)\n",
    "        i += 1\n",
    "        colname =[\"atclNo\",\"cortarNo\",\"rletTpCd\",\"tradTpCd\",\"flrInfo\",\"prc\",\"spc1\",\"spc2\",\"direction\",\"lat\",\"lng\",\"atclFetrDesc\",\"tagList\",\"rltrNm\"]\n",
    "        data_fin=datas[colname]\n",
    "        time.sleep(7)\n",
    "        print(\"ok\")\n",
    "        \n",
    "    elif get_soup(DONG,LAT,LON,i)[\"more\"]==False:\n",
    "        print(\"no\")\n",
    "        break\n",
    "data_fin.to_csv(\"guro.csv\",header = True,index=False)"
   ]
  },
  {
   "cell_type": "code",
   "execution_count": 33,
   "metadata": {},
   "outputs": [
    {
     "name": "stdout",
     "output_type": "stream",
     "text": [
      "ok\n",
      "ok\n",
      "ok\n",
      "ok\n",
      "ok\n",
      "ok\n",
      "ok\n",
      "ok\n",
      "ok\n",
      "ok\n",
      "ok\n",
      "ok\n",
      "ok\n",
      "ok\n",
      "ok\n",
      "ok\n",
      "ok\n",
      "ok\n",
      "ok\n",
      "ok\n",
      "ok\n",
      "ok\n",
      "ok\n",
      "ok\n",
      "ok\n",
      "ok\n",
      "no\n"
     ]
    }
   ],
   "source": [
    "#금천구\n",
    "DONG=str(code[7][\"DONG\"]*100000)\n",
    "LAT=str(code[7][\"LAT\"])\n",
    "LON=str(code[7][\"LON\"])\n",
    "\n",
    "datas=pd.DataFrame()\n",
    "\n",
    "for i in range(1,30):\n",
    "    if get_soup(DONG,LAT,LON,i)[\"more\"]==True:\n",
    "        data=get_soup(DONG,LAT,LON,i)[\"body\"]\n",
    "        datas=datas.append(data)\n",
    "        time.sleep(11)\n",
    "        i += 1\n",
    "        colname =[\"atclNo\",\"cortarNo\",\"rletTpCd\",\"tradTpCd\",\"flrInfo\",\"prc\",\"spc1\",\"spc2\",\"direction\",\"lat\",\"lng\",\"atclFetrDesc\",\"tagList\",\"rltrNm\"]\n",
    "        data_fin=datas[colname]\n",
    "        time.sleep(11)\n",
    "        print(\"ok\")\n",
    "        \n",
    "    elif get_soup(DONG,LAT,LON,i)[\"more\"]==False:\n",
    "        print(\"no\")\n",
    "        break\n",
    "data_fin.to_csv(\"gmchun.csv\",header = True,index=False)"
   ]
  },
  {
   "cell_type": "code",
   "execution_count": 34,
   "metadata": {},
   "outputs": [
    {
     "name": "stdout",
     "output_type": "stream",
     "text": [
      "ok\n",
      "ok\n",
      "ok\n",
      "ok\n",
      "ok\n",
      "ok\n",
      "ok\n",
      "ok\n",
      "ok\n",
      "ok\n",
      "ok\n",
      "ok\n",
      "ok\n",
      "ok\n",
      "ok\n",
      "ok\n",
      "ok\n",
      "ok\n",
      "ok\n",
      "ok\n",
      "ok\n",
      "ok\n",
      "ok\n",
      "ok\n",
      "ok\n",
      "ok\n",
      "ok\n",
      "ok\n",
      "ok\n"
     ]
    }
   ],
   "source": [
    "#노원구\n",
    "DONG=str(code[8][\"DONG\"]*100000)\n",
    "LAT=str(code[8][\"LAT\"])\n",
    "LON=str(code[8][\"LON\"])\n",
    "\n",
    "datas=pd.DataFrame()\n",
    "\n",
    "for i in range(1,30):\n",
    "    if get_soup(DONG,LAT,LON,i)[\"more\"]==True:\n",
    "        data=get_soup(DONG,LAT,LON,i)[\"body\"]\n",
    "        time.sleep(6)\n",
    "        datas=datas.append(data)\n",
    "        i += 1\n",
    "        colname =[\"atclNo\",\"cortarNo\",\"rletTpCd\",\"tradTpCd\",\"flrInfo\",\"prc\",\"spc1\",\"spc2\",\"direction\",\"lat\",\"lng\",\"atclFetrDesc\",\"tagList\",\"rltrNm\"]\n",
    "        data_fin=datas[colname]\n",
    "        time.sleep(7)\n",
    "        print(\"ok\")\n",
    "        \n",
    "    elif get_soup(DONG,LAT,LON,i)[\"more\"]==False:\n",
    "        print(\"no\")\n",
    "        break\n",
    "data_fin.to_csv(\"nowon.csv\",header = True,index=False)"
   ]
  },
  {
   "cell_type": "code",
   "execution_count": 35,
   "metadata": {},
   "outputs": [
    {
     "name": "stdout",
     "output_type": "stream",
     "text": [
      "ok\n",
      "ok\n",
      "ok\n",
      "ok\n",
      "ok\n",
      "ok\n",
      "ok\n",
      "ok\n",
      "ok\n",
      "ok\n",
      "ok\n",
      "ok\n",
      "ok\n",
      "ok\n",
      "ok\n",
      "ok\n",
      "ok\n",
      "ok\n",
      "ok\n",
      "ok\n",
      "ok\n",
      "ok\n",
      "ok\n",
      "ok\n",
      "ok\n",
      "no\n"
     ]
    }
   ],
   "source": [
    "#도봉구\n",
    "DONG=str(code[9][\"DONG\"]*100000)\n",
    "LAT=str(code[9][\"LAT\"])\n",
    "LON=str(code[9][\"LON\"])\n",
    "\n",
    "datas=pd.DataFrame()\n",
    "\n",
    "for i in range(1,30):\n",
    "    if get_soup(DONG,LAT,LON,i)[\"more\"]==True:\n",
    "        data=get_soup(DONG,LAT,LON,i)[\"body\"]\n",
    "        datas=datas.append(data)\n",
    "        time.sleep(10)\n",
    "        i += 1\n",
    "        colname =[\"atclNo\",\"cortarNo\",\"rletTpCd\",\"tradTpCd\",\"flrInfo\",\"prc\",\"spc1\",\"spc2\",\"direction\",\"lat\",\"lng\",\"atclFetrDesc\",\"tagList\",\"rltrNm\"]\n",
    "        data_fin=datas[colname]\n",
    "        time.sleep(7)\n",
    "        print(\"ok\")\n",
    "        \n",
    "    elif get_soup(DONG,LAT,LON,i)[\"more\"]==False:\n",
    "        print(\"no\")\n",
    "        break\n",
    "data_fin.to_csv(\"dobong.csv\",header = True,index=False)"
   ]
  },
  {
   "cell_type": "code",
   "execution_count": 29,
   "metadata": {},
   "outputs": [
    {
     "name": "stdout",
     "output_type": "stream",
     "text": [
      "ok\n",
      "ok\n",
      "ok\n",
      "ok\n",
      "ok\n",
      "ok\n",
      "ok\n",
      "ok\n",
      "ok\n",
      "ok\n",
      "ok\n",
      "ok\n",
      "ok\n",
      "ok\n",
      "ok\n",
      "ok\n",
      "ok\n",
      "no\n"
     ]
    }
   ],
   "source": [
    "#동대문구\n",
    "DONG=str(code[10][\"DONG\"]*100000)\n",
    "LAT=str(code[10][\"LAT\"])\n",
    "LON=str(code[10][\"LON\"])\n",
    "\n",
    "datas=pd.DataFrame()\n",
    "\n",
    "for i in range(1,30):\n",
    "    if get_soup(DONG,LAT,LON,i)[\"more\"]==True:\n",
    "        data=get_soup(DONG,LAT,LON,i)[\"body\"]\n",
    "        time.sleep(5)\n",
    "        datas=datas.append(data)\n",
    "        i += 1\n",
    "        colname =[\"atclNo\",\"cortarNo\",\"rletTpCd\",\"tradTpCd\",\"flrInfo\",\"prc\",\"spc1\",\"spc2\",\"direction\",\"lat\",\"lng\",\"atclFetrDesc\",\"tagList\",\"rltrNm\"]\n",
    "        data_fin=datas[colname]\n",
    "        time.sleep(5)\n",
    "        print(\"ok\")\n",
    "        \n",
    "    elif get_soup(DONG,LAT,LON,i)[\"more\"]==False:\n",
    "        print(\"no\")\n",
    "        break\n",
    "data_fin.to_csv(\"dongdaemun.csv\",header = True,index=False)"
   ]
  },
  {
   "cell_type": "code",
   "execution_count": 36,
   "metadata": {},
   "outputs": [
    {
     "name": "stdout",
     "output_type": "stream",
     "text": [
      "ok\n",
      "ok\n",
      "ok\n",
      "ok\n",
      "ok\n",
      "ok\n",
      "ok\n",
      "ok\n",
      "ok\n",
      "ok\n",
      "ok\n",
      "ok\n",
      "ok\n",
      "ok\n",
      "no\n"
     ]
    }
   ],
   "source": [
    "#동작구\n",
    "DONG=str(code[11][\"DONG\"]*100000)\n",
    "LAT=str(code[11][\"LAT\"])\n",
    "LON=str(code[11][\"LON\"])\n",
    "\n",
    "datas=pd.DataFrame()\n",
    "\n",
    "for i in range(1,30):\n",
    "    if get_soup(DONG,LAT,LON,i)[\"more\"]==True:\n",
    "        data=get_soup(DONG,LAT,LON,i)[\"body\"]\n",
    "        time.sleep(5)\n",
    "        datas=datas.append(data)\n",
    "        i += 1\n",
    "        colname =[\"atclNo\",\"cortarNo\",\"rletTpCd\",\"tradTpCd\",\"flrInfo\",\"prc\",\"spc1\",\"spc2\",\"direction\",\"lat\",\"lng\",\"atclFetrDesc\",\"tagList\",\"rltrNm\"]\n",
    "        data_fin=datas[colname]\n",
    "        time.sleep(8)\n",
    "        print(\"ok\")\n",
    "        \n",
    "    elif get_soup(DONG,LAT,LON,i)[\"more\"]==False:\n",
    "        print(\"no\")\n",
    "        break\n",
    "data_fin.to_csv(\"dongjak.csv\",header = True,index=False)"
   ]
  },
  {
   "cell_type": "code",
   "execution_count": 37,
   "metadata": {},
   "outputs": [
    {
     "name": "stdout",
     "output_type": "stream",
     "text": [
      "ok\n",
      "ok\n",
      "ok\n",
      "ok\n",
      "ok\n",
      "ok\n",
      "ok\n",
      "ok\n",
      "no\n"
     ]
    }
   ],
   "source": [
    "#마포구\n",
    "DONG=str(code[12][\"DONG\"]*100000)\n",
    "LAT=str(code[12][\"LAT\"])\n",
    "LON=str(code[12][\"LON\"])\n",
    "\n",
    "datas=pd.DataFrame()\n",
    "\n",
    "for i in range(1,30):\n",
    "    if get_soup(DONG,LAT,LON,i)[\"more\"]==True:\n",
    "        data=get_soup(DONG,LAT,LON,i)[\"body\"]\n",
    "        time.sleep(6)\n",
    "        datas=datas.append(data)\n",
    "        i += 1\n",
    "        colname =[\"atclNo\",\"cortarNo\",\"rletTpCd\",\"tradTpCd\",\"flrInfo\",\"prc\",\"spc1\",\"spc2\",\"direction\",\"lat\",\"lng\",\"atclFetrDesc\",\"tagList\",\"rltrNm\"]\n",
    "        data_fin=datas[colname]\n",
    "        time.sleep(7)\n",
    "        print(\"ok\")\n",
    "        \n",
    "    elif get_soup(DONG,LAT,LON,i)[\"more\"]==False:\n",
    "        print(\"no\")\n",
    "        break\n",
    "data_fin.to_csv(\"mapo.csv\",header = True,index=False)"
   ]
  },
  {
   "cell_type": "code",
   "execution_count": 38,
   "metadata": {},
   "outputs": [
    {
     "name": "stdout",
     "output_type": "stream",
     "text": [
      "ok\n",
      "ok\n",
      "ok\n",
      "ok\n",
      "ok\n",
      "ok\n",
      "ok\n",
      "ok\n",
      "ok\n",
      "ok\n",
      "ok\n",
      "ok\n",
      "ok\n",
      "ok\n",
      "ok\n",
      "ok\n",
      "ok\n",
      "ok\n",
      "no\n"
     ]
    }
   ],
   "source": [
    "#서대문구\n",
    "DONG=str(code[13][\"DONG\"]*100000)\n",
    "LAT=str(code[13][\"LAT\"])\n",
    "LON=str(code[13][\"LON\"])\n",
    "\n",
    "datas=pd.DataFrame()\n",
    "\n",
    "for i in range(1,30):\n",
    "    if get_soup(DONG,LAT,LON,i)[\"more\"]==True:\n",
    "        data=get_soup(DONG,LAT,LON,i)[\"body\"]\n",
    "        time.sleep(8)\n",
    "        datas=datas.append(data)\n",
    "        i += 1\n",
    "        colname =[\"atclNo\",\"cortarNo\",\"rletTpCd\",\"tradTpCd\",\"flrInfo\",\"prc\",\"spc1\",\"spc2\",\"direction\",\"lat\",\"lng\",\"atclFetrDesc\",\"tagList\",\"rltrNm\"]\n",
    "        data_fin=datas[colname]\n",
    "        time.sleep(5)\n",
    "        print(\"ok\")\n",
    "        \n",
    "    elif get_soup(DONG,LAT,LON,i)[\"more\"]==False:\n",
    "        print(\"no\")\n",
    "        break\n",
    "data_fin.to_csv(\"seodaemun.csv\",header = True,index=False)"
   ]
  },
  {
   "cell_type": "code",
   "execution_count": 39,
   "metadata": {},
   "outputs": [
    {
     "name": "stdout",
     "output_type": "stream",
     "text": [
      "ok\n",
      "ok\n",
      "ok\n",
      "ok\n",
      "ok\n",
      "ok\n",
      "ok\n",
      "no\n"
     ]
    }
   ],
   "source": [
    "#서초구\n",
    "DONG=str(code[14][\"DONG\"]*100000)\n",
    "LAT=str(code[14][\"LAT\"])\n",
    "LON=str(code[14][\"LON\"])\n",
    "\n",
    "datas=pd.DataFrame()\n",
    "\n",
    "for i in range(1,30):\n",
    "    if get_soup(DONG,LAT,LON,i)[\"more\"]==True:\n",
    "        data=get_soup(DONG,LAT,LON,i)[\"body\"]\n",
    "        time.sleep(7)\n",
    "        datas=datas.append(data)\n",
    "        i += 1\n",
    "        colname =[\"atclNo\",\"cortarNo\",\"rletTpCd\",\"tradTpCd\",\"flrInfo\",\"prc\",\"spc1\",\"spc2\",\"direction\",\"lat\",\"lng\",\"atclFetrDesc\",\"tagList\",\"rltrNm\"]\n",
    "        data_fin=datas[colname]\n",
    "        time.sleep(5)\n",
    "        print(\"ok\")\n",
    "        \n",
    "    elif get_soup(DONG,LAT,LON,i)[\"more\"]==False:\n",
    "        print(\"no\")\n",
    "        break\n",
    "data_fin.to_csv(\"seocho.csv\",header = True,index=False)"
   ]
  },
  {
   "cell_type": "code",
   "execution_count": 40,
   "metadata": {},
   "outputs": [
    {
     "name": "stdout",
     "output_type": "stream",
     "text": [
      "ok\n",
      "ok\n",
      "ok\n",
      "ok\n",
      "ok\n",
      "ok\n",
      "ok\n",
      "ok\n",
      "ok\n",
      "ok\n",
      "ok\n",
      "ok\n",
      "ok\n",
      "ok\n",
      "no\n"
     ]
    }
   ],
   "source": [
    "#성동구\n",
    "DONG=str(code[15][\"DONG\"]*100000)\n",
    "LAT=str(code[15][\"LAT\"])\n",
    "LON=str(code[15][\"LON\"])\n",
    "\n",
    "datas=pd.DataFrame()\n",
    "\n",
    "for i in range(1,30):\n",
    "    if get_soup(DONG,LAT,LON,i)[\"more\"]==True:\n",
    "        data=get_soup(DONG,LAT,LON,i)[\"body\"]\n",
    "        time.sleep(5)\n",
    "        datas=datas.append(data)\n",
    "        i += 1\n",
    "        colname =[\"atclNo\",\"cortarNo\",\"rletTpCd\",\"tradTpCd\",\"flrInfo\",\"prc\",\"spc1\",\"spc2\",\"direction\",\"lat\",\"lng\",\"atclFetrDesc\",\"tagList\",\"rltrNm\"]\n",
    "        data_fin=datas[colname]\n",
    "        time.sleep(5)\n",
    "        print(\"ok\")\n",
    "        \n",
    "    elif get_soup(DONG,LAT,LON,i)[\"more\"]==False:\n",
    "        print(\"no\")\n",
    "        break\n",
    "data_fin.to_csv(\"seongdong.csv\",header = True,index=False)"
   ]
  },
  {
   "cell_type": "code",
   "execution_count": 41,
   "metadata": {},
   "outputs": [
    {
     "name": "stdout",
     "output_type": "stream",
     "text": [
      "ok\n",
      "ok\n",
      "ok\n",
      "ok\n",
      "ok\n",
      "ok\n",
      "ok\n",
      "ok\n",
      "ok\n",
      "ok\n",
      "ok\n",
      "ok\n",
      "ok\n",
      "ok\n",
      "ok\n",
      "ok\n",
      "ok\n",
      "ok\n",
      "ok\n",
      "ok\n",
      "ok\n",
      "ok\n",
      "ok\n",
      "ok\n",
      "ok\n",
      "ok\n",
      "ok\n",
      "ok\n",
      "ok\n"
     ]
    }
   ],
   "source": [
    "#성북구\n",
    "DONG=str(code[16][\"DONG\"]*100000)\n",
    "LAT=str(code[16][\"LAT\"])\n",
    "LON=str(code[16][\"LON\"])\n",
    "\n",
    "datas=pd.DataFrame()\n",
    "\n",
    "for i in range(1,30):\n",
    "    if get_soup(DONG,LAT,LON,i)[\"more\"]==True:\n",
    "        data=get_soup(DONG,LAT,LON,i)[\"body\"]\n",
    "        datas=datas.append(data)\n",
    "        time.sleep(5)\n",
    "        i += 1\n",
    "        colname =[\"atclNo\",\"cortarNo\",\"rletTpCd\",\"tradTpCd\",\"flrInfo\",\"prc\",\"spc1\",\"spc2\",\"direction\",\"lat\",\"lng\",\"atclFetrDesc\",\"tagList\",\"rltrNm\"]\n",
    "        data_fin=datas[colname]\n",
    "        time.sleep(5)\n",
    "        print(\"ok\")\n",
    "        \n",
    "    elif get_soup(DONG,LAT,LON,i)[\"more\"]==False:\n",
    "        print(\"no\")\n",
    "        break\n",
    "data_fin.to_csv(\"seongbook.csv\",header = True,index=False)"
   ]
  },
  {
   "cell_type": "code",
   "execution_count": 42,
   "metadata": {},
   "outputs": [
    {
     "name": "stdout",
     "output_type": "stream",
     "text": [
      "ok\n",
      "ok\n",
      "ok\n",
      "ok\n",
      "ok\n",
      "ok\n",
      "ok\n",
      "ok\n",
      "ok\n",
      "ok\n",
      "ok\n",
      "ok\n",
      "ok\n",
      "ok\n",
      "ok\n",
      "ok\n",
      "ok\n",
      "ok\n",
      "ok\n",
      "ok\n",
      "ok\n",
      "no\n"
     ]
    }
   ],
   "source": [
    "#송파구\n",
    "DONG=str(code[17][\"DONG\"]*100000)\n",
    "LAT=str(code[17][\"LAT\"])\n",
    "LON=str(code[17][\"LON\"])\n",
    "\n",
    "datas=pd.DataFrame()\n",
    "\n",
    "for i in range(1,30):\n",
    "    if get_soup(DONG,LAT,LON,i)[\"more\"]==True:\n",
    "        data=get_soup(DONG,LAT,LON,i)[\"body\"]\n",
    "        datas=datas.append(data)\n",
    "        time.sleep(5)\n",
    "        i += 1\n",
    "        colname =[\"atclNo\",\"cortarNo\",\"rletTpCd\",\"tradTpCd\",\"flrInfo\",\"prc\",\"spc1\",\"spc2\",\"direction\",\"lat\",\"lng\",\"atclFetrDesc\",\"tagList\",\"rltrNm\"]\n",
    "        data_fin=datas[colname]\n",
    "        time.sleep(5)\n",
    "        print(\"ok\")\n",
    "        \n",
    "    elif get_soup(DONG,LAT,LON,i)[\"more\"]==False:\n",
    "        print(\"no\")\n",
    "        break\n",
    "data_fin.to_csv(\"songpa.csv\",header = True,index=False)"
   ]
  },
  {
   "cell_type": "code",
   "execution_count": 43,
   "metadata": {},
   "outputs": [
    {
     "name": "stdout",
     "output_type": "stream",
     "text": [
      "ok\n",
      "ok\n",
      "ok\n",
      "ok\n",
      "ok\n",
      "ok\n",
      "ok\n",
      "ok\n",
      "ok\n",
      "ok\n",
      "ok\n",
      "ok\n",
      "ok\n",
      "ok\n",
      "ok\n",
      "ok\n",
      "no\n"
     ]
    }
   ],
   "source": [
    "#양천구\n",
    "DONG=str(code[18][\"DONG\"]*100000)\n",
    "LAT=str(code[18][\"LAT\"])\n",
    "LON=str(code[18][\"LON\"])\n",
    "\n",
    "datas=pd.DataFrame()\n",
    "\n",
    "for i in range(1,30):\n",
    "    if get_soup(DONG,LAT,LON,i)[\"more\"]==True:\n",
    "        data=get_soup(DONG,LAT,LON,i)[\"body\"]\n",
    "        time.sleep(5)\n",
    "        datas=datas.append(data)\n",
    "        i += 1\n",
    "        colname =[\"atclNo\",\"cortarNo\",\"rletTpCd\",\"tradTpCd\",\"flrInfo\",\"prc\",\"spc1\",\"spc2\",\"direction\",\"lat\",\"lng\",\"atclFetrDesc\",\"tagList\",\"rltrNm\"]\n",
    "        data_fin=datas[colname]\n",
    "        time.sleep(5)\n",
    "        print(\"ok\")\n",
    "        \n",
    "    elif get_soup(DONG,LAT,LON,i)[\"more\"]==False:\n",
    "        print(\"no\")\n",
    "        break\n",
    "data_fin.to_csv(\"yangchun.csv\",header = True,index=False)"
   ]
  },
  {
   "cell_type": "code",
   "execution_count": 44,
   "metadata": {},
   "outputs": [
    {
     "name": "stdout",
     "output_type": "stream",
     "text": [
      "ok\n",
      "ok\n",
      "ok\n",
      "ok\n",
      "ok\n",
      "ok\n",
      "ok\n",
      "ok\n",
      "ok\n",
      "ok\n",
      "ok\n",
      "ok\n",
      "ok\n",
      "ok\n",
      "ok\n",
      "no\n"
     ]
    }
   ],
   "source": [
    "#영등포구\n",
    "DONG=str(code[19][\"DONG\"]*100000)\n",
    "LAT=str(code[19][\"LAT\"])\n",
    "LON=str(code[19][\"LON\"])\n",
    "\n",
    "datas=pd.DataFrame()\n",
    "\n",
    "for i in range(1,30):\n",
    "    if get_soup(DONG,LAT,LON,i)[\"more\"]==True:\n",
    "        data=get_soup(DONG,LAT,LON,i)[\"body\"]\n",
    "        time.sleep(5)\n",
    "        datas=datas.append(data)\n",
    "        i += 1\n",
    "        colname =[\"atclNo\",\"cortarNo\",\"rletTpCd\",\"tradTpCd\",\"flrInfo\",\"prc\",\"spc1\",\"spc2\",\"direction\",\"lat\",\"lng\",\"atclFetrDesc\",\"tagList\",\"rltrNm\"]\n",
    "        data_fin=datas[colname]\n",
    "        time.sleep(5)\n",
    "        print(\"ok\")\n",
    "        \n",
    "    elif get_soup(DONG,LAT,LON,i)[\"more\"]==False:\n",
    "        print(\"no\")\n",
    "        break\n",
    "data_fin.to_csv(\"yeongdongpo.csv\",header = True,index=False)"
   ]
  },
  {
   "cell_type": "code",
   "execution_count": 45,
   "metadata": {},
   "outputs": [
    {
     "name": "stdout",
     "output_type": "stream",
     "text": [
      "ok\n",
      "ok\n",
      "ok\n",
      "ok\n",
      "ok\n",
      "no\n"
     ]
    }
   ],
   "source": [
    "#용산구\n",
    "DONG=str(code[20][\"DONG\"]*100000)\n",
    "LAT=str(code[20][\"LAT\"])\n",
    "LON=str(code[20][\"LON\"])\n",
    "\n",
    "datas=pd.DataFrame()\n",
    "\n",
    "for i in range(1,30):\n",
    "    if get_soup(DONG,LAT,LON,i)[\"more\"]==True:\n",
    "        data=get_soup(DONG,LAT,LON,i)[\"body\"]\n",
    "        time.sleep(5)\n",
    "        datas=datas.append(data)\n",
    "        i += 1\n",
    "        colname =[\"atclNo\",\"cortarNo\",\"rletTpCd\",\"tradTpCd\",\"flrInfo\",\"prc\",\"spc1\",\"spc2\",\"direction\",\"lat\",\"lng\",\"atclFetrDesc\",\"tagList\",\"rltrNm\"]\n",
    "        data_fin=datas[colname]\n",
    "        time.sleep(5)\n",
    "        print(\"ok\")\n",
    "        \n",
    "    elif get_soup(DONG,LAT,LON,i)[\"more\"]==False:\n",
    "        print(\"no\")\n",
    "        break\n",
    "data_fin.to_csv(\"yongsan.csv\",header = True,index=False)"
   ]
  },
  {
   "cell_type": "code",
   "execution_count": 46,
   "metadata": {},
   "outputs": [
    {
     "name": "stdout",
     "output_type": "stream",
     "text": [
      "ok\n",
      "ok\n",
      "ok\n",
      "ok\n",
      "ok\n",
      "ok\n",
      "ok\n",
      "ok\n",
      "ok\n",
      "ok\n",
      "ok\n",
      "ok\n",
      "ok\n",
      "ok\n",
      "ok\n",
      "ok\n",
      "ok\n",
      "ok\n",
      "ok\n",
      "ok\n",
      "ok\n",
      "ok\n",
      "ok\n",
      "ok\n",
      "ok\n",
      "ok\n",
      "ok\n",
      "ok\n",
      "ok\n"
     ]
    }
   ],
   "source": [
    "#은평구\n",
    "DONG=str(code[21][\"DONG\"]*100000)\n",
    "LAT=str(code[21][\"LAT\"])\n",
    "LON=str(code[21][\"LON\"])\n",
    "\n",
    "datas=pd.DataFrame()\n",
    "\n",
    "for i in range(1,30):\n",
    "    if get_soup(DONG,LAT,LON,i)[\"more\"]==True:\n",
    "        data=get_soup(DONG,LAT,LON,i)[\"body\"]\n",
    "        datas=datas.append(data)\n",
    "        time.sleep(5)\n",
    "        i += 1\n",
    "        colname =[\"atclNo\",\"cortarNo\",\"rletTpCd\",\"tradTpCd\",\"flrInfo\",\"prc\",\"spc1\",\"spc2\",\"direction\",\"lat\",\"lng\",\"atclFetrDesc\",\"tagList\",\"rltrNm\"]\n",
    "        data_fin=datas[colname]\n",
    "        time.sleep(5)\n",
    "        print(\"ok\")\n",
    "        \n",
    "    elif get_soup(DONG,LAT,LON,i)[\"more\"]==False:\n",
    "        print(\"no\")\n",
    "        break\n",
    "data_fin.to_csv(\"unpyung.csv\",header = True,index=False)"
   ]
  },
  {
   "cell_type": "code",
   "execution_count": 47,
   "metadata": {},
   "outputs": [
    {
     "name": "stdout",
     "output_type": "stream",
     "text": [
      "ok\n",
      "ok\n",
      "ok\n",
      "ok\n",
      "ok\n",
      "ok\n",
      "ok\n",
      "ok\n",
      "ok\n",
      "ok\n",
      "no\n"
     ]
    }
   ],
   "source": [
    "#종로구\n",
    "DONG=str(code[22][\"DONG\"]*100000)\n",
    "LAT=str(code[22][\"LAT\"])\n",
    "LON=str(code[22][\"LON\"])\n",
    "\n",
    "datas=pd.DataFrame()\n",
    "\n",
    "for i in range(1,30):\n",
    "    if get_soup(DONG,LAT,LON,i)[\"more\"]==True:\n",
    "        data=get_soup(DONG,LAT,LON,i)[\"body\"]\n",
    "        time.sleep(5)\n",
    "        datas=datas.append(data)\n",
    "        i += 1\n",
    "        colname =[\"atclNo\",\"cortarNo\",\"rletTpCd\",\"tradTpCd\",\"flrInfo\",\"prc\",\"spc1\",\"spc2\",\"direction\",\"lat\",\"lng\",\"atclFetrDesc\",\"tagList\",\"rltrNm\"]\n",
    "        data_fin=datas[colname]\n",
    "        time.sleep(5)\n",
    "        print(\"ok\")\n",
    "        \n",
    "    elif get_soup(DONG,LAT,LON,i)[\"more\"]==False:\n",
    "        print(\"no\")\n",
    "        break\n",
    "data_fin.to_csv(\"jongro.csv\",header = True,index=False)"
   ]
  },
  {
   "cell_type": "code",
   "execution_count": 48,
   "metadata": {},
   "outputs": [
    {
     "name": "stdout",
     "output_type": "stream",
     "text": [
      "ok\n",
      "ok\n",
      "ok\n",
      "ok\n",
      "ok\n",
      "no\n"
     ]
    }
   ],
   "source": [
    "#중구\n",
    "DONG=str(code[23][\"DONG\"]*100000)\n",
    "LAT=str(code[23][\"LAT\"])\n",
    "LON=str(code[23][\"LON\"])\n",
    "\n",
    "datas=pd.DataFrame()\n",
    "\n",
    "for i in range(1,30):\n",
    "    if get_soup(DONG,LAT,LON,i)[\"more\"]==True:\n",
    "        data=get_soup(DONG,LAT,LON,i)[\"body\"]\n",
    "        time.sleep(5)\n",
    "        datas=datas.append(data)\n",
    "        i += 1\n",
    "        colname =[\"atclNo\",\"cortarNo\",\"rletTpCd\",\"tradTpCd\",\"flrInfo\",\"prc\",\"spc1\",\"spc2\",\"direction\",\"lat\",\"lng\",\"atclFetrDesc\",\"tagList\",\"rltrNm\"]\n",
    "        data_fin=datas[colname]\n",
    "        time.sleep(5)\n",
    "        print(\"ok\")\n",
    "        \n",
    "    elif get_soup(DONG,LAT,LON,i)[\"more\"]==False:\n",
    "        print(\"no\")\n",
    "        break\n",
    "data_fin.to_csv(\"junggu.csv\",header = True,index=False)"
   ]
  },
  {
   "cell_type": "code",
   "execution_count": 49,
   "metadata": {},
   "outputs": [
    {
     "name": "stdout",
     "output_type": "stream",
     "text": [
      "ok\n",
      "ok\n",
      "ok\n",
      "ok\n",
      "ok\n",
      "ok\n",
      "ok\n",
      "ok\n",
      "ok\n",
      "ok\n",
      "ok\n",
      "ok\n",
      "ok\n",
      "ok\n",
      "ok\n",
      "ok\n",
      "no\n"
     ]
    }
   ],
   "source": [
    "#중랑구\n",
    "DONG=str(code[24][\"DONG\"]*100000)\n",
    "LAT=str(code[24][\"LAT\"])\n",
    "LON=str(code[24][\"LON\"])\n",
    "\n",
    "datas=pd.DataFrame()\n",
    "\n",
    "for i in range(1,30):\n",
    "    if get_soup(DONG,LAT,LON,i)[\"more\"]==True:\n",
    "        data=get_soup(DONG,LAT,LON,i)[\"body\"]\n",
    "        time.sleep(5)\n",
    "        datas=datas.append(data)\n",
    "        i += 1\n",
    "        colname =[\"atclNo\",\"cortarNo\",\"rletTpCd\",\"tradTpCd\",\"flrInfo\",\"prc\",\"spc1\",\"spc2\",\"direction\",\"lat\",\"lng\",\"atclFetrDesc\",\"tagList\",\"rltrNm\"]\n",
    "        data_fin=datas[colname]\n",
    "        time.sleep(5)\n",
    "        print(\"ok\")\n",
    "        \n",
    "    elif get_soup(DONG,LAT,LON,i)[\"more\"]==False:\n",
    "        print(\"no\")\n",
    "        break\n",
    "data_fin.to_csv(\"jungrang.csv\",header = True,index=False)"
   ]
  },
  {
   "cell_type": "code",
   "execution_count": null,
   "metadata": {},
   "outputs": [],
   "source": []
  },
  {
   "cell_type": "code",
   "execution_count": null,
   "metadata": {},
   "outputs": [],
   "source": []
  },
  {
   "cell_type": "code",
   "execution_count": 87,
   "metadata": {},
   "outputs": [
    {
     "name": "stdout",
     "output_type": "stream",
     "text": [
      "ok\n",
      "ok\n",
      "ok\n",
      "ok\n",
      "ok\n",
      "ok\n",
      "ok\n",
      "no\n",
      "ok\n",
      "ok\n",
      "ok\n",
      "ok\n",
      "ok\n",
      "ok\n",
      "ok\n",
      "ok\n",
      "ok\n",
      "ok\n",
      "ok\n",
      "ok\n",
      "no\n",
      "ok\n",
      "ok\n",
      "ok\n",
      "ok\n",
      "ok\n",
      "ok\n",
      "ok\n",
      "ok\n",
      "ok\n",
      "ok\n",
      "ok\n",
      "ok\n",
      "ok\n",
      "ok\n",
      "ok\n",
      "ok\n",
      "ok\n",
      "ok\n",
      "ok\n",
      "ok\n",
      "ok\n",
      "ok\n",
      "ok\n",
      "ok\n",
      "ok\n"
     ]
    },
    {
     "ename": "JSONDecodeError",
     "evalue": "Expecting value: line 1 column 1 (char 0)",
     "output_type": "error",
     "traceback": [
      "\u001b[1;31m---------------------------------------------------------------------------\u001b[0m",
      "\u001b[1;31mJSONDecodeError\u001b[0m                           Traceback (most recent call last)",
      "\u001b[1;32m<ipython-input-87-eb9bc18f850b>\u001b[0m in \u001b[0;36m<module>\u001b[1;34m\u001b[0m\n\u001b[0;32m      8\u001b[0m     \u001b[1;32mfor\u001b[0m \u001b[0mz\u001b[0m \u001b[1;32min\u001b[0m \u001b[0mrange\u001b[0m\u001b[1;33m(\u001b[0m\u001b[1;36m1\u001b[0m\u001b[1;33m,\u001b[0m\u001b[1;36m20\u001b[0m\u001b[1;33m)\u001b[0m\u001b[1;33m:\u001b[0m\u001b[1;33m\u001b[0m\u001b[1;33m\u001b[0m\u001b[0m\n\u001b[0;32m      9\u001b[0m         \u001b[1;32mif\u001b[0m \u001b[0mget_soup\u001b[0m\u001b[1;33m(\u001b[0m\u001b[0mDONG\u001b[0m\u001b[1;33m,\u001b[0m\u001b[0mLAT\u001b[0m\u001b[1;33m,\u001b[0m\u001b[0mLON\u001b[0m\u001b[1;33m,\u001b[0m\u001b[0mz\u001b[0m\u001b[1;33m)\u001b[0m\u001b[1;33m[\u001b[0m\u001b[1;34m\"more\"\u001b[0m\u001b[1;33m]\u001b[0m\u001b[1;33m==\u001b[0m\u001b[1;32mTrue\u001b[0m\u001b[1;33m:\u001b[0m\u001b[1;33m\u001b[0m\u001b[1;33m\u001b[0m\u001b[0m\n\u001b[1;32m---> 10\u001b[1;33m             \u001b[0mdata\u001b[0m\u001b[1;33m=\u001b[0m\u001b[0mget_soup\u001b[0m\u001b[1;33m(\u001b[0m\u001b[0mDONG\u001b[0m\u001b[1;33m,\u001b[0m\u001b[0mLAT\u001b[0m\u001b[1;33m,\u001b[0m\u001b[0mLON\u001b[0m\u001b[1;33m,\u001b[0m\u001b[0mz\u001b[0m\u001b[1;33m)\u001b[0m\u001b[1;33m[\u001b[0m\u001b[1;34m\"body\"\u001b[0m\u001b[1;33m]\u001b[0m\u001b[1;33m\u001b[0m\u001b[1;33m\u001b[0m\u001b[0m\n\u001b[0m\u001b[0;32m     11\u001b[0m             \u001b[0mdatas\u001b[0m\u001b[1;33m=\u001b[0m\u001b[0mdatas\u001b[0m\u001b[1;33m.\u001b[0m\u001b[0mappend\u001b[0m\u001b[1;33m(\u001b[0m\u001b[0mdata\u001b[0m\u001b[1;33m)\u001b[0m\u001b[1;33m\u001b[0m\u001b[1;33m\u001b[0m\u001b[0m\n\u001b[0;32m     12\u001b[0m             \u001b[0mz\u001b[0m \u001b[1;33m+=\u001b[0m \u001b[1;36m1\u001b[0m\u001b[1;33m\u001b[0m\u001b[1;33m\u001b[0m\u001b[0m\n",
      "\u001b[1;32m<ipython-input-83-81bf2ea92918>\u001b[0m in \u001b[0;36mget_soup\u001b[1;34m(DONG, LAT, LON, PAGE)\u001b[0m\n\u001b[0;32m     22\u001b[0m     \u001b[0mqstring\u001b[0m\u001b[1;33m=\u001b[0m\u001b[1;33m{\u001b[0m\u001b[1;33m**\u001b[0m\u001b[0mcon1\u001b[0m\u001b[1;33m,\u001b[0m\u001b[1;33m**\u001b[0m\u001b[0mcon2\u001b[0m\u001b[1;33m,\u001b[0m\u001b[1;33m**\u001b[0m\u001b[0mcon3\u001b[0m\u001b[1;33m,\u001b[0m\u001b[1;33m**\u001b[0m\u001b[0mcon4\u001b[0m\u001b[1;33m,\u001b[0m\u001b[1;33m**\u001b[0m\u001b[0mspace1\u001b[0m\u001b[1;33m,\u001b[0m\u001b[1;33m**\u001b[0m\u001b[0mspace2\u001b[0m\u001b[1;33m,\u001b[0m\u001b[1;33m**\u001b[0m\u001b[0mprice1\u001b[0m\u001b[1;33m,\u001b[0m\u001b[1;33m**\u001b[0m\u001b[0mprice2\u001b[0m\u001b[1;33m,\u001b[0m\u001b[1;33m**\u001b[0m\u001b[0mdong\u001b[0m\u001b[1;33m,\u001b[0m\u001b[1;33m**\u001b[0m\u001b[0mlat\u001b[0m\u001b[1;33m,\u001b[0m\u001b[1;33m**\u001b[0m\u001b[0mlon\u001b[0m\u001b[1;33m,\u001b[0m\u001b[1;33m**\u001b[0m\u001b[0mlft\u001b[0m\u001b[1;33m,\u001b[0m\u001b[1;33m**\u001b[0m\u001b[0mrgt\u001b[0m\u001b[1;33m,\u001b[0m\u001b[1;33m**\u001b[0m\u001b[0mtop\u001b[0m\u001b[1;33m,\u001b[0m\u001b[1;33m**\u001b[0m\u001b[0mbtm\u001b[0m\u001b[1;33m,\u001b[0m\u001b[1;33m**\u001b[0m\u001b[0mpage\u001b[0m\u001b[1;33m}\u001b[0m\u001b[1;33m\u001b[0m\u001b[1;33m\u001b[0m\u001b[0m\n\u001b[0;32m     23\u001b[0m     \u001b[0mresult\u001b[0m\u001b[1;33m=\u001b[0m\u001b[0mrequests\u001b[0m\u001b[1;33m.\u001b[0m\u001b[0mrequest\u001b[0m\u001b[1;33m(\u001b[0m\u001b[1;34m\"GET\"\u001b[0m\u001b[1;33m,\u001b[0m\u001b[0murl\u001b[0m\u001b[1;33m,\u001b[0m\u001b[0mheaders\u001b[0m\u001b[1;33m=\u001b[0m\u001b[0mHEAD\u001b[0m\u001b[1;33m,\u001b[0m\u001b[0mparams\u001b[0m\u001b[1;33m=\u001b[0m\u001b[0mqstring\u001b[0m\u001b[1;33m)\u001b[0m\u001b[1;33m\u001b[0m\u001b[1;33m\u001b[0m\u001b[0m\n\u001b[1;32m---> 24\u001b[1;33m     \u001b[0mtext\u001b[0m\u001b[1;33m=\u001b[0m\u001b[0mjson\u001b[0m\u001b[1;33m.\u001b[0m\u001b[0mloads\u001b[0m\u001b[1;33m(\u001b[0m\u001b[0mresult\u001b[0m\u001b[1;33m.\u001b[0m\u001b[0mtext\u001b[0m\u001b[1;33m)\u001b[0m\u001b[1;33m\u001b[0m\u001b[1;33m\u001b[0m\u001b[0m\n\u001b[0m\u001b[0;32m     25\u001b[0m     \u001b[1;32mreturn\u001b[0m \u001b[0mtext\u001b[0m\u001b[1;33m\u001b[0m\u001b[1;33m\u001b[0m\u001b[0m\n\u001b[0;32m     26\u001b[0m \u001b[1;33m\u001b[0m\u001b[0m\n",
      "\u001b[1;32m~\\Anaconda3\\lib\\json\\__init__.py\u001b[0m in \u001b[0;36mloads\u001b[1;34m(s, encoding, cls, object_hook, parse_float, parse_int, parse_constant, object_pairs_hook, **kw)\u001b[0m\n\u001b[0;32m    346\u001b[0m             \u001b[0mparse_int\u001b[0m \u001b[1;32mis\u001b[0m \u001b[1;32mNone\u001b[0m \u001b[1;32mand\u001b[0m \u001b[0mparse_float\u001b[0m \u001b[1;32mis\u001b[0m \u001b[1;32mNone\u001b[0m \u001b[1;32mand\u001b[0m\u001b[1;33m\u001b[0m\u001b[1;33m\u001b[0m\u001b[0m\n\u001b[0;32m    347\u001b[0m             parse_constant is None and object_pairs_hook is None and not kw):\n\u001b[1;32m--> 348\u001b[1;33m         \u001b[1;32mreturn\u001b[0m \u001b[0m_default_decoder\u001b[0m\u001b[1;33m.\u001b[0m\u001b[0mdecode\u001b[0m\u001b[1;33m(\u001b[0m\u001b[0ms\u001b[0m\u001b[1;33m)\u001b[0m\u001b[1;33m\u001b[0m\u001b[1;33m\u001b[0m\u001b[0m\n\u001b[0m\u001b[0;32m    349\u001b[0m     \u001b[1;32mif\u001b[0m \u001b[0mcls\u001b[0m \u001b[1;32mis\u001b[0m \u001b[1;32mNone\u001b[0m\u001b[1;33m:\u001b[0m\u001b[1;33m\u001b[0m\u001b[1;33m\u001b[0m\u001b[0m\n\u001b[0;32m    350\u001b[0m         \u001b[0mcls\u001b[0m \u001b[1;33m=\u001b[0m \u001b[0mJSONDecoder\u001b[0m\u001b[1;33m\u001b[0m\u001b[1;33m\u001b[0m\u001b[0m\n",
      "\u001b[1;32m~\\Anaconda3\\lib\\json\\decoder.py\u001b[0m in \u001b[0;36mdecode\u001b[1;34m(self, s, _w)\u001b[0m\n\u001b[0;32m    335\u001b[0m \u001b[1;33m\u001b[0m\u001b[0m\n\u001b[0;32m    336\u001b[0m         \"\"\"\n\u001b[1;32m--> 337\u001b[1;33m         \u001b[0mobj\u001b[0m\u001b[1;33m,\u001b[0m \u001b[0mend\u001b[0m \u001b[1;33m=\u001b[0m \u001b[0mself\u001b[0m\u001b[1;33m.\u001b[0m\u001b[0mraw_decode\u001b[0m\u001b[1;33m(\u001b[0m\u001b[0ms\u001b[0m\u001b[1;33m,\u001b[0m \u001b[0midx\u001b[0m\u001b[1;33m=\u001b[0m\u001b[0m_w\u001b[0m\u001b[1;33m(\u001b[0m\u001b[0ms\u001b[0m\u001b[1;33m,\u001b[0m \u001b[1;36m0\u001b[0m\u001b[1;33m)\u001b[0m\u001b[1;33m.\u001b[0m\u001b[0mend\u001b[0m\u001b[1;33m(\u001b[0m\u001b[1;33m)\u001b[0m\u001b[1;33m)\u001b[0m\u001b[1;33m\u001b[0m\u001b[1;33m\u001b[0m\u001b[0m\n\u001b[0m\u001b[0;32m    338\u001b[0m         \u001b[0mend\u001b[0m \u001b[1;33m=\u001b[0m \u001b[0m_w\u001b[0m\u001b[1;33m(\u001b[0m\u001b[0ms\u001b[0m\u001b[1;33m,\u001b[0m \u001b[0mend\u001b[0m\u001b[1;33m)\u001b[0m\u001b[1;33m.\u001b[0m\u001b[0mend\u001b[0m\u001b[1;33m(\u001b[0m\u001b[1;33m)\u001b[0m\u001b[1;33m\u001b[0m\u001b[1;33m\u001b[0m\u001b[0m\n\u001b[0;32m    339\u001b[0m         \u001b[1;32mif\u001b[0m \u001b[0mend\u001b[0m \u001b[1;33m!=\u001b[0m \u001b[0mlen\u001b[0m\u001b[1;33m(\u001b[0m\u001b[0ms\u001b[0m\u001b[1;33m)\u001b[0m\u001b[1;33m:\u001b[0m\u001b[1;33m\u001b[0m\u001b[1;33m\u001b[0m\u001b[0m\n",
      "\u001b[1;32m~\\Anaconda3\\lib\\json\\decoder.py\u001b[0m in \u001b[0;36mraw_decode\u001b[1;34m(self, s, idx)\u001b[0m\n\u001b[0;32m    353\u001b[0m             \u001b[0mobj\u001b[0m\u001b[1;33m,\u001b[0m \u001b[0mend\u001b[0m \u001b[1;33m=\u001b[0m \u001b[0mself\u001b[0m\u001b[1;33m.\u001b[0m\u001b[0mscan_once\u001b[0m\u001b[1;33m(\u001b[0m\u001b[0ms\u001b[0m\u001b[1;33m,\u001b[0m \u001b[0midx\u001b[0m\u001b[1;33m)\u001b[0m\u001b[1;33m\u001b[0m\u001b[1;33m\u001b[0m\u001b[0m\n\u001b[0;32m    354\u001b[0m         \u001b[1;32mexcept\u001b[0m \u001b[0mStopIteration\u001b[0m \u001b[1;32mas\u001b[0m \u001b[0merr\u001b[0m\u001b[1;33m:\u001b[0m\u001b[1;33m\u001b[0m\u001b[1;33m\u001b[0m\u001b[0m\n\u001b[1;32m--> 355\u001b[1;33m             \u001b[1;32mraise\u001b[0m \u001b[0mJSONDecodeError\u001b[0m\u001b[1;33m(\u001b[0m\u001b[1;34m\"Expecting value\"\u001b[0m\u001b[1;33m,\u001b[0m \u001b[0ms\u001b[0m\u001b[1;33m,\u001b[0m \u001b[0merr\u001b[0m\u001b[1;33m.\u001b[0m\u001b[0mvalue\u001b[0m\u001b[1;33m)\u001b[0m \u001b[1;32mfrom\u001b[0m \u001b[1;32mNone\u001b[0m\u001b[1;33m\u001b[0m\u001b[1;33m\u001b[0m\u001b[0m\n\u001b[0m\u001b[0;32m    356\u001b[0m         \u001b[1;32mreturn\u001b[0m \u001b[0mobj\u001b[0m\u001b[1;33m,\u001b[0m \u001b[0mend\u001b[0m\u001b[1;33m\u001b[0m\u001b[1;33m\u001b[0m\u001b[0m\n",
      "\u001b[1;31mJSONDecodeError\u001b[0m: Expecting value: line 1 column 1 (char 0)"
     ]
    }
   ],
   "source": [
    "##되긴 되는데 봇에 걸림...ㅠ_ㅠ#강서구\n",
    "for i in range(25):\n",
    "    datas=pd.DataFrame()\n",
    "    DONG=str(code[i][\"DONG\"]*100000)\n",
    "    LAT=str(code[i][\"LAT\"])\n",
    "    LON=str(code[i][\"LON\"])\n",
    "\n",
    "    for z in range(1,20):\n",
    "        if get_soup(DONG,LAT,LON,z)[\"more\"]==True:\n",
    "            data=get_soup(DONG,LAT,LON,z)[\"body\"]\n",
    "            datas=datas.append(data)\n",
    "            z += 1\n",
    "            colname =[\"atclNo\",\"cortarNo\",\"rletTpCd\",\"tradTpCd\",\"flrInfo\",\"prc\",\"spc1\",\"spc2\",\"direction\",\"lat\",\"lng\",\"atclFetrDesc\",\"tagList\",\"rltrNm\"]\n",
    "            data_fin=datas[colname]\n",
    "            print(\"ok\")\n",
    "\n",
    "        elif get_soup(DONG,LAT,LON,z)[\"more\"]==False:\n",
    "            print(\"no\")\n",
    "            break\n",
    "    data_fin.to_csv(f\"seoul{i}.csv\",header = True,index=False)"
   ]
  },
  {
   "cell_type": "code",
   "execution_count": null,
   "metadata": {},
   "outputs": [],
   "source": []
  },
  {
   "cell_type": "code",
   "execution_count": null,
   "metadata": {},
   "outputs": [],
   "source": []
  },
  {
   "cell_type": "code",
   "execution_count": null,
   "metadata": {},
   "outputs": [],
   "source": []
  },
  {
   "cell_type": "code",
   "execution_count": 30,
   "metadata": {},
   "outputs": [],
   "source": [
    "a=get_soup(DONG,LAT,LON,1)\n",
    "b=get_soup(DONG,LAT,LON,2)\n",
    "c=get_soup(DONG,LAT,LON,999)\n",
    "list=[a,b,c]"
   ]
  },
  {
   "cell_type": "code",
   "execution_count": 37,
   "metadata": {},
   "outputs": [
    {
     "name": "stdout",
     "output_type": "stream",
     "text": [
      "Empty DataFrame\n",
      "Columns: []\n",
      "Index: []\n",
      "ok\n",
      "ok\n",
      "no\n",
      "   atclCfmYmd                              atclFetrDesc       atclNm  \\\n",
      "0   19.11.21.                     전속.실27.전세안고.지하창고,주차가능      빌라 성덕빌라   \n",
      "1   19.11.20.                         더블역세권 초역세권위치사무실매매  강남구청역SK허브블루   \n",
      "2   19.11.19.                                       NaN        삼성동지웰   \n",
      "3   19.11.22.                   입주가능한 청담동 넓은빌라 주차시설좋아요            빌라   \n",
      "4   19.11.22.                                    투자용 매매           빌딩   \n",
      "5   19.11.22.       별도세대 월100만 수익 초급매 복층형 전용 45p 대지 17p        세종빌라트   \n",
      "6   19.11.22.  실매물, 즉시입주가능, 정남향, 내부상태깨끗, 인테리어 우수, 수납공간多         논현이안   \n",
      "7   19.11.22.                             대지지분 많은 빌라4룸       연립 삼풍 가   \n",
      "8   19.11.22.                         청담동 고급빌라 인근 상가 매매         일반상가   \n",
      "9   19.11.22.                 3호선압구정역도보3분.임대수입양호,출입구앞코너  일반상가 압구정스퀘어   \n",
      "10  19.11.21.                         3종 투자가치 좋은 쓰리룸 급매   빌라 까사미아 A동   \n",
      "11  19.11.21.                     3종 임패리얼팰리스호텔 뒷편 고급빌라촌   빌라 까사미아 B동   \n",
      "12  19.11.21.                           내부깔끔한 구조의 포룸 매매           빌라   \n",
      "13  19.11.21.                 역삼역 도보2분거리 올수리된 귀한 4룸 아파트           빌라   \n",
      "14  19.11.21.      압구정역 역세권에 관리 잘된 실거주 및 갭투자 가능한 귀한 아파트           빌라   \n",
      "15  19.11.21.             역삼역 역세권에 관리잘되고 사이즈 잘나온 4룸 아파트           빌라   \n",
      "16  19.11.21.       SRT, 수서역과 건물지하가 연결된 저렴한 가격의 사무실입니다.       중소형사무실   \n",
      "17  19.11.20.                  실입주가능 정남향 대지지분크고 사이즈넓은방4        세종빌라트   \n",
      "18  19.11.20.                   sk리더스뷰 고층 전망좋은 매물 입니다.      역삼SK리더스뷰   \n",
      "19  19.11.20.                     수서역 초역세권의 최저가 사무실입니다.       중소형사무실   \n",
      "0   19.11.19.   SRT,수서역이 건물 지하로 연결, 룸2, 주차가 좋습니다. 대모산전망      수서현대벤처빌   \n",
      "1   19.11.19.                                    저렴한 토지            답   \n",
      "2   19.11.18.         사진O, 전용 30P, 실가격, 임대수익률 좋은 상가 사무실       중소형사무실   \n",
      "3   19.11.18.         안정적수익형 상가 주변인프라 최상급 직영 또는 수익형모두가능   복합상가 한솔필리아   \n",
      "4   19.11.18.                               투자용도 추천합니다.            전   \n",
      "5   19.11.06.                        남향,테라스정원있는 귀한 오피스텔      강남훼미리타운   \n",
      "6   19.11.06.                           월세잘나오는 수익률 좋은상가    일반상가 신호빌딩   \n",
      "7   19.11.22.          SS 사진있음 SS 실입주,투자수익형, 3룸,남향,강력추천      강남훼미리타운   \n",
      "8   19.11.22.    SS 사진있음 SS 로얄층, 남향, 실입주가능,투자수익형가능.강력추천      강남훼미리타운   \n",
      "9   19.11.22.        SS 사진있음 SS  남향, 실입주가능,투자수익형가능.강력추천      강남훼미리타운   \n",
      "10  19.11.22.        SS 사진있음 SS  남향, 실입주가능,투자수익형가능.강력추천      강남훼미리타운   \n",
      "11  19.11.22.    SS 사진있음 SS 로얄층, 남향, 실입주가능,투자수익형가능.강력추천      강남훼미리타운   \n",
      "12  19.11.22.              28P공원조망권 전세가는4억5천 갭투자로 저렴합니다           빌라   \n",
      "13  19.11.22.             로얄층,  남한 산성 뷰 제가 직접 살았던 곳 입니다      강남훼미리타운   \n",
      "14  19.11.15.               高수익률,먹자라인,노출성굿,공실률제로,운영수익최고         일반상가   \n",
      "15  19.11.14.                         41.전망최고.양재천.대모산전망     우성캐릭터199   \n",
      "16  19.11.21.                SUV 주차가능한 선릉역1분 대로변 구분건물매매       중소형사무실   \n",
      "17  19.11.20.                              귀한 매물로 전망 있슴     역삼SK리더스뷰   \n",
      "18  19.11.20.                             학원임대중 사거리코너건물         복합상가   \n",
      "19  19.11.19.                       49  전망 구조 최고  특올수리        대림아크로텔   \n",
      "\n",
      "        atclNo atclStatCd       bildNm    cortarNo  cpCnt  \\\n",
      "0   1928352376         R0      빌라 성덕빌라  1168011800      1   \n",
      "1   1928268427         R0           1동  1168010800      1   \n",
      "2   1928075688         R0           1동  1168010500      1   \n",
      "3   1928582830         R0           빌라  1168010400      1   \n",
      "4   1928573169         R0           빌딩  1168010100      2   \n",
      "5   1928552325         R0           1동  1168010100      1   \n",
      "6   1928541289         R0           1동  1168010800      3   \n",
      "7   1928541207         R0      연립 삼풍 가  1168010800      2   \n",
      "8   1928539855         R0         일반상가  1168010400      1   \n",
      "9   1928513523         R0  일반상가 압구정스퀘어  1168010700      1   \n",
      "10  1928441708         R0   빌라 까사미아 A동  1168010800      2   \n",
      "11  1928440994         R0   빌라 까사미아 B동  1168010800      1   \n",
      "12  1928440423         R0           빌라  1168010100      1   \n",
      "13  1928421564         R0           빌라  1168010100      1   \n",
      "14  1928418382         R0           빌라  1168010700      1   \n",
      "15  1928411821         R0           빌라  1168010100      2   \n",
      "16  1928352947         R0       중소형사무실  1168011500      1   \n",
      "17  1928278795         R0           1동  1168010100      4   \n",
      "18  1928261267         R0         101동  1168010100      1   \n",
      "19  1928279536         R0       중소형사무실  1168011500      1   \n",
      "0   1928166128         R0           1동  1168011500      1   \n",
      "1   1928057464         R0            답  1168011300      1   \n",
      "2   1928041906         R0       중소형사무실  1168010100      2   \n",
      "3   1927966199         R0   복합상가 한솔필리아  1168010100      1   \n",
      "4   1927953218         R0            전  1168011300      2   \n",
      "5   1926928262         R0           A동  1168011300      2   \n",
      "6   1926921500         R0    일반상가 신호빌딩  1168011800      1   \n",
      "7   1928570653         R0           B동  1168011300      1   \n",
      "8   1928570221         R0           B동  1168011300      1   \n",
      "9   1928569426         R0           B동  1168011300      1   \n",
      "10  1928568957         R0           B동  1168011300      1   \n",
      "11  1928568579         R0           B동  1168011300      2   \n",
      "12  1928469018         R0           빌라  1168010300      1   \n",
      "13  1928455948         R0           B동  1168011300      2   \n",
      "14  1927751560         R0         일반상가  1168010100      1   \n",
      "15  1927743552         R0           1동  1168011800      1   \n",
      "16  1928368839         R0       중소형사무실  1168010100      1   \n",
      "17  1928230075         R0         102동  1168010100      1   \n",
      "18  1928199356         R0         복합상가  1168011100      1   \n",
      "19  1928052995         R0           C동  1168011800      1   \n",
      "\n",
      "                                             cpLinkVO    cpNm  ...  \\\n",
      "0   {'cpId': 'bizmk', 'mobileArticleLinkTypeCode':...   매경부동산  ...   \n",
      "1   {'cpId': 'bizmk', 'mobileArticleLinkTypeCode':...   매경부동산  ...   \n",
      "2   {'cpId': 'NEONET', 'mobileArticleLinkTypeCode'...   부동산뱅크  ...   \n",
      "3   {'cpId': 'bizmk', 'mobileArticleLinkTypeCode':...   매경부동산  ...   \n",
      "4   {'cpId': 'NEONET', 'mobileArticleLinkTypeCode'...   부동산뱅크  ...   \n",
      "5   {'cpId': 'SERVE', 'mobileArticleUrl': 'http://...   부동산써브  ...   \n",
      "6   {'cpId': 'R114', 'mobileArticleUrl': 'https://...  부동산114  ...   \n",
      "7   {'cpId': 'R114', 'mobileArticleUrl': 'https://...  부동산114  ...   \n",
      "8   {'cpId': 'bizmk', 'mobileArticleLinkTypeCode':...   매경부동산  ...   \n",
      "9   {'cpId': 'bizmk', 'mobileArticleLinkTypeCode':...   매경부동산  ...   \n",
      "10  {'cpId': 'NEONET', 'mobileArticleLinkTypeCode'...   부동산뱅크  ...   \n",
      "11  {'cpId': 'NEONET', 'mobileArticleLinkTypeCode'...   부동산뱅크  ...   \n",
      "12  {'cpId': 'NEONET', 'mobileArticleLinkTypeCode'...   부동산뱅크  ...   \n",
      "13  {'cpId': 'NEONET', 'mobileArticleLinkTypeCode'...   부동산뱅크  ...   \n",
      "14  {'cpId': 'NEONET', 'mobileArticleLinkTypeCode'...   부동산뱅크  ...   \n",
      "15  {'cpId': 'NEONET', 'mobileArticleLinkTypeCode'...   부동산뱅크  ...   \n",
      "16  {'cpId': 'bizmk', 'mobileArticleLinkTypeCode':...   매경부동산  ...   \n",
      "17  {'cpId': 'NEONET', 'mobileArticleLinkTypeCode'...   부동산뱅크  ...   \n",
      "18  {'cpId': 'bizmk', 'mobileArticleLinkTypeCode':...   매경부동산  ...   \n",
      "19  {'cpId': 'bizmk', 'mobileArticleLinkTypeCode':...   매경부동산  ...   \n",
      "0   {'cpId': 'bizmk', 'mobileArticleLinkTypeCode':...   매경부동산  ...   \n",
      "1   {'cpId': 'bizmk', 'mobileArticleLinkTypeCode':...   매경부동산  ...   \n",
      "2   {'cpId': 'gongsilclub', 'mobileArticleLinkType...    공실클럽  ...   \n",
      "3   {'cpId': 'hkdotcom', 'mobileArticleLinkTypeCod...   한경부동산  ...   \n",
      "4   {'cpId': 'SERVE', 'mobileArticleUrl': 'http://...   부동산써브  ...   \n",
      "5   {'cpId': 'bizmk', 'mobileArticleLinkTypeCode':...   매경부동산  ...   \n",
      "6   {'cpId': 'R114', 'mobileArticleUrl': 'https://...  부동산114  ...   \n",
      "7   {'cpId': 'NEONET', 'mobileArticleLinkTypeCode'...   부동산뱅크  ...   \n",
      "8   {'cpId': 'NEONET', 'mobileArticleLinkTypeCode'...   부동산뱅크  ...   \n",
      "9   {'cpId': 'NEONET', 'mobileArticleLinkTypeCode'...   부동산뱅크  ...   \n",
      "10  {'cpId': 'NEONET', 'mobileArticleLinkTypeCode'...   부동산뱅크  ...   \n",
      "11  {'cpId': 'NEONET', 'mobileArticleLinkTypeCode'...   부동산뱅크  ...   \n",
      "12  {'cpId': 'hkdotcom', 'mobileArticleLinkTypeCod...   한경부동산  ...   \n",
      "13  {'cpId': 'SERVE', 'mobileArticleUrl': 'http://...   부동산써브  ...   \n",
      "14  {'cpId': 'NEONET', 'mobileArticleLinkTypeCode'...   부동산뱅크  ...   \n",
      "15  {'cpId': 'bizmk', 'mobileArticleLinkTypeCode':...   매경부동산  ...   \n",
      "16  {'cpId': 'SERVE', 'mobileArticleUrl': 'http://...   부동산써브  ...   \n",
      "17  {'cpId': 'bizmk', 'mobileArticleLinkTypeCode':...   매경부동산  ...   \n",
      "18  {'cpId': 'bizmk', 'mobileArticleLinkTypeCode':...   매경부동산  ...   \n",
      "19  {'cpId': 'bizmk', 'mobileArticleLinkTypeCode':...   매경부동산  ...   \n",
      "\n",
      "   sameAddrMaxPrc sameAddrMinPrc spc1  spc2                      tagList  \\\n",
      "0             NaN            NaN  135    88    [25년이상, 대형평수, 방세개, 화장실두개]   \n",
      "1             NaN            NaN  146    79           [15년이내, 역세권, 대형평수]   \n",
      "2        7억 5,000       7억 5,000  137    85      [15년이내, 역세권, 대형평수, 방세개]   \n",
      "3             NaN            NaN  143    96       [15년이내, 1층, 대형평수, 방세개]   \n",
      "4             70억             7억  234   480                        [역세권]   \n",
      "5             NaN            NaN  171   150              [25년이내, 복층, 급매]   \n",
      "6        7억 5,000       7억 5,000  154    87    [15년이내, 역세권, 대형평수, 화장실두개]   \n",
      "7        8억 4,000             8억  141    84       [역세권, 화장실두개, 대형평수, 탑층]   \n",
      "8             NaN            NaN  219   113          [주차가능, 엘리베이터, CCTV]   \n",
      "9             NaN            NaN  143    75      [25년이내, 역세권, 주차가능, 총3층]   \n",
      "10             7억             7억  138    79             [역세권, 급매, 화장실두개]   \n",
      "11            NaN            NaN  148    89              [역세권, 1층, 대형평수]   \n",
      "12            NaN            NaN  139   122         [대형평수, 방네개이상, 화장실두개]   \n",
      "13            NaN            NaN  151   103             [올수리, 역세권, 대형평수]   \n",
      "14            NaN            NaN  134    84       [1층, 대형평수, 방세개, 화장실두개]   \n",
      "15       8억 9,000       8억 9,000  168   108   [대형평수, 방네개이상, 화장실두개, 주차가능]   \n",
      "16            NaN            NaN  158    79          [역세권, 엘리베이터, 화재경보기]   \n",
      "17             9억             9억  139   122  [25년이내, 대형평수, 방네개이상, 화장실두개]   \n",
      "18            NaN            NaN  213   111      [15년이내, 역세권, 대형평수, 방세개]   \n",
      "19            NaN            NaN  159    79      [역세권, 엘리베이터, 화재경보기, 동향]   \n",
      "0             NaN            NaN  171    85           [25년이내, 역세권, 대형평수]   \n",
      "1             NaN            NaN  654     0                           []   \n",
      "2        7억 9,500       7억 9,000  191    99                  [역세권, 주차가능]   \n",
      "3             NaN            NaN  211    94           [25년이내, 주차가능, 총5층]   \n",
      "4        5억 9,500       5억 4,000  588     0                           []   \n",
      "5        8억 5,000       8억 5,000  157    74       [4년이내, 테라스, 필로티, 대형평수]   \n",
      "6             NaN            NaN  347   208         [25년이내, 주차가능, 천장에어컨]   \n",
      "7             NaN            NaN  153    74          [4년이내, 화장실두개, 대형평수]   \n",
      "8             NaN            NaN  153    74          [4년이내, 화장실두개, 대형평수]   \n",
      "9             NaN            NaN  142    73          [4년이내, 화장실두개, 대형평수]   \n",
      "10            NaN            NaN  142    73          [4년이내, 화장실두개, 대형평수]   \n",
      "11       8억 6,000       7억 1,000  153    74          [4년이내, 화장실두개, 대형평수]   \n",
      "12            NaN            NaN  149    65           [대형평수, 방세개, 화장실두개]   \n",
      "13       7억 6,000       7억 3,000  142    73          [4년이내, 화장실두개, 대형평수]   \n",
      "14            NaN            NaN  191    99                        [역세권]   \n",
      "15            NaN            NaN  135    67      [25년이내, 역세권, 대형평수, 방두개]   \n",
      "16            NaN            NaN  169    78                        [역세권]   \n",
      "17            NaN            NaN  205   107           [15년이내, 역세권, 대형평수]   \n",
      "18            NaN            NaN  190   104                           []   \n",
      "19            NaN            NaN  164    72      [25년이내, 올수리, 역세권, 대형평수]   \n",
      "\n",
      "   tradTpCd  tradTpNm  tradePriceHan  tradeRentPrice  vrfcTpCd  \n",
      "0        A1        매매                              0     OWNER  \n",
      "1        A1        매매                              0     OWNER  \n",
      "2        A1        매매                              0     OWNER  \n",
      "3        A1        매매                              0     DOCV2  \n",
      "4        A1        매매                              0       DOC  \n",
      "5        A1        매매                              0       DOC  \n",
      "6        A1        매매                              0       DOC  \n",
      "7        A1        매매                              0       DOC  \n",
      "8        A1        매매                              0       DOC  \n",
      "9        A1        매매                              0       DOC  \n",
      "10       A1        매매                              0       DOC  \n",
      "11       A1        매매                              0       DOC  \n",
      "12       A1        매매                              0       DOC  \n",
      "13       A1        매매                              0       DOC  \n",
      "14       A1        매매                              0       DOC  \n",
      "15       A1        매매                              0       DOC  \n",
      "16       A1        매매                              0       DOC  \n",
      "17       A1        매매                              0       DOC  \n",
      "18       A1        매매                              0       DOC  \n",
      "19       A1        매매                              0       DOC  \n",
      "0        A1        매매                              0       DOC  \n",
      "1        A1        매매                              0       DOC  \n",
      "2        A1        매매                              0       DOC  \n",
      "3        A1        매매                              0       DOC  \n",
      "4        A1        매매                              0       DOC  \n",
      "5        A1        매매                              0     OWNER  \n",
      "6        A1        매매                              0     OWNER  \n",
      "7        A1        매매                              0       DOC  \n",
      "8        A1        매매                              0       DOC  \n",
      "9        A1        매매                              0       DOC  \n",
      "10       A1        매매                              0       DOC  \n",
      "11       A1        매매                              0       DOC  \n",
      "12       A1        매매                              0       DOC  \n",
      "13       A1        매매                              0       DOC  \n",
      "14       A1        매매                              0       DOC  \n",
      "15       A1        매매                              0       DOC  \n",
      "16       A1        매매                              0       DOC  \n",
      "17       A1        매매                              0       DOC  \n",
      "18       A1        매매                              0       DOC  \n",
      "19       A1        매매                              0       DOC  \n",
      "\n",
      "[40 rows x 42 columns]\n"
     ]
    }
   ],
   "source": [
    "datas=pd.DataFrame()\n",
    "print(datas)\n",
    "for i in range(3):\n",
    "    if list[i][\"more\"]==True:\n",
    "        data=list[i][\"body\"]\n",
    "        datas=datas.append(data)\n",
    "        i += 1\n",
    "        print(\"ok\")\n",
    "        \n",
    "    elif list[i][\"more\"]==False:\n",
    "        print(\"no\")\n",
    "print(datas)\n",
    "        "
   ]
  },
  {
   "cell_type": "code",
   "execution_count": 28,
   "metadata": {},
   "outputs": [
    {
     "name": "stdout",
     "output_type": "stream",
     "text": [
      "break\n"
     ]
    }
   ],
   "source": [
    "\n",
    "datas = pd.DataFrame()\n",
    "for i in range(20):\n",
    "    if get_soup(DONG,LAT,LON,i)[\"more\"]==True:\n",
    "        data=get_soup(DONG,LAT,LON,i)[\"body\"]\n",
    "        datas=datas.append(data)\n",
    "        print(datas)\n",
    "        i +=1\n",
    "        \n",
    "    else:\n",
    "        print(\"break\")\n",
    "        break\n",
    "\n"
   ]
  },
  {
   "cell_type": "code",
   "execution_count": 29,
   "metadata": {},
   "outputs": [
    {
     "name": "stdout",
     "output_type": "stream",
     "text": [
      "Empty DataFrame\n",
      "Columns: []\n",
      "Index: []\n"
     ]
    }
   ],
   "source": [
    "print(datas)"
   ]
  },
  {
   "cell_type": "code",
   "execution_count": null,
   "metadata": {},
   "outputs": [],
   "source": []
  }
 ],
 "metadata": {
  "kernelspec": {
   "display_name": "Python 3 (ipykernel)",
   "language": "python",
   "name": "python3"
  },
  "language_info": {
   "codemirror_mode": {
    "name": "ipython",
    "version": 3
   },
   "file_extension": ".py",
   "mimetype": "text/x-python",
   "name": "python",
   "nbconvert_exporter": "python",
   "pygments_lexer": "ipython3",
   "version": "3.9.7"
  },
  "toc": {
   "base_numbering": 1,
   "nav_menu": {},
   "number_sections": true,
   "sideBar": true,
   "skip_h1_title": false,
   "title_cell": "Table of Contents",
   "title_sidebar": "Contents",
   "toc_cell": false,
   "toc_position": {},
   "toc_section_display": true,
   "toc_window_display": false
  }
 },
 "nbformat": 4,
 "nbformat_minor": 2
}
