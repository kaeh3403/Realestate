{
 "cells": [
  {
   "cell_type": "code",
   "execution_count": 45,
   "id": "7fbc1d25",
   "metadata": {
    "ExecuteTime": {
     "end_time": "2022-02-21T04:55:09.217983Z",
     "start_time": "2022-02-21T04:55:09.197299Z"
    }
   },
   "outputs": [],
   "source": [
    "import requests\n",
    "import json\n",
    "import pandas as pd\n",
    "from pandas import json_normalize\n",
    "\n",
    "import time\n",
    "from datetime import datetime\n",
    "from tqdm import tqdm_notebook\n",
    "import random\n",
    "import shutil\n",
    "\n",
    "import logging\n",
    "logger = logging.getLogger()"
   ]
  },
  {
   "cell_type": "code",
   "execution_count": 39,
   "id": "e4fe2399",
   "metadata": {
    "ExecuteTime": {
     "end_time": "2022-02-21T01:42:59.360234Z",
     "start_time": "2022-02-21T01:42:59.346243Z"
    }
   },
   "outputs": [],
   "source": [
    "from bs4 import BeautifulSoup"
   ]
  },
  {
   "cell_type": "code",
   "execution_count": 3,
   "id": "68881b84",
   "metadata": {
    "ExecuteTime": {
     "end_time": "2022-02-21T01:25:40.053580Z",
     "start_time": "2022-02-21T01:25:39.880779Z"
    }
   },
   "outputs": [
    {
     "name": "stdout",
     "output_type": "stream",
     "text": [
      "2021.11.17\n",
      "- Author : Wooil Jeong\n",
      "- E-mail : wooil@kakao.com\n",
      "- Github : https://github.com/WooilJeong/PublicDataReader\n",
      "- Blog : https://wooiljeong.github.io\n"
     ]
    }
   ],
   "source": [
    "import PublicDataReader as pdr\n",
    "print(pdr.__version__)\n",
    "print(pdr.__info__)"
   ]
  },
  {
   "cell_type": "code",
   "execution_count": 4,
   "id": "4b337a28",
   "metadata": {
    "ExecuteTime": {
     "end_time": "2022-02-21T01:26:18.524073Z",
     "start_time": "2022-02-21T01:26:18.521083Z"
    }
   },
   "outputs": [],
   "source": [
    "serviceKey = \"SzUttTWCXo4WbRF7PiAE4y3rZ5Lnhwc5diiuQxqy6EHyZO4GfWN%2FHGSCveUjD7uMjh%2FD6rGAx977eKuZUY376A%3D%3D\""
   ]
  },
  {
   "cell_type": "code",
   "execution_count": 5,
   "id": "defce70d",
   "metadata": {
    "ExecuteTime": {
     "end_time": "2022-02-21T01:26:21.992766Z",
     "start_time": "2022-02-21T01:26:20.648715Z"
    }
   },
   "outputs": [
    {
     "name": "stderr",
     "output_type": "stream",
     "text": [
      "[INFO] 기본개요 조회 서비스 정상 - (00) NORMAL SERVICE.\n",
      "[INFO] 총괄표제부 조회 서비스 정상 - (00) NORMAL SERVICE.\n",
      "[INFO] 표제부 조회 서비스 정상 - (00) NORMAL SERVICE.\n",
      "[INFO] 층별개요 조회 서비스 정상 - (00) NORMAL SERVICE.\n",
      "[INFO] 부속지번 조회 서비스 정상 - (00) NORMAL SERVICE.\n",
      "[INFO] 전유공용면적 조회 서비스 정상 - (00) NORMAL SERVICE.\n",
      "[INFO] 오수정화시설 조회 서비스 정상 - (00) NORMAL SERVICE.\n",
      "[INFO] 주택가격 조회 서비스 정상 - (00) NORMAL SERVICE.\n",
      "[INFO] 전유부 조회 서비스 정상 - (00) NORMAL SERVICE.\n",
      "[INFO] 지역지구구역 조회 서비스 정상 - (00) NORMAL SERVICE.\n"
     ]
    }
   ],
   "source": [
    "bd = pdr.Building(serviceKey, debug=True)"
   ]
  },
  {
   "cell_type": "code",
   "execution_count": 6,
   "id": "4a22c309",
   "metadata": {
    "ExecuteTime": {
     "end_time": "2022-02-21T01:26:41.465416Z",
     "start_time": "2022-02-21T01:26:40.962989Z"
    },
    "scrolled": false
   },
   "outputs": [
    {
     "data": {
      "text/html": [
       "<div>\n",
       "<style scoped>\n",
       "    .dataframe tbody tr th:only-of-type {\n",
       "        vertical-align: middle;\n",
       "    }\n",
       "\n",
       "    .dataframe tbody tr th {\n",
       "        vertical-align: top;\n",
       "    }\n",
       "\n",
       "    .dataframe thead th {\n",
       "        text-align: right;\n",
       "    }\n",
       "</style>\n",
       "<table border=\"1\" class=\"dataframe\">\n",
       "  <thead>\n",
       "    <tr style=\"text-align: right;\">\n",
       "      <th></th>\n",
       "      <th>시도코드</th>\n",
       "      <th>시도명</th>\n",
       "      <th>시군구코드</th>\n",
       "      <th>시군구명</th>\n",
       "      <th>법정동코드</th>\n",
       "      <th>읍면동명</th>\n",
       "      <th>동리명</th>\n",
       "      <th>생성일자</th>\n",
       "      <th>말소일자</th>\n",
       "    </tr>\n",
       "  </thead>\n",
       "  <tbody>\n",
       "    <tr>\n",
       "      <th>3425</th>\n",
       "      <td>28</td>\n",
       "      <td>인천광역시</td>\n",
       "      <td>28237</td>\n",
       "      <td>부평구</td>\n",
       "      <td>2823700000</td>\n",
       "      <td>NaN</td>\n",
       "      <td>NaN</td>\n",
       "      <td>19950301</td>\n",
       "      <td>NaN</td>\n",
       "    </tr>\n",
       "  </tbody>\n",
       "</table>\n",
       "</div>"
      ],
      "text/plain": [
       "      시도코드    시도명  시군구코드 시군구명       법정동코드 읍면동명  동리명      생성일자  말소일자\n",
       "3425    28  인천광역시  28237  부평구  2823700000  NaN  NaN  19950301   NaN"
      ]
     },
     "execution_count": 6,
     "metadata": {},
     "output_type": "execute_result"
    }
   ],
   "source": [
    "sigunguName = \"부평구\"                                  # 시군구코드: 41135\n",
    "code = pdr.code_list()\n",
    "code.loc[(code['시군구명'].str.contains(sigunguName, na=False)) &\n",
    "         (code['읍면동명'].isna())]"
   ]
  },
  {
   "cell_type": "code",
   "execution_count": 12,
   "id": "291a91f3",
   "metadata": {
    "ExecuteTime": {
     "end_time": "2022-02-21T01:28:35.191029Z",
     "start_time": "2022-02-21T01:28:35.145460Z"
    }
   },
   "outputs": [
    {
     "data": {
      "text/html": [
       "<div>\n",
       "<style scoped>\n",
       "    .dataframe tbody tr th:only-of-type {\n",
       "        vertical-align: middle;\n",
       "    }\n",
       "\n",
       "    .dataframe tbody tr th {\n",
       "        vertical-align: top;\n",
       "    }\n",
       "\n",
       "    .dataframe thead th {\n",
       "        text-align: right;\n",
       "    }\n",
       "</style>\n",
       "<table border=\"1\" class=\"dataframe\">\n",
       "  <thead>\n",
       "    <tr style=\"text-align: right;\">\n",
       "      <th></th>\n",
       "      <th>시도코드</th>\n",
       "      <th>시도명</th>\n",
       "      <th>시군구코드</th>\n",
       "      <th>시군구명</th>\n",
       "      <th>법정동코드</th>\n",
       "      <th>읍면동명</th>\n",
       "      <th>동리명</th>\n",
       "      <th>생성일자</th>\n",
       "      <th>말소일자</th>\n",
       "    </tr>\n",
       "  </thead>\n",
       "  <tbody>\n",
       "    <tr>\n",
       "      <th>3433</th>\n",
       "      <td>28</td>\n",
       "      <td>인천광역시</td>\n",
       "      <td>28237</td>\n",
       "      <td>부평구</td>\n",
       "      <td>2823710400</td>\n",
       "      <td>청천동</td>\n",
       "      <td>NaN</td>\n",
       "      <td>19950301</td>\n",
       "      <td>NaN</td>\n",
       "    </tr>\n",
       "  </tbody>\n",
       "</table>\n",
       "</div>"
      ],
      "text/plain": [
       "      시도코드    시도명  시군구코드 시군구명       법정동코드 읍면동명  동리명      생성일자  말소일자\n",
       "3433    28  인천광역시  28237  부평구  2823710400  청천동  NaN  19950301   NaN"
      ]
     },
     "execution_count": 12,
     "metadata": {},
     "output_type": "execute_result"
    }
   ],
   "source": [
    "code.loc[(code['시군구명'].str.contains(sigunguName, na=False)) &\n",
    "         (code['읍면동명']=='청천동')]"
   ]
  },
  {
   "cell_type": "code",
   "execution_count": 14,
   "id": "ebbf34b7",
   "metadata": {
    "ExecuteTime": {
     "end_time": "2022-02-21T01:29:29.582951Z",
     "start_time": "2022-02-21T01:29:29.313334Z"
    }
   },
   "outputs": [
    {
     "data": {
      "text/html": [
       "<div>\n",
       "<style scoped>\n",
       "    .dataframe tbody tr th:only-of-type {\n",
       "        vertical-align: middle;\n",
       "    }\n",
       "\n",
       "    .dataframe tbody tr th {\n",
       "        vertical-align: top;\n",
       "    }\n",
       "\n",
       "    .dataframe thead th {\n",
       "        text-align: right;\n",
       "    }\n",
       "</style>\n",
       "<table border=\"1\" class=\"dataframe\">\n",
       "  <thead>\n",
       "    <tr style=\"text-align: right;\">\n",
       "      <th></th>\n",
       "      <th>법정동코드</th>\n",
       "      <th>건물명</th>\n",
       "      <th>블록</th>\n",
       "      <th>번</th>\n",
       "      <th>외필지수</th>\n",
       "      <th>생성일자</th>\n",
       "      <th>구역코드</th>\n",
       "      <th>구역코드명</th>\n",
       "      <th>지</th>\n",
       "      <th>지구코드</th>\n",
       "      <th>...</th>\n",
       "      <th>도로명대지위치</th>\n",
       "      <th>대지구분코드</th>\n",
       "      <th>대지위치</th>\n",
       "      <th>대장구분코드</th>\n",
       "      <th>대장구분코드명</th>\n",
       "      <th>대장종류코드</th>\n",
       "      <th>대장종류코드명</th>\n",
       "      <th>순번</th>\n",
       "      <th>시군구코드</th>\n",
       "      <th>특수지명</th>\n",
       "    </tr>\n",
       "  </thead>\n",
       "  <tbody>\n",
       "    <tr>\n",
       "      <th>0</th>\n",
       "      <td>10400</td>\n",
       "      <td></td>\n",
       "      <td></td>\n",
       "      <td>0403</td>\n",
       "      <td>0</td>\n",
       "      <td>20190530</td>\n",
       "      <td></td>\n",
       "      <td></td>\n",
       "      <td>0020</td>\n",
       "      <td></td>\n",
       "      <td>...</td>\n",
       "      <td>인천광역시 부평구 부평북로 167</td>\n",
       "      <td>0</td>\n",
       "      <td>인천광역시 부평구 청천동 403-20번지</td>\n",
       "      <td>1</td>\n",
       "      <td>일반</td>\n",
       "      <td>2</td>\n",
       "      <td>일반건축물</td>\n",
       "      <td>1</td>\n",
       "      <td>28237</td>\n",
       "      <td></td>\n",
       "    </tr>\n",
       "  </tbody>\n",
       "</table>\n",
       "<p>1 rows × 31 columns</p>\n",
       "</div>"
      ],
      "text/plain": [
       "   법정동코드 건물명 블록     번 외필지수      생성일자 구역코드 구역코드명     지 지구코드  ...  \\\n",
       "0  10400         0403    0  20190530             0020       ...   \n",
       "\n",
       "              도로명대지위치 대지구분코드                    대지위치 대장구분코드 대장구분코드명 대장종류코드  \\\n",
       "0  인천광역시 부평구 부평북로 167      0  인천광역시 부평구 청천동 403-20번지      1      일반      2   \n",
       "\n",
       "  대장종류코드명 순번  시군구코드 특수지명  \n",
       "0   일반건축물  1  28237       \n",
       "\n",
       "[1 rows x 31 columns]"
      ]
     },
     "execution_count": 14,
     "metadata": {},
     "output_type": "execute_result"
    }
   ],
   "source": [
    "category = \"기본개요\"                                   # 건축물대장 종류 (ex. 표제부, 총괄표제부, 전유부 등)\n",
    "sigunguCd = \"28237\"                                     # 시군구코드(5)\n",
    "bjdongCd = \"10400\"                                      # 읍면동코드(5)\n",
    "bun = \"0403\"                                            # 본번(4)\n",
    "ji = \"0020\"                                             # 부번(4)\n",
    "\n",
    "df = bd.read_data(category=category, sigunguCd=sigunguCd, bjdongCd=bjdongCd, bun=bun, ji=ji)\n",
    "df.head()"
   ]
  },
  {
   "cell_type": "code",
   "execution_count": 15,
   "id": "ed64c75d",
   "metadata": {
    "ExecuteTime": {
     "end_time": "2022-02-21T01:29:52.702477Z",
     "start_time": "2022-02-21T01:29:52.475174Z"
    }
   },
   "outputs": [
    {
     "data": {
      "text/html": [
       "<div>\n",
       "<style scoped>\n",
       "    .dataframe tbody tr th:only-of-type {\n",
       "        vertical-align: middle;\n",
       "    }\n",
       "\n",
       "    .dataframe tbody tr th {\n",
       "        vertical-align: top;\n",
       "    }\n",
       "\n",
       "    .dataframe thead th {\n",
       "        text-align: right;\n",
       "    }\n",
       "</style>\n",
       "<table border=\"1\" class=\"dataframe\">\n",
       "  <thead>\n",
       "    <tr style=\"text-align: right;\">\n",
       "      <th></th>\n",
       "      <th>건축면적</th>\n",
       "      <th>부속건축물면적</th>\n",
       "      <th>부속건축물수</th>\n",
       "      <th>건폐율</th>\n",
       "      <th>법정동코드</th>\n",
       "      <th>건물명</th>\n",
       "      <th>블록</th>\n",
       "      <th>번</th>\n",
       "      <th>외필지수</th>\n",
       "      <th>생성일자</th>\n",
       "      <th>...</th>\n",
       "      <th>특수지명</th>\n",
       "      <th>착공일</th>\n",
       "      <th>구조코드</th>\n",
       "      <th>구조코드명</th>\n",
       "      <th>연면적</th>\n",
       "      <th>총동연면적</th>\n",
       "      <th>지하층수</th>\n",
       "      <th>사용승인일</th>\n",
       "      <th>용적률</th>\n",
       "      <th>용적률산정연면적</th>\n",
       "    </tr>\n",
       "  </thead>\n",
       "  <tbody>\n",
       "    <tr>\n",
       "      <th>0</th>\n",
       "      <td>1032.05</td>\n",
       "      <td>0</td>\n",
       "      <td>0</td>\n",
       "      <td>69.47</td>\n",
       "      <td>10400</td>\n",
       "      <td></td>\n",
       "      <td></td>\n",
       "      <td>0403</td>\n",
       "      <td>0</td>\n",
       "      <td>20190530</td>\n",
       "      <td>...</td>\n",
       "      <td></td>\n",
       "      <td>20120727</td>\n",
       "      <td>31</td>\n",
       "      <td>일반철골구조</td>\n",
       "      <td>3076.54</td>\n",
       "      <td>3076.54</td>\n",
       "      <td>0</td>\n",
       "      <td>20130118</td>\n",
       "      <td>207.08</td>\n",
       "      <td>3076.54</td>\n",
       "    </tr>\n",
       "  </tbody>\n",
       "</table>\n",
       "<p>1 rows × 78 columns</p>\n",
       "</div>"
      ],
      "text/plain": [
       "      건축면적 부속건축물면적 부속건축물수    건폐율  법정동코드 건물명 블록     번 외필지수      생성일자  ... 특수지명  \\\n",
       "0  1032.05       0      0  69.47  10400         0403    0  20190530  ...        \n",
       "\n",
       "        착공일 구조코드   구조코드명      연면적    총동연면적 지하층수     사용승인일     용적률 용적률산정연면적  \n",
       "0  20120727   31  일반철골구조  3076.54  3076.54    0  20130118  207.08  3076.54  \n",
       "\n",
       "[1 rows x 78 columns]"
      ]
     },
     "execution_count": 15,
     "metadata": {},
     "output_type": "execute_result"
    }
   ],
   "source": [
    "category = \"표제부\"                                   # 건축물대장 종류 (ex. 표제부, 총괄표제부, 전유부 등)\n",
    "sigunguCd = \"28237\"                                     # 시군구코드(5)\n",
    "bjdongCd = \"10400\"                                      # 읍면동코드(5)\n",
    "bun = \"0403\"                                            # 본번(4)\n",
    "ji = \"0020\"                                             # 부번(4)\n",
    "\n",
    "df = bd.read_data(category=category, sigunguCd=sigunguCd, bjdongCd=bjdongCd, bun=bun, ji=ji)\n",
    "df.head()"
   ]
  },
  {
   "cell_type": "code",
   "execution_count": 17,
   "id": "5ade6670",
   "metadata": {
    "ExecuteTime": {
     "end_time": "2022-02-21T01:30:22.186810Z",
     "start_time": "2022-02-21T01:30:21.152445Z"
    }
   },
   "outputs": [
    {
     "name": "stderr",
     "output_type": "stream",
     "text": [
      "[INFO] 조회 결과 없음\n"
     ]
    },
    {
     "data": {
      "text/html": [
       "<div>\n",
       "<style scoped>\n",
       "    .dataframe tbody tr th:only-of-type {\n",
       "        vertical-align: middle;\n",
       "    }\n",
       "\n",
       "    .dataframe tbody tr th {\n",
       "        vertical-align: top;\n",
       "    }\n",
       "\n",
       "    .dataframe thead th {\n",
       "        text-align: right;\n",
       "    }\n",
       "</style>\n",
       "<table border=\"1\" class=\"dataframe\">\n",
       "  <thead>\n",
       "    <tr style=\"text-align: right;\">\n",
       "      <th></th>\n",
       "      <th>법정동코드</th>\n",
       "      <th>건물명</th>\n",
       "      <th>블록</th>\n",
       "      <th>번</th>\n",
       "      <th>생성일자</th>\n",
       "      <th>동명칭</th>\n",
       "      <th>층구분코드</th>\n",
       "      <th>층구분코드명</th>\n",
       "      <th>층번호</th>\n",
       "      <th>호명칭</th>\n",
       "      <th>...</th>\n",
       "      <th>도로명대지위치</th>\n",
       "      <th>대지구분코드</th>\n",
       "      <th>대지위치</th>\n",
       "      <th>대장구분코드</th>\n",
       "      <th>대장구분코드명</th>\n",
       "      <th>대장종류코드</th>\n",
       "      <th>대장종류코드명</th>\n",
       "      <th>순번</th>\n",
       "      <th>시군구코드</th>\n",
       "      <th>특수지명</th>\n",
       "    </tr>\n",
       "  </thead>\n",
       "  <tbody>\n",
       "  </tbody>\n",
       "</table>\n",
       "<p>0 rows × 28 columns</p>\n",
       "</div>"
      ],
      "text/plain": [
       "Empty DataFrame\n",
       "Columns: [법정동코드, 건물명, 블록, 번, 생성일자, 동명칭, 층구분코드, 층구분코드명, 층번호, 호명칭, 지, 로트, 관리건축물대장PK, 새주소법정동코드, 새주소본번, 새주소도로코드, 새주소부번, 새주소지상지하코드, 도로명대지위치, 대지구분코드, 대지위치, 대장구분코드, 대장구분코드명, 대장종류코드, 대장종류코드명, 순번, 시군구코드, 특수지명]\n",
       "Index: []\n",
       "\n",
       "[0 rows x 28 columns]"
      ]
     },
     "execution_count": 17,
     "metadata": {},
     "output_type": "execute_result"
    }
   ],
   "source": [
    "category = \"전유부\"                                   # 건축물대장 종류 (ex. 표제부, 총괄표제부, 전유부 등)\n",
    "sigunguCd = \"28237\"                                     # 시군구코드(5)\n",
    "bjdongCd = \"10400\"                                      # 읍면동코드(5)\n",
    "bun = \"0403\"                                            # 본번(4)\n",
    "ji = \"0020\"                                             # 부번(4)\n",
    "\n",
    "df = bd.read_data(category=category, sigunguCd=sigunguCd, bjdongCd=bjdongCd, bun=bun, ji=ji)\n",
    "df.head()"
   ]
  },
  {
   "cell_type": "code",
   "execution_count": 19,
   "id": "19a2f553",
   "metadata": {
    "ExecuteTime": {
     "end_time": "2022-02-21T01:36:06.337748Z",
     "start_time": "2022-02-21T01:36:06.320766Z"
    }
   },
   "outputs": [],
   "source": [
    "url = 'http://apis.data.go.kr/1613000/BldRgstService_v2/getBrBasisOulnInfo?sigunguCd=11680&bjdongCd=10300&bun=0012&ji=0000&ServiceKey={key}'.format(key = serviceKey)"
   ]
  },
  {
   "cell_type": "code",
   "execution_count": 21,
   "id": "d63d2469",
   "metadata": {
    "ExecuteTime": {
     "end_time": "2022-02-21T01:36:19.986864Z",
     "start_time": "2022-02-21T01:36:19.824285Z"
    }
   },
   "outputs": [],
   "source": [
    "r = requests.get(url)"
   ]
  },
  {
   "cell_type": "code",
   "execution_count": 40,
   "id": "665b2cd1",
   "metadata": {
    "ExecuteTime": {
     "end_time": "2022-02-21T01:43:15.871823Z",
     "start_time": "2022-02-21T01:43:15.856863Z"
    }
   },
   "outputs": [],
   "source": [
    "xmlsoup = BeautifulSoup(r.text, \"lxml-xml\")\n",
    "header = xmlsoup.find('header')\n",
    "result_code = header.find('resultCode').text\n",
    "result_msg = header.find('resultMsg').text"
   ]
  },
  {
   "cell_type": "code",
   "execution_count": 44,
   "id": "1c3bcc56",
   "metadata": {
    "ExecuteTime": {
     "end_time": "2022-02-21T01:43:34.046566Z",
     "start_time": "2022-02-21T01:43:34.041580Z"
    }
   },
   "outputs": [
    {
     "data": {
      "text/plain": [
       "'00'"
      ]
     },
     "execution_count": 44,
     "metadata": {},
     "output_type": "execute_result"
    }
   ],
   "source": [
    "result_code"
   ]
  },
  {
   "cell_type": "code",
   "execution_count": 47,
   "id": "6af06129",
   "metadata": {
    "ExecuteTime": {
     "end_time": "2022-02-21T04:55:24.032734Z",
     "start_time": "2022-02-21T04:55:23.766207Z"
    }
   },
   "outputs": [],
   "source": [
    "url = 'https://map1.daumcdn.net/map_usedistrict/2111ydg/L1/7921/3177.png'\n",
    "r = requests.get(url)"
   ]
  },
  {
   "cell_type": "code",
   "execution_count": 52,
   "id": "28790b3f",
   "metadata": {
    "ExecuteTime": {
     "end_time": "2022-02-21T05:11:57.883181Z",
     "start_time": "2022-02-21T05:11:57.870214Z"
    }
   },
   "outputs": [],
   "source": [
    "import os"
   ]
  },
  {
   "cell_type": "code",
   "execution_count": 53,
   "id": "a2fb5c82",
   "metadata": {
    "ExecuteTime": {
     "end_time": "2022-02-21T05:11:59.044396Z",
     "start_time": "2022-02-21T05:11:58.557951Z"
    }
   },
   "outputs": [
    {
     "data": {
      "text/plain": [
       "0"
      ]
     },
     "execution_count": 53,
     "metadata": {},
     "output_type": "execute_result"
    }
   ],
   "source": [
    "for imgnum in range():\n",
    "    url = 'https://map1.daumcdn.net/map_usedistrict/2111ydg/L1/7921/{img}'.format(img = imgnum)\n",
    "    filename = \"a\"\n",
    "    os.system(\"curl \" + url + \" > \"+filename+ \".jpg\")"
   ]
  },
  {
   "cell_type": "code",
   "execution_count": 54,
   "id": "9249686c",
   "metadata": {
    "ExecuteTime": {
     "end_time": "2022-02-21T05:14:34.131111Z",
     "start_time": "2022-02-21T05:14:33.910892Z"
    }
   },
   "outputs": [
    {
     "data": {
      "text/plain": [
       "0"
      ]
     },
     "execution_count": 54,
     "metadata": {},
     "output_type": "execute_result"
    }
   ],
   "source": [
    "url = 'https://map1.daumcdn.net/map_usedistrict/2111ydg/L1/7921/{img}'.format(img = '3177.png')\n",
    "filename = \"a\"\n",
    "os.system(\"curl \" + url + \" > \"+filename+ \".png\")"
   ]
  }
 ],
 "metadata": {
  "kernelspec": {
   "display_name": "Python 3 (ipykernel)",
   "language": "python",
   "name": "python3"
  },
  "language_info": {
   "codemirror_mode": {
    "name": "ipython",
    "version": 3
   },
   "file_extension": ".py",
   "mimetype": "text/x-python",
   "name": "python",
   "nbconvert_exporter": "python",
   "pygments_lexer": "ipython3",
   "version": "3.9.7"
  },
  "toc": {
   "base_numbering": 1,
   "nav_menu": {},
   "number_sections": true,
   "sideBar": true,
   "skip_h1_title": false,
   "title_cell": "Table of Contents",
   "title_sidebar": "Contents",
   "toc_cell": false,
   "toc_position": {},
   "toc_section_display": true,
   "toc_window_display": false
  }
 },
 "nbformat": 4,
 "nbformat_minor": 5
}
