{
 "cells": [
  {
   "cell_type": "code",
   "execution_count": 30,
   "id": "f8882338",
   "metadata": {
    "ExecuteTime": {
     "end_time": "2022-02-14T06:02:08.180030Z",
     "start_time": "2022-02-14T06:02:08.070624Z"
    }
   },
   "outputs": [],
   "source": [
    "import requests\n",
    "import json\n",
    "import pandas as pd\n",
    "import time\n",
    "from tqdm import tqdm_notebook\n",
    "from selenium import webdriver"
   ]
  },
  {
   "cell_type": "code",
   "execution_count": 11,
   "id": "eb2195b7",
   "metadata": {
    "ExecuteTime": {
     "end_time": "2022-02-14T05:54:19.499321Z",
     "start_time": "2022-02-14T05:54:19.448158Z"
    }
   },
   "outputs": [],
   "source": [
    "naver_data = pd.read_csv('./data/meamul_up_to_date_detail.csv')\n",
    "landbook = pd.read_csv('./data/landbook.csv')"
   ]
  },
  {
   "cell_type": "code",
   "execution_count": 132,
   "id": "2cf794ee",
   "metadata": {
    "ExecuteTime": {
     "end_time": "2022-02-14T08:15:49.017836Z",
     "start_time": "2022-02-14T08:15:49.010884Z"
    }
   },
   "outputs": [],
   "source": [
    "temp = naver_data[['latitude','longitude','pnu']]"
   ]
  },
  {
   "cell_type": "code",
   "execution_count": 133,
   "id": "175e4a8f",
   "metadata": {
    "ExecuteTime": {
     "end_time": "2022-02-14T08:15:52.619221Z",
     "start_time": "2022-02-14T08:15:52.602926Z"
    },
    "scrolled": true
   },
   "outputs": [
    {
     "name": "stderr",
     "output_type": "stream",
     "text": [
      "C:\\Users\\gongdan\\anaconda3\\lib\\site-packages\\pandas\\util\\_decorators.py:311: SettingWithCopyWarning: \n",
      "A value is trying to be set on a copy of a slice from a DataFrame\n",
      "\n",
      "See the caveats in the documentation: https://pandas.pydata.org/pandas-docs/stable/user_guide/indexing.html#returning-a-view-versus-a-copy\n",
      "  return func(*args, **kwargs)\n"
     ]
    }
   ],
   "source": [
    "temp.drop_duplicates(subset=['latitude','longitude'], inplace= True)\n",
    "temp = temp.reset_index(drop = True)"
   ]
  },
  {
   "cell_type": "code",
   "execution_count": 26,
   "id": "5fd799bb",
   "metadata": {
    "ExecuteTime": {
     "end_time": "2022-02-14T06:00:21.155200Z",
     "start_time": "2022-02-14T06:00:21.106334Z"
    },
    "scrolled": false
   },
   "outputs": [
    {
     "name": "stderr",
     "output_type": "stream",
     "text": [
      "C:\\Users\\gongdan\\AppData\\Local\\Temp/ipykernel_12976/1694063724.py:2: TqdmDeprecationWarning: This function will be removed in tqdm==5.0.0\n",
      "Please use `tqdm.notebook.tqdm` instead of `tqdm.tqdm_notebook`\n",
      "  for i in tqdm_notebook(range(0, len(naver_data))):\n"
     ]
    },
    {
     "data": {
      "application/vnd.jupyter.widget-view+json": {
       "model_id": "fc59d3e50fdf49aebaa2d1af75690bf7",
       "version_major": 2,
       "version_minor": 0
      },
      "text/plain": [
       "  0%|          | 0/1438 [00:00<?, ?it/s]"
      ]
     },
     "metadata": {},
     "output_type": "display_data"
    }
   ],
   "source": [
    "temp = []\n",
    "for i in tqdm_notebook(range(0, len(naver_data))):\n",
    "    temp.append(str(naver_data['latitude'][i])+', '+str(naver_data['longitude'][i]))\n"
   ]
  },
  {
   "cell_type": "code",
   "execution_count": 32,
   "id": "d6cfe206",
   "metadata": {
    "ExecuteTime": {
     "end_time": "2022-02-14T06:02:25.921705Z",
     "start_time": "2022-02-14T06:02:24.686496Z"
    }
   },
   "outputs": [],
   "source": [
    "driver = webdriver.Chrome('./chromedriver_win.exe')\n",
    "driver.get('https://www.google.com/maps/?hl=ko')\n",
    "driver.find_element_by_xpath('/html/body/div[3]/div[9]/div[3]/div[1]/div[1]/div[1]/div[2]/form/div/div[3]/div/input[1]').send_keys(i)\n",
    "temp = pd.DataFrame(temp).drop_duplicates()"
   ]
  },
  {
   "cell_type": "code",
   "execution_count": 50,
   "id": "67bcb1fd",
   "metadata": {
    "ExecuteTime": {
     "end_time": "2022-02-14T06:32:08.516797Z",
     "start_time": "2022-02-14T06:12:43.871363Z"
    }
   },
   "outputs": [],
   "source": [
    "google_juso = []\n",
    "for i in tqdm_notebook(temp[0]):\n",
    "    driver.find_element_by_xpath('/html/body/div[3]/div[9]/div[3]/div[1]/div[1]/div[1]/div[2]/form/div/div[3]/div/input[1]').clear()\n",
    "    driver.find_element_by_xpath('/html/body/div[3]/div[9]/div[3]/div[1]/div[1]/div[1]/div[2]/form/div/div[3]/div/input[1]').send_keys(i)\n",
    "    driver.find_element_by_xpath('/html/body/div[3]/div[9]/div[3]/div[1]/div[1]/div[1]/div[2]/div[1]/button').click()\n",
    "    time.sleep(3)\n",
    "    google_juso.append(driver.find_element_by_xpath('/html/body/div[3]/div[9]/div[8]/div/div[1]/div/div/div[7]/div/div[1]/span[3]/span[3]').text)\n",
    "    "
   ]
  },
  {
   "cell_type": "code",
   "execution_count": 143,
   "id": "520bb40f",
   "metadata": {
    "ExecuteTime": {
     "end_time": "2022-02-14T08:19:11.701724Z",
     "start_time": "2022-02-14T08:19:11.691750Z"
    }
   },
   "outputs": [],
   "source": [
    "df = pd.merge(temp, landbook, left_on=['latitude','longitude'], right_on=['naver_latitude','naver_longitude'], how = 'outer')"
   ]
  },
  {
   "cell_type": "code",
   "execution_count": 147,
   "id": "10c124bd",
   "metadata": {
    "ExecuteTime": {
     "end_time": "2022-02-14T08:19:53.291622Z",
     "start_time": "2022-02-14T08:19:53.275999Z"
    }
   },
   "outputs": [],
   "source": [
    "find_landbook = df[df['id'].isna() == True]\n",
    "find_landbook = find_landbook[['latitude_x','longitude_x','pnu']]\n",
    "find_landbook.columns = ['naver_latitude','naver_longitude','naver_pnu']"
   ]
  },
  {
   "cell_type": "code",
   "execution_count": 156,
   "id": "905cf00c",
   "metadata": {
    "ExecuteTime": {
     "end_time": "2022-02-14T08:31:23.185084Z",
     "start_time": "2022-02-14T08:23:31.214092Z"
    },
    "scrolled": false
   },
   "outputs": [
    {
     "name": "stderr",
     "output_type": "stream",
     "text": [
      "C:\\Users\\gongdan\\AppData\\Local\\Temp/ipykernel_12976/940860847.py:2: TqdmDeprecationWarning: This function will be removed in tqdm==5.0.0\n",
      "Please use `tqdm.notebook.tqdm` instead of `tqdm.tqdm_notebook`\n",
      "  for idx, key in enumerate(tqdm_notebook(find_landbook.index)):\n"
     ]
    },
    {
     "data": {
      "application/vnd.jupyter.widget-view+json": {
       "model_id": "68797b458e0847c1bd17084d3258aa1a",
       "version_major": 2,
       "version_minor": 0
      },
      "text/plain": [
       "  0%|          | 0/217 [00:00<?, ?it/s]"
      ]
     },
     "metadata": {},
     "output_type": "display_data"
    }
   ],
   "source": [
    "result_landbook = []\n",
    "for idx, key in enumerate(tqdm_notebook(find_landbook.index)):\n",
    "    url = 'https://api2.landbook.net/point_polygons?lon={lon}&lat={lat}'.format(lon = find_landbook['naver_longitude'][key], lat = find_landbook['naver_latitude'][key])\n",
    "    r = requests.get(url, timeout = 5)\n",
    "    result_landbook. append([json.loads(r.text)['id'], find_landbook['naver_longitude'][key], find_landbook['naver_latitude'][key],find_landbook['naver_pnu'][key]])\n",
    "    time.sleep(2)"
   ]
  },
  {
   "cell_type": "code",
   "execution_count": 162,
   "id": "9a8c6a3f",
   "metadata": {
    "ExecuteTime": {
     "end_time": "2022-02-14T08:35:03.010143Z",
     "start_time": "2022-02-14T08:35:02.995151Z"
    }
   },
   "outputs": [],
   "source": [
    "result_landbook = pd.DataFrame(result_landbook)\n",
    "result_landbook.columns = ['landbook_pnu','naver_longitude','naver_latitude','naver_pnu']"
   ]
  },
  {
   "cell_type": "code",
   "execution_count": 163,
   "id": "afef5393",
   "metadata": {
    "ExecuteTime": {
     "end_time": "2022-02-14T08:35:07.920172Z",
     "start_time": "2022-02-14T08:35:07.898024Z"
    }
   },
   "outputs": [
    {
     "data": {
      "text/html": [
       "<div>\n",
       "<style scoped>\n",
       "    .dataframe tbody tr th:only-of-type {\n",
       "        vertical-align: middle;\n",
       "    }\n",
       "\n",
       "    .dataframe tbody tr th {\n",
       "        vertical-align: top;\n",
       "    }\n",
       "\n",
       "    .dataframe thead th {\n",
       "        text-align: right;\n",
       "    }\n",
       "</style>\n",
       "<table border=\"1\" class=\"dataframe\">\n",
       "  <thead>\n",
       "    <tr style=\"text-align: right;\">\n",
       "      <th></th>\n",
       "      <th>landbook_pnu</th>\n",
       "      <th>naver_longitude</th>\n",
       "      <th>naver_latitude</th>\n",
       "      <th>naver_pnu</th>\n",
       "    </tr>\n",
       "  </thead>\n",
       "  <tbody>\n",
       "    <tr>\n",
       "      <th>0</th>\n",
       "      <td>2823710500104600003</td>\n",
       "      <td>126.735422</td>\n",
       "      <td>37.507883</td>\n",
       "      <td>2.823711e+18</td>\n",
       "    </tr>\n",
       "    <tr>\n",
       "      <th>1</th>\n",
       "      <td>2823710500101220013</td>\n",
       "      <td>126.744641</td>\n",
       "      <td>37.518396</td>\n",
       "      <td>2.823711e+18</td>\n",
       "    </tr>\n",
       "    <tr>\n",
       "      <th>2</th>\n",
       "      <td>2823710500104600004</td>\n",
       "      <td>126.735739</td>\n",
       "      <td>37.507867</td>\n",
       "      <td>2.823711e+18</td>\n",
       "    </tr>\n",
       "    <tr>\n",
       "      <th>3</th>\n",
       "      <td>2823710500104600001</td>\n",
       "      <td>126.734781</td>\n",
       "      <td>37.507914</td>\n",
       "      <td>2.823711e+18</td>\n",
       "    </tr>\n",
       "    <tr>\n",
       "      <th>4</th>\n",
       "      <td>2823710500104640003</td>\n",
       "      <td>126.733541</td>\n",
       "      <td>37.507264</td>\n",
       "      <td>2.823711e+18</td>\n",
       "    </tr>\n",
       "    <tr>\n",
       "      <th>...</th>\n",
       "      <td>...</td>\n",
       "      <td>...</td>\n",
       "      <td>...</td>\n",
       "      <td>...</td>\n",
       "    </tr>\n",
       "    <tr>\n",
       "      <th>212</th>\n",
       "      <td>2824510400102080001</td>\n",
       "      <td>126.752062</td>\n",
       "      <td>37.537082</td>\n",
       "      <td>2.824510e+18</td>\n",
       "    </tr>\n",
       "    <tr>\n",
       "      <th>213</th>\n",
       "      <td>2824510400102090000</td>\n",
       "      <td>126.756501</td>\n",
       "      <td>37.537191</td>\n",
       "      <td>2.824510e+18</td>\n",
       "    </tr>\n",
       "    <tr>\n",
       "      <th>214</th>\n",
       "      <td>2824510300109060006</td>\n",
       "      <td>126.736062</td>\n",
       "      <td>37.533263</td>\n",
       "      <td>2.824510e+18</td>\n",
       "    </tr>\n",
       "    <tr>\n",
       "      <th>215</th>\n",
       "      <td>2824510300107380003</td>\n",
       "      <td>126.731423</td>\n",
       "      <td>37.524465</td>\n",
       "      <td>2.824510e+18</td>\n",
       "    </tr>\n",
       "    <tr>\n",
       "      <th>216</th>\n",
       "      <td>2824510300107080004</td>\n",
       "      <td>126.733791</td>\n",
       "      <td>37.525289</td>\n",
       "      <td>2.824510e+18</td>\n",
       "    </tr>\n",
       "  </tbody>\n",
       "</table>\n",
       "<p>217 rows × 4 columns</p>\n",
       "</div>"
      ],
      "text/plain": [
       "            landbook_pnu  naver_longitude  naver_latitude     naver_pnu\n",
       "0    2823710500104600003       126.735422       37.507883  2.823711e+18\n",
       "1    2823710500101220013       126.744641       37.518396  2.823711e+18\n",
       "2    2823710500104600004       126.735739       37.507867  2.823711e+18\n",
       "3    2823710500104600001       126.734781       37.507914  2.823711e+18\n",
       "4    2823710500104640003       126.733541       37.507264  2.823711e+18\n",
       "..                   ...              ...             ...           ...\n",
       "212  2824510400102080001       126.752062       37.537082  2.824510e+18\n",
       "213  2824510400102090000       126.756501       37.537191  2.824510e+18\n",
       "214  2824510300109060006       126.736062       37.533263  2.824510e+18\n",
       "215  2824510300107380003       126.731423       37.524465  2.824510e+18\n",
       "216  2824510300107080004       126.733791       37.525289  2.824510e+18\n",
       "\n",
       "[217 rows x 4 columns]"
      ]
     },
     "execution_count": 163,
     "metadata": {},
     "output_type": "execute_result"
    }
   ],
   "source": [
    "result_landbook"
   ]
  },
  {
   "cell_type": "code",
   "execution_count": null,
   "id": "f9f29e87",
   "metadata": {},
   "outputs": [],
   "source": [
    "## 기존 landbook 데이터와 신규로 찾을 데이터 비교 과정 필요\n",
    "# need_search_jibeon = "
   ]
  },
  {
   "cell_type": "code",
   "execution_count": 481,
   "id": "9b7ba7da",
   "metadata": {
    "ExecuteTime": {
     "end_time": "2022-02-11T02:44:45.636433Z",
     "start_time": "2022-02-11T02:44:43.408722Z"
    },
    "scrolled": true
   },
   "outputs": [
    {
     "name": "stderr",
     "output_type": "stream",
     "text": [
      "C:\\Users\\gongdan\\AppData\\Local\\Temp/ipykernel_9708/2791178482.py:2: TqdmDeprecationWarning: This function will be removed in tqdm==5.0.0\n",
      "Please use `tqdm.notebook.tqdm` instead of `tqdm.tqdm_notebook`\n",
      "  for idx, item in tqdm.tqdm_notebook(enumerate(jibeon['pnu'])):\n"
     ]
    },
    {
     "data": {
      "application/vnd.jupyter.widget-view+json": {
       "model_id": "36800373c329463fae296d8289fd72eb",
       "version_major": 2,
       "version_minor": 0
      },
      "text/plain": [
       "0it [00:00, ?it/s]"
      ]
     },
     "metadata": {},
     "output_type": "display_data"
    }
   ],
   "source": [
    "result_jibeon = pd.DataFrame()\n",
    "for idx, item in tqdm.tqdm_notebook(enumerate(jibeon['pnu'])):\n",
    "    \n",
    "    url = 'https://api2.landbook.net/parcels/{num}'.format(num = item)\n",
    "    r = requests.get(url, timeout = 5)\n",
    "    try:\n",
    "        info = json.loads(r.text)['parcel_info']\n",
    "        info.pop('geometry')\n",
    "        info.pop('building_list')\n",
    "        info.pop('other_parcel')\n",
    "        info = dict(info)\n",
    "        temp = pd.DataFrame(info,  index = [0])\n",
    "        result_jibeon = pd.concat([result_jibeon, temp])\n",
    "        time.sleep(2)\n",
    "    except:\n",
    "        print(idx, \"error\", item)\n",
    "result_jibeon = result_jibeon.reset_index(drop = True)"
   ]
  },
  {
   "cell_type": "code",
   "execution_count": 482,
   "id": "a4e4e594",
   "metadata": {
    "ExecuteTime": {
     "end_time": "2022-02-11T02:44:46.597884Z",
     "start_time": "2022-02-11T02:44:46.591900Z"
    }
   },
   "outputs": [],
   "source": [
    "result_jibeon = result_jibeon.reset_index(drop = True)"
   ]
  },
  {
   "cell_type": "code",
   "execution_count": 483,
   "id": "ed0df12c",
   "metadata": {
    "ExecuteTime": {
     "end_time": "2022-02-11T02:44:47.420110Z",
     "start_time": "2022-02-11T02:44:47.408139Z"
    },
    "scrolled": false
   },
   "outputs": [],
   "source": [
    "result_jibeon[['naver_longitude','naver_latitude','naver_pnu']] = jibeon[['longitude','latitude','naver_pnu']]"
   ]
  },
  {
   "cell_type": "code",
   "execution_count": 484,
   "id": "eb02e327",
   "metadata": {
    "ExecuteTime": {
     "end_time": "2022-02-11T02:44:53.675126Z",
     "start_time": "2022-02-11T02:44:53.664153Z"
    }
   },
   "outputs": [],
   "source": [
    "landbook = pd.read_csv('./data/landbook.csv')"
   ]
  },
  {
   "cell_type": "code",
   "execution_count": 485,
   "id": "2643fef9",
   "metadata": {
    "ExecuteTime": {
     "end_time": "2022-02-11T02:44:59.720068Z",
     "start_time": "2022-02-11T02:44:59.712090Z"
    }
   },
   "outputs": [],
   "source": [
    "result = pd.concat([landbook, result_jibeon])"
   ]
  },
  {
   "cell_type": "code",
   "execution_count": 486,
   "id": "3886f4ab",
   "metadata": {
    "ExecuteTime": {
     "end_time": "2022-02-11T02:45:00.344591Z",
     "start_time": "2022-02-11T02:45:00.319659Z"
    }
   },
   "outputs": [],
   "source": [
    "result.to_csv('./data/landbook.csv', index = False, encoding = \"utf-8-sig\")"
   ]
  }
 ],
 "metadata": {
  "kernelspec": {
   "display_name": "Python 3 (ipykernel)",
   "language": "python",
   "name": "python3"
  },
  "language_info": {
   "codemirror_mode": {
    "name": "ipython",
    "version": 3
   },
   "file_extension": ".py",
   "mimetype": "text/x-python",
   "name": "python",
   "nbconvert_exporter": "python",
   "pygments_lexer": "ipython3",
   "version": "3.9.7"
  },
  "toc": {
   "base_numbering": 1,
   "nav_menu": {},
   "number_sections": true,
   "sideBar": true,
   "skip_h1_title": false,
   "title_cell": "Table of Contents",
   "title_sidebar": "Contents",
   "toc_cell": false,
   "toc_position": {},
   "toc_section_display": true,
   "toc_window_display": false
  }
 },
 "nbformat": 4,
 "nbformat_minor": 5
}
