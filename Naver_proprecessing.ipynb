{
 "cells": [
  {
   "cell_type": "code",
   "execution_count": 10,
   "id": "70d82e98",
   "metadata": {
    "ExecuteTime": {
     "end_time": "2022-03-04T00:23:50.899749Z",
     "start_time": "2022-03-04T00:23:50.879803Z"
    }
   },
   "outputs": [],
   "source": [
    "import pandas as pd\n"
   ]
  },
  {
   "cell_type": "code",
   "execution_count": 11,
   "id": "f1c1b3ce",
   "metadata": {
    "ExecuteTime": {
     "end_time": "2022-03-04T00:23:51.233932Z",
     "start_time": "2022-03-04T00:23:50.902741Z"
    }
   },
   "outputs": [],
   "source": [
    "list_data = pd.read_csv('./data/meamul_up_to_date_list.csv')\n",
    "detail_data = pd.read_csv('./data/meamul_up_to_date_detail.csv')\n",
    "landbook = pd.read_csv('./data/landbook.csv')"
   ]
  },
  {
   "cell_type": "code",
   "execution_count": 12,
   "id": "c31fa156",
   "metadata": {
    "ExecuteTime": {
     "end_time": "2022-03-04T00:23:51.249073Z",
     "start_time": "2022-03-04T00:23:51.234928Z"
    }
   },
   "outputs": [],
   "source": [
    "#col_list = pd.read_csv('./columns_list.csv')\n",
    "#col_list = list(col_list.columns)\n",
    "col_list = ['articleNo',\n",
    " 'articleName',\n",
    " 'tradeTypeName',\n",
    " 'floorInfo',\n",
    " 'rentPrc',\n",
    " 'dealOrWarrantPrc',\n",
    " 'area1',\n",
    " 'area2',\n",
    " 'realtorName',\n",
    " 'search_day',\n",
    " 'articleDetail.verificationTypeName',\n",
    " 'articleDetail.mapLocationIndicationYn',\n",
    " 'articleDetail.etcAddress',\n",
    " 'articleDetail.articleFeatureDescription',\n",
    " 'articleDetail.detailDescription',\n",
    " 'articleAddition.articleFeatureDesc',\n",
    " 'articleAddition.tagList',\n",
    " 'articleBuildingRegister.platPlc',\n",
    " 'address',\n",
    " 'building_name']"
   ]
  },
  {
   "cell_type": "code",
   "execution_count": 13,
   "id": "52069133",
   "metadata": {
    "ExecuteTime": {
     "end_time": "2022-03-04T00:23:51.264935Z",
     "start_time": "2022-03-04T00:23:51.251066Z"
    }
   },
   "outputs": [],
   "source": [
    "del list_data['longitude'], list_data['latitude']\n",
    "del landbook['naver_pnu']"
   ]
  },
  {
   "cell_type": "code",
   "execution_count": 14,
   "id": "2a421fe4",
   "metadata": {
    "ExecuteTime": {
     "end_time": "2022-03-04T00:23:51.523427Z",
     "start_time": "2022-03-04T00:23:51.266930Z"
    }
   },
   "outputs": [],
   "source": [
    "all_data = pd.merge(list_data, detail_data, left_on='articleNo',right_on='articleDetail.articleNo',how='outer')"
   ]
  },
  {
   "cell_type": "code",
   "execution_count": 15,
   "id": "f291b7c5",
   "metadata": {
    "ExecuteTime": {
     "end_time": "2022-03-04T00:23:51.538704Z",
     "start_time": "2022-03-04T00:23:51.524427Z"
    }
   },
   "outputs": [],
   "source": [
    "all_data.rename(columns = {'longitude' : 'naver_longitude'}, inplace=True)\n",
    "all_data.rename(columns = {'latitude' : 'naver_latitude'},inplace=True)"
   ]
  },
  {
   "cell_type": "code",
   "execution_count": 16,
   "id": "c1c4bc36",
   "metadata": {
    "ExecuteTime": {
     "end_time": "2022-03-04T00:23:51.584658Z",
     "start_time": "2022-03-04T00:23:51.539673Z"
    },
    "scrolled": true
   },
   "outputs": [],
   "source": [
    "a = pd.merge(all_data, landbook, left_on=['articleDetail.longitude','articleDetail.latitude'], right_on = ['naver_longitude','naver_latitude'],how='outer')"
   ]
  },
  {
   "cell_type": "code",
   "execution_count": 17,
   "id": "1e66450f",
   "metadata": {
    "ExecuteTime": {
     "end_time": "2022-03-04T00:23:51.616372Z",
     "start_time": "2022-03-04T00:23:51.585372Z"
    }
   },
   "outputs": [],
   "source": [
    "result = a[['articleNo',\n",
    " 'articleName',\n",
    " 'tradeTypeName',\n",
    " 'floorInfo',\n",
    " 'rentPrc',\n",
    " 'dealOrWarrantPrc',\n",
    " 'area1',\n",
    " 'area2',\n",
    " 'realtorName',\n",
    " 'search_day',\n",
    " 'articleDetail.verificationTypeName',\n",
    " 'articleDetail.mapLocationIndicationYn',\n",
    " 'articleDetail.etcAddress',\n",
    " 'articleDetail.articleFeatureDescription',\n",
    " 'articleDetail.detailDescription',\n",
    "   'articleBuildingRegister.platPlc',\n",
    " 'address',\n",
    " 'building_name']]"
   ]
  },
  {
   "cell_type": "markdown",
   "id": "cfa62879",
   "metadata": {
    "ExecuteTime": {
     "end_time": "2022-02-19T01:11:29.540227Z",
     "start_time": "2022-02-19T01:11:29.036742Z"
    }
   },
   "source": [
    "for i in a.columns:\n",
    "    if '.' in i:\n",
    "        a.rename(columns = {i:i.split('.')[1]}, inplace=True)\n",
    "a = a.T.drop_duplicates().T"
   ]
  },
  {
   "cell_type": "code",
   "execution_count": 18,
   "id": "9fa21a30",
   "metadata": {
    "ExecuteTime": {
     "end_time": "2022-03-04T00:23:52.179451Z",
     "start_time": "2022-03-04T00:23:51.619365Z"
    },
    "scrolled": true
   },
   "outputs": [],
   "source": [
    "a.drop_duplicates().to_csv('./data/all_data.csv', index = False, encoding = \"utf-8-sig\")\n",
    "result.drop_duplicates().to_csv('./data/preprocessing.csv', index = False, encoding = \"utf-8-sig\")"
   ]
  },
  {
   "cell_type": "code",
   "execution_count": null,
   "id": "d58fcbc3",
   "metadata": {},
   "outputs": [],
   "source": []
  }
 ],
 "metadata": {
  "kernelspec": {
   "display_name": "Python 3 (ipykernel)",
   "language": "python",
   "name": "python3"
  },
  "language_info": {
   "codemirror_mode": {
    "name": "ipython",
    "version": 3
   },
   "file_extension": ".py",
   "mimetype": "text/x-python",
   "name": "python",
   "nbconvert_exporter": "python",
   "pygments_lexer": "ipython3",
   "version": "3.9.7"
  },
  "toc": {
   "base_numbering": 1,
   "nav_menu": {},
   "number_sections": true,
   "sideBar": true,
   "skip_h1_title": false,
   "title_cell": "Table of Contents",
   "title_sidebar": "Contents",
   "toc_cell": false,
   "toc_position": {},
   "toc_section_display": true,
   "toc_window_display": false
  }
 },
 "nbformat": 4,
 "nbformat_minor": 5
}
