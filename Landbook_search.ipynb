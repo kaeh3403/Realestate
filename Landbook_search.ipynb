{
 "cells": [
  {
   "cell_type": "code",
   "execution_count": 473,
   "id": "f8882338",
   "metadata": {
    "ExecuteTime": {
     "end_time": "2022-02-11T02:44:26.608659Z",
     "start_time": "2022-02-11T02:44:26.568934Z"
    }
   },
   "outputs": [],
   "source": [
    "import requests\n",
    "import json\n",
    "import pandas as pd\n",
    "import time\n",
    "from tqdm import tqdm_notebook"
   ]
  },
  {
   "cell_type": "code",
   "execution_count": 494,
   "id": "eb2195b7",
   "metadata": {
    "ExecuteTime": {
     "end_time": "2022-02-11T02:48:29.590335Z",
     "start_time": "2022-02-11T02:48:29.561079Z"
    }
   },
   "outputs": [],
   "source": [
    "naver_data = pd.read_csv('./data/Cheongcheon_up_to_date_detail.csv')\n",
    "landbook = pd.read_csv('./data/landbook.csv')"
   ]
  },
  {
   "cell_type": "code",
   "execution_count": 495,
   "id": "bf8082b6",
   "metadata": {
    "ExecuteTime": {
     "end_time": "2022-02-11T02:48:29.818510Z",
     "start_time": "2022-02-11T02:48:29.808536Z"
    }
   },
   "outputs": [],
   "source": [
    "naver_location = naver_data[['longitude','latitude','pnu']].drop_duplicates()\n",
    "# naver_location['naver_pnu'] = naver_location['pnu']\n",
    "naver_location = naver_location.reset_index(drop = True)\n",
    "naver_location.columns = ['naver_longitude', 'naver_latitude', 'naver_pnu']"
   ]
  },
  {
   "cell_type": "code",
   "execution_count": 496,
   "id": "0c0e4470",
   "metadata": {
    "ExecuteTime": {
     "end_time": "2022-02-11T02:48:30.310463Z",
     "start_time": "2022-02-11T02:48:30.294632Z"
    }
   },
   "outputs": [],
   "source": [
    "del landbook['naver_pnu']"
   ]
  },
  {
   "cell_type": "code",
   "execution_count": 497,
   "id": "0f8c0363",
   "metadata": {
    "ExecuteTime": {
     "end_time": "2022-02-11T02:48:31.277892Z",
     "start_time": "2022-02-11T02:48:31.256018Z"
    },
    "scrolled": true
   },
   "outputs": [],
   "source": [
    "df = pd.merge(landbook,naver_location, on= ['naver_longitude','naver_latitude'], how = 'outer')"
   ]
  },
  {
   "cell_type": "code",
   "execution_count": 498,
   "id": "a5f90097",
   "metadata": {
    "ExecuteTime": {
     "end_time": "2022-02-11T02:48:33.525078Z",
     "start_time": "2022-02-11T02:48:33.520089Z"
    }
   },
   "outputs": [],
   "source": [
    "search_df = df[df['id'].isna()==True]"
   ]
  },
  {
   "cell_type": "code",
   "execution_count": 479,
   "id": "905cf00c",
   "metadata": {
    "ExecuteTime": {
     "end_time": "2022-02-11T02:44:33.877016Z",
     "start_time": "2022-02-11T02:44:31.729592Z"
    },
    "scrolled": false
   },
   "outputs": [
    {
     "name": "stderr",
     "output_type": "stream",
     "text": [
      "C:\\Users\\gongdan\\AppData\\Local\\Temp/ipykernel_9708/826260398.py:2: TqdmDeprecationWarning: This function will be removed in tqdm==5.0.0\n",
      "Please use `tqdm.notebook.tqdm` instead of `tqdm.tqdm_notebook`\n",
      "  for idx, key in enumerate(tqdm_notebook(search_df.index)):\n"
     ]
    },
    {
     "data": {
      "application/vnd.jupyter.widget-view+json": {
       "model_id": "f900f28185804bbc8cc732a04f207f76",
       "version_major": 2,
       "version_minor": 0
      },
      "text/plain": [
       "  0%|          | 0/1 [00:00<?, ?it/s]"
      ]
     },
     "metadata": {},
     "output_type": "display_data"
    }
   ],
   "source": [
    "result_landbook = []\n",
    "for idx, key in enumerate(tqdm_notebook(search_df.index)):\n",
    "    url = 'https://api2.landbook.net/point_polygons?lon={lon}&lat={lat}'.format(lon = search_df['naver_longitude'][key], lat = search_df['naver_latitude'][key])\n",
    "    r = requests.get(url, timeout = 5)\n",
    "    result_landbook. append([json.loads(r.text)['id'], search_df['naver_longitude'][key], search_df['naver_latitude'][key],search_df['naver_pnu'][key]])\n",
    "    time.sleep(2)"
   ]
  },
  {
   "cell_type": "code",
   "execution_count": 480,
   "id": "9a8c6a3f",
   "metadata": {
    "ExecuteTime": {
     "end_time": "2022-02-11T02:44:37.248879Z",
     "start_time": "2022-02-11T02:44:37.239904Z"
    }
   },
   "outputs": [],
   "source": [
    "jibeon = pd.DataFrame(result_landbook)\n",
    "jibeon.columns = ['pnu','longitude','latitude','naver_pnu']\n",
    "jibeon = jibeon.astype({'pnu':'int64','naver_pnu':'int64'})"
   ]
  },
  {
   "cell_type": "code",
   "execution_count": null,
   "id": "f9f29e87",
   "metadata": {},
   "outputs": [],
   "source": [
    "## 기존 landbook 데이터와 신규로 찾을 데이터 비교 과정 필요\n",
    "# need_search_jibeon = "
   ]
  },
  {
   "cell_type": "code",
   "execution_count": 481,
   "id": "9b7ba7da",
   "metadata": {
    "ExecuteTime": {
     "end_time": "2022-02-11T02:44:45.636433Z",
     "start_time": "2022-02-11T02:44:43.408722Z"
    },
    "scrolled": true
   },
   "outputs": [
    {
     "name": "stderr",
     "output_type": "stream",
     "text": [
      "C:\\Users\\gongdan\\AppData\\Local\\Temp/ipykernel_9708/2791178482.py:2: TqdmDeprecationWarning: This function will be removed in tqdm==5.0.0\n",
      "Please use `tqdm.notebook.tqdm` instead of `tqdm.tqdm_notebook`\n",
      "  for idx, item in tqdm.tqdm_notebook(enumerate(jibeon['pnu'])):\n"
     ]
    },
    {
     "data": {
      "application/vnd.jupyter.widget-view+json": {
       "model_id": "36800373c329463fae296d8289fd72eb",
       "version_major": 2,
       "version_minor": 0
      },
      "text/plain": [
       "0it [00:00, ?it/s]"
      ]
     },
     "metadata": {},
     "output_type": "display_data"
    }
   ],
   "source": [
    "result_jibeon = pd.DataFrame()\n",
    "for idx, item in tqdm.tqdm_notebook(enumerate(jibeon['pnu'])):\n",
    "    \n",
    "    url = 'https://api2.landbook.net/parcels/{num}'.format(num = item)\n",
    "    r = requests.get(url, timeout = 5)\n",
    "    try:\n",
    "        info = json.loads(r.text)['parcel_info']\n",
    "        info.pop('geometry')\n",
    "        info.pop('building_list')\n",
    "        info.pop('other_parcel')\n",
    "        info = dict(info)\n",
    "        temp = pd.DataFrame(info,  index = [0])\n",
    "        result_jibeon = pd.concat([result_jibeon, temp])\n",
    "        time.sleep(2)\n",
    "    except:\n",
    "        print(idx, \"error\", item)\n",
    "result_jibeon = result_jibeon.reset_index(drop = True)"
   ]
  },
  {
   "cell_type": "code",
   "execution_count": 482,
   "id": "a4e4e594",
   "metadata": {
    "ExecuteTime": {
     "end_time": "2022-02-11T02:44:46.597884Z",
     "start_time": "2022-02-11T02:44:46.591900Z"
    }
   },
   "outputs": [],
   "source": [
    "result_jibeon = result_jibeon.reset_index(drop = True)"
   ]
  },
  {
   "cell_type": "code",
   "execution_count": 483,
   "id": "ed0df12c",
   "metadata": {
    "ExecuteTime": {
     "end_time": "2022-02-11T02:44:47.420110Z",
     "start_time": "2022-02-11T02:44:47.408139Z"
    },
    "scrolled": false
   },
   "outputs": [],
   "source": [
    "result_jibeon[['naver_longitude','naver_latitude','naver_pnu']] = jibeon[['longitude','latitude','naver_pnu']]"
   ]
  },
  {
   "cell_type": "code",
   "execution_count": 484,
   "id": "eb02e327",
   "metadata": {
    "ExecuteTime": {
     "end_time": "2022-02-11T02:44:53.675126Z",
     "start_time": "2022-02-11T02:44:53.664153Z"
    }
   },
   "outputs": [],
   "source": [
    "landbook = pd.read_csv('./data/landbook.csv')"
   ]
  },
  {
   "cell_type": "code",
   "execution_count": 485,
   "id": "2643fef9",
   "metadata": {
    "ExecuteTime": {
     "end_time": "2022-02-11T02:44:59.720068Z",
     "start_time": "2022-02-11T02:44:59.712090Z"
    }
   },
   "outputs": [],
   "source": [
    "result = pd.concat([landbook, result_jibeon])"
   ]
  },
  {
   "cell_type": "code",
   "execution_count": 486,
   "id": "3886f4ab",
   "metadata": {
    "ExecuteTime": {
     "end_time": "2022-02-11T02:45:00.344591Z",
     "start_time": "2022-02-11T02:45:00.319659Z"
    }
   },
   "outputs": [],
   "source": [
    "result.to_csv('./data/landbook.csv', index = False, encoding = \"utf-8-sig\")"
   ]
  }
 ],
 "metadata": {
  "kernelspec": {
   "display_name": "Python 3 (ipykernel)",
   "language": "python",
   "name": "python3"
  },
  "language_info": {
   "codemirror_mode": {
    "name": "ipython",
    "version": 3
   },
   "file_extension": ".py",
   "mimetype": "text/x-python",
   "name": "python",
   "nbconvert_exporter": "python",
   "pygments_lexer": "ipython3",
   "version": "3.9.7"
  },
  "toc": {
   "base_numbering": 1,
   "nav_menu": {},
   "number_sections": true,
   "sideBar": true,
   "skip_h1_title": false,
   "title_cell": "Table of Contents",
   "title_sidebar": "Contents",
   "toc_cell": false,
   "toc_position": {},
   "toc_section_display": true,
   "toc_window_display": false
  }
 },
 "nbformat": 4,
 "nbformat_minor": 5
}
