{
 "cells": [
  {
   "cell_type": "code",
   "execution_count": 35,
   "id": "f8882338",
   "metadata": {
    "ExecuteTime": {
     "end_time": "2022-03-04T02:49:57.764118Z",
     "start_time": "2022-03-04T02:49:57.747163Z"
    }
   },
   "outputs": [],
   "source": [
    "import requests\n",
    "import json\n",
    "import pandas as pd\n",
    "from pandas import json_normalize\n",
    "\n",
    "import time\n",
    "from tqdm import tqdm_notebook\n",
    "from selenium import webdriver"
   ]
  },
  {
   "cell_type": "code",
   "execution_count": 36,
   "id": "eb2195b7",
   "metadata": {
    "ExecuteTime": {
     "end_time": "2022-03-04T02:49:57.990515Z",
     "start_time": "2022-03-04T02:49:57.766113Z"
    }
   },
   "outputs": [
    {
     "name": "stderr",
     "output_type": "stream",
     "text": [
      "C:\\Users\\gongdan\\anaconda3\\lib\\site-packages\\IPython\\core\\interactiveshell.py:3444: DtypeWarning: Columns (76,97,98,100,101,104,107,108,109,110,275,282,283,285) have mixed types.Specify dtype option on import or set low_memory=False.\n",
      "  exec(code_obj, self.user_global_ns, self.user_ns)\n"
     ]
    }
   ],
   "source": [
    "naver_data = pd.read_csv('./data/meamul_up_to_date_detail.csv')\n",
    "landbook = pd.read_csv('./data/landbook.csv')"
   ]
  },
  {
   "cell_type": "code",
   "execution_count": 37,
   "id": "2cf794ee",
   "metadata": {
    "ExecuteTime": {
     "end_time": "2022-03-04T02:49:58.006505Z",
     "start_time": "2022-03-04T02:49:57.991511Z"
    }
   },
   "outputs": [],
   "source": [
    "temp = naver_data[['articleDetail.latitude','articleDetail.longitude','articleDetail.pnu']]"
   ]
  },
  {
   "cell_type": "code",
   "execution_count": 38,
   "id": "175e4a8f",
   "metadata": {
    "ExecuteTime": {
     "end_time": "2022-03-04T02:49:58.021479Z",
     "start_time": "2022-03-04T02:49:58.009497Z"
    },
    "scrolled": true
   },
   "outputs": [
    {
     "name": "stderr",
     "output_type": "stream",
     "text": [
      "C:\\Users\\gongdan\\anaconda3\\lib\\site-packages\\pandas\\util\\_decorators.py:311: SettingWithCopyWarning: \n",
      "A value is trying to be set on a copy of a slice from a DataFrame\n",
      "\n",
      "See the caveats in the documentation: https://pandas.pydata.org/pandas-docs/stable/user_guide/indexing.html#returning-a-view-versus-a-copy\n",
      "  return func(*args, **kwargs)\n"
     ]
    }
   ],
   "source": [
    "temp.drop_duplicates(subset=['articleDetail.latitude','articleDetail.longitude'], inplace= True)\n",
    "temp = temp.reset_index(drop = True)"
   ]
  },
  {
   "cell_type": "code",
   "execution_count": 39,
   "id": "520bb40f",
   "metadata": {
    "ExecuteTime": {
     "end_time": "2022-03-04T02:49:58.052730Z",
     "start_time": "2022-03-04T02:49:58.025475Z"
    }
   },
   "outputs": [],
   "source": [
    "df = pd.merge(temp, landbook, left_on=['articleDetail.latitude','articleDetail.longitude'], right_on=['naver_latitude','naver_longitude'], how = 'outer')"
   ]
  },
  {
   "cell_type": "code",
   "execution_count": 40,
   "id": "10c124bd",
   "metadata": {
    "ExecuteTime": {
     "end_time": "2022-03-04T02:49:58.067695Z",
     "start_time": "2022-03-04T02:49:58.056725Z"
    }
   },
   "outputs": [],
   "source": [
    "find_landbook = df[df['id'].isna() == True]\n",
    "find_landbook = find_landbook[['articleDetail.latitude','articleDetail.longitude','articleDetail.pnu']]\n",
    "find_landbook.columns = ['naver_latitude','naver_longitude','naver_pnu']"
   ]
  },
  {
   "cell_type": "code",
   "execution_count": 41,
   "id": "dc07dc03",
   "metadata": {
    "ExecuteTime": {
     "end_time": "2022-03-04T02:49:58.082654Z",
     "start_time": "2022-03-04T02:49:58.068692Z"
    },
    "scrolled": true
   },
   "outputs": [
    {
     "data": {
      "text/plain": [
       "0"
      ]
     },
     "execution_count": 41,
     "metadata": {},
     "output_type": "execute_result"
    }
   ],
   "source": [
    "len(find_landbook)"
   ]
  },
  {
   "cell_type": "code",
   "execution_count": 42,
   "id": "905cf00c",
   "metadata": {
    "ExecuteTime": {
     "end_time": "2022-03-04T02:49:58.129530Z",
     "start_time": "2022-03-04T02:49:58.083653Z"
    },
    "scrolled": true
   },
   "outputs": [
    {
     "name": "stderr",
     "output_type": "stream",
     "text": [
      "C:\\Users\\gongdan\\AppData\\Local\\Temp/ipykernel_6764/3642305530.py:2: TqdmDeprecationWarning: This function will be removed in tqdm==5.0.0\n",
      "Please use `tqdm.notebook.tqdm` instead of `tqdm.tqdm_notebook`\n",
      "  for idx, key in enumerate(tqdm_notebook(find_landbook.index)):\n"
     ]
    },
    {
     "data": {
      "application/vnd.jupyter.widget-view+json": {
       "model_id": "1600a6bfabd54489a9095cb779bcbe9b",
       "version_major": 2,
       "version_minor": 0
      },
      "text/plain": [
       "0it [00:00, ?it/s]"
      ]
     },
     "metadata": {},
     "output_type": "display_data"
    }
   ],
   "source": [
    "result_landbook = []\n",
    "for idx, key in enumerate(tqdm_notebook(find_landbook.index)):\n",
    "    url = 'https://api2.landbook.net/point_polygons?lon={lon}&lat={lat}'.format(lon = find_landbook['naver_longitude'][key], lat = find_landbook['naver_latitude'][key])\n",
    "    r = requests.get(url, timeout = 5)\n",
    "    result_landbook. append([json.loads(r.text)['id'], find_landbook['naver_longitude'][key], find_landbook['naver_latitude'][key],find_landbook['naver_pnu'][key]])\n",
    "    time.sleep(0.5)"
   ]
  },
  {
   "cell_type": "code",
   "execution_count": 43,
   "id": "9a8c6a3f",
   "metadata": {
    "ExecuteTime": {
     "end_time": "2022-03-04T02:49:58.491788Z",
     "start_time": "2022-03-04T02:49:58.131525Z"
    }
   },
   "outputs": [
    {
     "ename": "ValueError",
     "evalue": "Length mismatch: Expected axis has 0 elements, new values have 4 elements",
     "output_type": "error",
     "traceback": [
      "\u001b[1;31m---------------------------------------------------------------------------\u001b[0m",
      "\u001b[1;31mValueError\u001b[0m                                Traceback (most recent call last)",
      "\u001b[1;32m~\\AppData\\Local\\Temp/ipykernel_6764/256040911.py\u001b[0m in \u001b[0;36m<module>\u001b[1;34m\u001b[0m\n\u001b[0;32m      1\u001b[0m \u001b[0mresult_landbook\u001b[0m \u001b[1;33m=\u001b[0m \u001b[0mpd\u001b[0m\u001b[1;33m.\u001b[0m\u001b[0mDataFrame\u001b[0m\u001b[1;33m(\u001b[0m\u001b[0mresult_landbook\u001b[0m\u001b[1;33m)\u001b[0m\u001b[1;33m\u001b[0m\u001b[1;33m\u001b[0m\u001b[0m\n\u001b[1;32m----> 2\u001b[1;33m \u001b[0mresult_landbook\u001b[0m\u001b[1;33m.\u001b[0m\u001b[0mcolumns\u001b[0m \u001b[1;33m=\u001b[0m \u001b[1;33m[\u001b[0m\u001b[1;34m'landbook_pnu'\u001b[0m\u001b[1;33m,\u001b[0m\u001b[1;34m'naver_longitude'\u001b[0m\u001b[1;33m,\u001b[0m\u001b[1;34m'naver_latitude'\u001b[0m\u001b[1;33m,\u001b[0m\u001b[1;34m'naver_pnu'\u001b[0m\u001b[1;33m]\u001b[0m\u001b[1;33m\u001b[0m\u001b[1;33m\u001b[0m\u001b[0m\n\u001b[0m",
      "\u001b[1;32m~\\anaconda3\\lib\\site-packages\\pandas\\core\\generic.py\u001b[0m in \u001b[0;36m__setattr__\u001b[1;34m(self, name, value)\u001b[0m\n\u001b[0;32m   5498\u001b[0m         \u001b[1;32mtry\u001b[0m\u001b[1;33m:\u001b[0m\u001b[1;33m\u001b[0m\u001b[1;33m\u001b[0m\u001b[0m\n\u001b[0;32m   5499\u001b[0m             \u001b[0mobject\u001b[0m\u001b[1;33m.\u001b[0m\u001b[0m__getattribute__\u001b[0m\u001b[1;33m(\u001b[0m\u001b[0mself\u001b[0m\u001b[1;33m,\u001b[0m \u001b[0mname\u001b[0m\u001b[1;33m)\u001b[0m\u001b[1;33m\u001b[0m\u001b[1;33m\u001b[0m\u001b[0m\n\u001b[1;32m-> 5500\u001b[1;33m             \u001b[1;32mreturn\u001b[0m \u001b[0mobject\u001b[0m\u001b[1;33m.\u001b[0m\u001b[0m__setattr__\u001b[0m\u001b[1;33m(\u001b[0m\u001b[0mself\u001b[0m\u001b[1;33m,\u001b[0m \u001b[0mname\u001b[0m\u001b[1;33m,\u001b[0m \u001b[0mvalue\u001b[0m\u001b[1;33m)\u001b[0m\u001b[1;33m\u001b[0m\u001b[1;33m\u001b[0m\u001b[0m\n\u001b[0m\u001b[0;32m   5501\u001b[0m         \u001b[1;32mexcept\u001b[0m \u001b[0mAttributeError\u001b[0m\u001b[1;33m:\u001b[0m\u001b[1;33m\u001b[0m\u001b[1;33m\u001b[0m\u001b[0m\n\u001b[0;32m   5502\u001b[0m             \u001b[1;32mpass\u001b[0m\u001b[1;33m\u001b[0m\u001b[1;33m\u001b[0m\u001b[0m\n",
      "\u001b[1;32m~\\anaconda3\\lib\\site-packages\\pandas\\_libs\\properties.pyx\u001b[0m in \u001b[0;36mpandas._libs.properties.AxisProperty.__set__\u001b[1;34m()\u001b[0m\n",
      "\u001b[1;32m~\\anaconda3\\lib\\site-packages\\pandas\\core\\generic.py\u001b[0m in \u001b[0;36m_set_axis\u001b[1;34m(self, axis, labels)\u001b[0m\n\u001b[0;32m    764\u001b[0m     \u001b[1;32mdef\u001b[0m \u001b[0m_set_axis\u001b[0m\u001b[1;33m(\u001b[0m\u001b[0mself\u001b[0m\u001b[1;33m,\u001b[0m \u001b[0maxis\u001b[0m\u001b[1;33m:\u001b[0m \u001b[0mint\u001b[0m\u001b[1;33m,\u001b[0m \u001b[0mlabels\u001b[0m\u001b[1;33m:\u001b[0m \u001b[0mIndex\u001b[0m\u001b[1;33m)\u001b[0m \u001b[1;33m->\u001b[0m \u001b[1;32mNone\u001b[0m\u001b[1;33m:\u001b[0m\u001b[1;33m\u001b[0m\u001b[1;33m\u001b[0m\u001b[0m\n\u001b[0;32m    765\u001b[0m         \u001b[0mlabels\u001b[0m \u001b[1;33m=\u001b[0m \u001b[0mensure_index\u001b[0m\u001b[1;33m(\u001b[0m\u001b[0mlabels\u001b[0m\u001b[1;33m)\u001b[0m\u001b[1;33m\u001b[0m\u001b[1;33m\u001b[0m\u001b[0m\n\u001b[1;32m--> 766\u001b[1;33m         \u001b[0mself\u001b[0m\u001b[1;33m.\u001b[0m\u001b[0m_mgr\u001b[0m\u001b[1;33m.\u001b[0m\u001b[0mset_axis\u001b[0m\u001b[1;33m(\u001b[0m\u001b[0maxis\u001b[0m\u001b[1;33m,\u001b[0m \u001b[0mlabels\u001b[0m\u001b[1;33m)\u001b[0m\u001b[1;33m\u001b[0m\u001b[1;33m\u001b[0m\u001b[0m\n\u001b[0m\u001b[0;32m    767\u001b[0m         \u001b[0mself\u001b[0m\u001b[1;33m.\u001b[0m\u001b[0m_clear_item_cache\u001b[0m\u001b[1;33m(\u001b[0m\u001b[1;33m)\u001b[0m\u001b[1;33m\u001b[0m\u001b[1;33m\u001b[0m\u001b[0m\n\u001b[0;32m    768\u001b[0m \u001b[1;33m\u001b[0m\u001b[0m\n",
      "\u001b[1;32m~\\anaconda3\\lib\\site-packages\\pandas\\core\\internals\\managers.py\u001b[0m in \u001b[0;36mset_axis\u001b[1;34m(self, axis, new_labels)\u001b[0m\n\u001b[0;32m    214\u001b[0m     \u001b[1;32mdef\u001b[0m \u001b[0mset_axis\u001b[0m\u001b[1;33m(\u001b[0m\u001b[0mself\u001b[0m\u001b[1;33m,\u001b[0m \u001b[0maxis\u001b[0m\u001b[1;33m:\u001b[0m \u001b[0mint\u001b[0m\u001b[1;33m,\u001b[0m \u001b[0mnew_labels\u001b[0m\u001b[1;33m:\u001b[0m \u001b[0mIndex\u001b[0m\u001b[1;33m)\u001b[0m \u001b[1;33m->\u001b[0m \u001b[1;32mNone\u001b[0m\u001b[1;33m:\u001b[0m\u001b[1;33m\u001b[0m\u001b[1;33m\u001b[0m\u001b[0m\n\u001b[0;32m    215\u001b[0m         \u001b[1;31m# Caller is responsible for ensuring we have an Index object.\u001b[0m\u001b[1;33m\u001b[0m\u001b[1;33m\u001b[0m\u001b[0m\n\u001b[1;32m--> 216\u001b[1;33m         \u001b[0mself\u001b[0m\u001b[1;33m.\u001b[0m\u001b[0m_validate_set_axis\u001b[0m\u001b[1;33m(\u001b[0m\u001b[0maxis\u001b[0m\u001b[1;33m,\u001b[0m \u001b[0mnew_labels\u001b[0m\u001b[1;33m)\u001b[0m\u001b[1;33m\u001b[0m\u001b[1;33m\u001b[0m\u001b[0m\n\u001b[0m\u001b[0;32m    217\u001b[0m         \u001b[0mself\u001b[0m\u001b[1;33m.\u001b[0m\u001b[0maxes\u001b[0m\u001b[1;33m[\u001b[0m\u001b[0maxis\u001b[0m\u001b[1;33m]\u001b[0m \u001b[1;33m=\u001b[0m \u001b[0mnew_labels\u001b[0m\u001b[1;33m\u001b[0m\u001b[1;33m\u001b[0m\u001b[0m\n\u001b[0;32m    218\u001b[0m \u001b[1;33m\u001b[0m\u001b[0m\n",
      "\u001b[1;32m~\\anaconda3\\lib\\site-packages\\pandas\\core\\internals\\base.py\u001b[0m in \u001b[0;36m_validate_set_axis\u001b[1;34m(self, axis, new_labels)\u001b[0m\n\u001b[0;32m     55\u001b[0m \u001b[1;33m\u001b[0m\u001b[0m\n\u001b[0;32m     56\u001b[0m         \u001b[1;32melif\u001b[0m \u001b[0mnew_len\u001b[0m \u001b[1;33m!=\u001b[0m \u001b[0mold_len\u001b[0m\u001b[1;33m:\u001b[0m\u001b[1;33m\u001b[0m\u001b[1;33m\u001b[0m\u001b[0m\n\u001b[1;32m---> 57\u001b[1;33m             raise ValueError(\n\u001b[0m\u001b[0;32m     58\u001b[0m                 \u001b[1;34mf\"Length mismatch: Expected axis has {old_len} elements, new \"\u001b[0m\u001b[1;33m\u001b[0m\u001b[1;33m\u001b[0m\u001b[0m\n\u001b[0;32m     59\u001b[0m                 \u001b[1;34mf\"values have {new_len} elements\"\u001b[0m\u001b[1;33m\u001b[0m\u001b[1;33m\u001b[0m\u001b[0m\n",
      "\u001b[1;31mValueError\u001b[0m: Length mismatch: Expected axis has 0 elements, new values have 4 elements"
     ]
    }
   ],
   "source": [
    "result_landbook = pd.DataFrame(result_landbook)\n",
    "result_landbook.columns = ['landbook_pnu','naver_longitude','naver_latitude','naver_pnu']"
   ]
  },
  {
   "cell_type": "code",
   "execution_count": null,
   "id": "f9f29e87",
   "metadata": {
    "ExecuteTime": {
     "end_time": "2022-03-04T02:49:58.493754Z",
     "start_time": "2022-03-04T02:49:58.493754Z"
    }
   },
   "outputs": [],
   "source": [
    "#data = json_normalize(r.json())"
   ]
  },
  {
   "cell_type": "code",
   "execution_count": null,
   "id": "9b7ba7da",
   "metadata": {
    "ExecuteTime": {
     "end_time": "2022-03-04T02:49:58.494751Z",
     "start_time": "2022-03-04T02:49:58.494751Z"
    },
    "scrolled": false
   },
   "outputs": [],
   "source": [
    "result_jibeon = pd.DataFrame()\n",
    "for idx, item in enumerate(tqdm_notebook(result_landbook['landbook_pnu'])):\n",
    "    \n",
    "    url = 'https://api2.landbook.net/parcels/{num}'.format(num = item)\n",
    "    r = requests.get(url, timeout = 5)\n",
    "    try:\n",
    "        info = json.loads(r.text)['parcel_info']\n",
    "        info.pop('geometry')\n",
    "        info.pop('building_list')\n",
    "        info.pop('other_parcel')\n",
    "        info = dict(info)\n",
    "        temp = pd.DataFrame(info,  index = [0])\n",
    "        result_jibeon = pd.concat([result_jibeon, temp])\n",
    "        time.sleep(0.5)\n",
    "    except:\n",
    "        print(idx, \"error\", item)\n",
    "result_jibeon = result_jibeon.reset_index(drop = True)"
   ]
  },
  {
   "cell_type": "code",
   "execution_count": null,
   "id": "311eb0c2",
   "metadata": {
    "ExecuteTime": {
     "end_time": "2022-03-04T02:49:58.495749Z",
     "start_time": "2022-03-04T02:49:58.495749Z"
    }
   },
   "outputs": [],
   "source": [
    "result_jibeon"
   ]
  },
  {
   "cell_type": "code",
   "execution_count": null,
   "id": "a4e4e594",
   "metadata": {
    "ExecuteTime": {
     "end_time": "2022-03-04T02:49:58.497744Z",
     "start_time": "2022-03-04T02:49:58.497744Z"
    }
   },
   "outputs": [],
   "source": [
    "result_jibeon = result_jibeon.reset_index(drop = True)"
   ]
  },
  {
   "cell_type": "code",
   "execution_count": null,
   "id": "ed0df12c",
   "metadata": {
    "ExecuteTime": {
     "end_time": "2022-03-04T02:49:58.498741Z",
     "start_time": "2022-03-04T02:49:58.498741Z"
    },
    "scrolled": false
   },
   "outputs": [],
   "source": [
    "result_jibeon[['naver_longitude','naver_latitude','naver_pnu']] = result_landbook[['naver_longitude','naver_latitude','naver_pnu']]"
   ]
  },
  {
   "cell_type": "code",
   "execution_count": null,
   "id": "eb02e327",
   "metadata": {
    "ExecuteTime": {
     "end_time": "2022-03-04T02:49:58.499739Z",
     "start_time": "2022-03-04T02:49:58.499739Z"
    }
   },
   "outputs": [],
   "source": [
    "landbook = pd.read_csv('./data/landbook.csv')"
   ]
  },
  {
   "cell_type": "code",
   "execution_count": null,
   "id": "2643fef9",
   "metadata": {
    "ExecuteTime": {
     "end_time": "2022-03-04T02:49:58.501734Z",
     "start_time": "2022-03-04T02:49:58.501734Z"
    }
   },
   "outputs": [],
   "source": [
    "result = pd.concat([landbook, result_jibeon])"
   ]
  },
  {
   "cell_type": "code",
   "execution_count": null,
   "id": "3886f4ab",
   "metadata": {
    "ExecuteTime": {
     "end_time": "2022-03-04T02:49:58.503729Z",
     "start_time": "2022-03-04T02:49:58.503729Z"
    }
   },
   "outputs": [],
   "source": [
    "result.drop_duplicates().to_csv('./data/landbook.csv', index = False, encoding = \"utf-8-sig\")"
   ]
  },
  {
   "cell_type": "code",
   "execution_count": null,
   "id": "a76db7ce",
   "metadata": {},
   "outputs": [],
   "source": []
  }
 ],
 "metadata": {
  "kernelspec": {
   "display_name": "Python 3 (ipykernel)",
   "language": "python",
   "name": "python3"
  },
  "language_info": {
   "codemirror_mode": {
    "name": "ipython",
    "version": 3
   },
   "file_extension": ".py",
   "mimetype": "text/x-python",
   "name": "python",
   "nbconvert_exporter": "python",
   "pygments_lexer": "ipython3",
   "version": "3.9.7"
  },
  "toc": {
   "base_numbering": 1,
   "nav_menu": {},
   "number_sections": true,
   "sideBar": true,
   "skip_h1_title": false,
   "title_cell": "Table of Contents",
   "title_sidebar": "Contents",
   "toc_cell": false,
   "toc_position": {},
   "toc_section_display": true,
   "toc_window_display": false
  }
 },
 "nbformat": 4,
 "nbformat_minor": 5
}
