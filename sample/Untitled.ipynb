{
 "cells": [
  {
   "cell_type": "code",
   "execution_count": 6,
   "id": "3746f33f",
   "metadata": {
    "ExecuteTime": {
     "end_time": "2022-02-05T01:39:49.504214Z",
     "start_time": "2022-02-05T01:39:48.215939Z"
    }
   },
   "outputs": [],
   "source": [
    "# 상가, 사무실, 공장/창고, 지식산업센터, 건물 클릭으로 해제\n",
    "driver.find_element_by_css_selector(\"#type0\").click()\n",
    "driver.find_element_by_css_selector(\"#type1\").click()\n",
    "driver.find_element_by_css_selector(\"#type2\").click()\n",
    "driver.find_element_by_css_selector(\"#type3\").click()\n",
    "driver.find_element_by_css_selector(\"#type4\").click()\n",
    "time.sleep(1)"
   ]
  },
  {
   "cell_type": "code",
   "execution_count": 7,
   "id": "e923d069",
   "metadata": {
    "ExecuteTime": {
     "end_time": "2022-02-05T01:39:59.082996Z",
     "start_time": "2022-02-05T01:39:57.960463Z"
    }
   },
   "outputs": [],
   "source": [
    "# 시 클릭\n",
    "driver.find_element_by_xpath(\"/html/body/div[2]/div/section/div[2]/div/div[1]/div/div/a/span[1]\").click()\n",
    "time.sleep(0.5)\n",
    "\n",
    "# 대전시 클릭\n",
    "driver.find_element_by_xpath(\"/html/body/div[2]/div/section/div[2]/div/div[1]/div/div/div/div[2]/ul/li[5]/label\").click()\n",
    "time.sleep(0.5)"
   ]
  },
  {
   "cell_type": "code",
   "execution_count": 8,
   "id": "7ffa24b6",
   "metadata": {
    "ExecuteTime": {
     "end_time": "2022-02-05T01:40:08.391818Z",
     "start_time": "2022-02-05T01:40:08.334971Z"
    }
   },
   "outputs": [],
   "source": [
    "# 구 목록 가져오기\n",
    "address1 = driver.find_element_by_css_selector(\".area_list--district\").text.split()"
   ]
  },
  {
   "cell_type": "code",
   "execution_count": 9,
   "id": "f061618b",
   "metadata": {
    "ExecuteTime": {
     "end_time": "2022-02-05T01:40:17.031279Z",
     "start_time": "2022-02-05T01:40:14.760338Z"
    }
   },
   "outputs": [
    {
     "ename": "NameError",
     "evalue": "name 'text_list' is not defined",
     "output_type": "error",
     "traceback": [
      "\u001b[1;31m---------------------------------------------------------------------------\u001b[0m",
      "\u001b[1;31mNameError\u001b[0m                                 Traceback (most recent call last)",
      "\u001b[1;32m~\\AppData\\Local\\Temp/ipykernel_5900/458221660.py\u001b[0m in \u001b[0;36m<module>\u001b[1;34m\u001b[0m\n\u001b[0;32m     26\u001b[0m         \u001b[1;31m# 대\u001b[0m\u001b[1;33m\u001b[0m\u001b[1;33m\u001b[0m\u001b[0m\n\u001b[0;32m     27\u001b[0m         \u001b[1;32mfor\u001b[0m \u001b[0mi\u001b[0m \u001b[1;32min\u001b[0m \u001b[0mok_num\u001b[0m\u001b[1;33m:\u001b[0m\u001b[1;33m\u001b[0m\u001b[1;33m\u001b[0m\u001b[0m\n\u001b[1;32m---> 28\u001b[1;33m             \u001b[0mtext_list\u001b[0m\u001b[1;33m.\u001b[0m\u001b[0mappend\u001b[0m\u001b[1;33m(\u001b[0m\u001b[0mitem_text\u001b[0m\u001b[1;33m[\u001b[0m\u001b[0mi\u001b[0m\u001b[1;33m-\u001b[0m\u001b[1;36m2\u001b[0m\u001b[1;33m]\u001b[0m\u001b[1;33m)\u001b[0m\u001b[1;33m\u001b[0m\u001b[1;33m\u001b[0m\u001b[0m\n\u001b[0m\u001b[0;32m     29\u001b[0m \u001b[1;33m\u001b[0m\u001b[0m\n\u001b[0;32m     30\u001b[0m         \u001b[1;31m# 거래 방식\u001b[0m\u001b[1;33m\u001b[0m\u001b[1;33m\u001b[0m\u001b[0m\n",
      "\u001b[1;31mNameError\u001b[0m: name 'text_list' is not defined"
     ]
    }
   ],
   "source": [
    "# 구 클릭\n",
    "for i1 in range(1, len(address1)+1):\n",
    "    time.sleep(0.5) \n",
    "    #element1 = \"/html/body/div[2]/div/section/div[2]/div[2]/div[1]/div/div/div/div[2]/ul/li[{}]/label\".format(i1)\n",
    "    element1 = \"/html/body/div[2]/div/section/div[2]/div/div[1]/div/div/div/div[2]/ul/li[{}]/label\".format(i1)\n",
    "    driver.find_element_by_xpath(element1).click()\n",
    "    time.sleep(0.5)\n",
    "    \n",
    "    # 동 목록 가져오기\n",
    "    address2 = driver.find_element_by_css_selector(\".area_list--district\").text.split()\n",
    "\n",
    "    # 동 클릭\n",
    "    for i2 in range(1, len(address2)+1):\n",
    "        #element2 = \"/html/body/div[2]/div/section/div[2]/div[2]/div[1]/div/div/div/div[2]/ul/li[{}]/label\".format(i2)\n",
    "        element2 = \"/html/body/div[2]/div/section/div[2]/div/div[1]/div/div/div/div[2]/ul/li[{}]/label\".format(i2)\n",
    "        driver.find_element_by_xpath(element2).click()\n",
    "        time.sleep(1)\n",
    "    \n",
    "        # 크롤링\n",
    "        item = driver.find_element_by_css_selector(\".item_list.item_list--article\").text\n",
    "\n",
    "        item_text = item.split('\\n')\n",
    "\n",
    "        ok_num = list(filter(lambda x: ('m²' in item_text[x]), range(len(item_text))))\n",
    "\n",
    "        # 대\n",
    "        for i in ok_num:\n",
    "            text_list.append(item_text[i-2])\n",
    "\n",
    "        # 거래 방식\n",
    "        for i in ok_num:\n",
    "            deal_list.append(item_text[i-1][0:2])\n",
    "\n",
    "        # 가격\n",
    "        for i in ok_num:\n",
    "            price = item_text[i-1][2:]\n",
    "            # 가격에 억 이하 단위가 없을 시 0000 삽입\n",
    "            if price[-1] =='억':\n",
    "                price = price + '0000'\n",
    "\n",
    "            # (억 , 띄워쓰기) 제거\n",
    "            won = ''.join( x for x in price if x not in '억, ')\n",
    "            # 원 단위로 변환\n",
    "            won += '0000'\n",
    "            won_list.append(int(won))\n",
    "\n",
    "        # 토지\n",
    "        for i in ok_num:\n",
    "            kind_list.append(item_text[i][0:2])\n",
    "\n",
    "        # 면적\n",
    "        for i in ok_num:\n",
    "            area = item_text[i][2:-2]\n",
    "            area_list.append(int(area))\n",
    "        \n",
    "        # 주소 저장\n",
    "        address = address1[i1-1], address2[i2-1]\n",
    "        for i in ok_num:\n",
    "            address_list.append(address)\n",
    "\n",
    "        print(address1[i1-1], address2[i2-1], len(address_list), len(text_list), len(deal_list), len(won_list), len(kind_list), len(area_list))\n",
    "    \n",
    "        driver.find_element_by_xpath(\"/html/body/div[2]/div/section/div[2]/div[2]/div[1]/div/div/a/span[3]\").click()\n",
    "        \n",
    "    time.sleep(0.5)\n",
    "    driver.find_element_by_xpath(\"/html/body/div[2]/div/section/div[2]/div[2]/div[1]/div/div/a/span[2]\").click()\n",
    "    time.sleep(0.5)\n",
    "    driver.find_element_by_xpath(\"/html/body/div[2]/div/section/div[2]/div[2]/div[1]/div/div/a/span[2]\").click()\n",
    "    \n",
    "df = pd.DataFrame({'주소':address_list, '구분':text_list, '거래방식':deal_list, '가격':won_list, '대지형태':kind_list, '면적':area_list})\n",
    "df\n",
    "\n",
    "df.info()"
   ]
  }
 ],
 "metadata": {
  "kernelspec": {
   "display_name": "Python 3 (ipykernel)",
   "language": "python",
   "name": "python3"
  },
  "language_info": {
   "codemirror_mode": {
    "name": "ipython",
    "version": 3
   },
   "file_extension": ".py",
   "mimetype": "text/x-python",
   "name": "python",
   "nbconvert_exporter": "python",
   "pygments_lexer": "ipython3",
   "version": "3.9.7"
  },
  "toc": {
   "base_numbering": 1,
   "nav_menu": {},
   "number_sections": true,
   "sideBar": true,
   "skip_h1_title": false,
   "title_cell": "Table of Contents",
   "title_sidebar": "Contents",
   "toc_cell": false,
   "toc_position": {},
   "toc_section_display": true,
   "toc_window_display": false
  }
 },
 "nbformat": 4,
 "nbformat_minor": 5
}
