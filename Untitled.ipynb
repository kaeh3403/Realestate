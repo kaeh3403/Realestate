{
 "cells": [
  {
   "cell_type": "code",
   "execution_count": 1,
   "id": "89ee9d0c",
   "metadata": {},
   "outputs": [],
   "source": [
    "import pandas as pd\n",
    "import os\n",
    "from selenium import webdriver\n",
    "from selenium.webdriver.common.by import By\n",
    "from selenium.webdriver.common.action_chains import ActionChains"
   ]
  },
  {
   "cell_type": "code",
   "execution_count": 2,
   "id": "78da6988",
   "metadata": {
    "scrolled": true
   },
   "outputs": [
    {
     "name": "stderr",
     "output_type": "stream",
     "text": [
      "/var/folders/hn/4ftm09pn31591gc29smn543r0000gn/T/ipykernel_19650/2299280398.py:1: DeprecationWarning: executable_path has been deprecated, please pass in a Service object\n",
      "  driver = webdriver.Chrome('./chromedriver')\n"
     ]
    }
   ],
   "source": [
    "driver = webdriver.Chrome('./chromedriver')"
   ]
  },
  {
   "cell_type": "code",
   "execution_count": 3,
   "id": "a9378a25",
   "metadata": {},
   "outputs": [],
   "source": [
    "driver.get('https://new.land.naver.com/offices?ms=37.506817,126.721713,15&a=SMS:GJCG:APTHGJ:GM:TJ&e=RETAIL')"
   ]
  },
  {
   "cell_type": "code",
   "execution_count": null,
   "id": "941e331c",
   "metadata": {},
   "outputs": [],
   "source": [
    "a = driver.find_elements(By.XPATH, '//*[@id=\"listContents1\"]/div/div/div/div')"
   ]
  },
  {
   "cell_type": "code",
   "execution_count": 183,
   "id": "580ebb5a",
   "metadata": {},
   "outputs": [
    {
     "ename": "IndexError",
     "evalue": "list index out of range",
     "output_type": "error",
     "traceback": [
      "\u001b[0;31m---------------------------------------------------------------------------\u001b[0m",
      "\u001b[0;31mIndexError\u001b[0m                                Traceback (most recent call last)",
      "\u001b[0;32m/var/folders/hn/4ftm09pn31591gc29smn543r0000gn/T/ipykernel_60535/1811133769.py\u001b[0m in \u001b[0;36m<module>\u001b[0;34m\u001b[0m\n\u001b[1;32m      1\u001b[0m \u001b[0;32mfor\u001b[0m \u001b[0mi\u001b[0m \u001b[0;32min\u001b[0m \u001b[0mrange\u001b[0m\u001b[0;34m(\u001b[0m\u001b[0;36m0\u001b[0m\u001b[0;34m,\u001b[0m\u001b[0mlen\u001b[0m\u001b[0;34m(\u001b[0m\u001b[0ma\u001b[0m\u001b[0;34m)\u001b[0m\u001b[0;34m)\u001b[0m\u001b[0;34m:\u001b[0m\u001b[0;34m\u001b[0m\u001b[0;34m\u001b[0m\u001b[0m\n\u001b[1;32m      2\u001b[0m     \u001b[0ma\u001b[0m\u001b[0;34m[\u001b[0m\u001b[0mi\u001b[0m\u001b[0;34m]\u001b[0m\u001b[0;34m.\u001b[0m\u001b[0mclick\u001b[0m\u001b[0;34m(\u001b[0m\u001b[0;34m)\u001b[0m\u001b[0;34m\u001b[0m\u001b[0;34m\u001b[0m\u001b[0m\n\u001b[0;32m----> 3\u001b[0;31m     \u001b[0mb\u001b[0m \u001b[0;34m=\u001b[0m \u001b[0ma\u001b[0m\u001b[0;34m[\u001b[0m\u001b[0;36m0\u001b[0m\u001b[0;34m]\u001b[0m\u001b[0;34m.\u001b[0m\u001b[0mfind_elements\u001b[0m\u001b[0;34m(\u001b[0m\u001b[0mBy\u001b[0m\u001b[0;34m.\u001b[0m\u001b[0mXPATH\u001b[0m\u001b[0;34m,\u001b[0m\u001b[0;34m'//*[@id=\"ct\"]/div[2]/div[2]/div/div[2]'\u001b[0m\u001b[0;34m)\u001b[0m\u001b[0;34m[\u001b[0m\u001b[0;36m0\u001b[0m\u001b[0;34m]\u001b[0m\u001b[0;34m\u001b[0m\u001b[0;34m\u001b[0m\u001b[0m\n\u001b[0m",
      "\u001b[0;31mIndexError\u001b[0m: list index out of range"
     ]
    }
   ],
   "source": [
    "for i in range(0,len(a)):\n",
    "    a[i].click()\n",
    "    b = a[0].find_elements(By.XPATH,'//*[@id=\"ct\"]/div[2]/div[2]/div/div[2]')[0]"
   ]
  },
  {
   "cell_type": "code",
   "execution_count": 184,
   "id": "b453255a",
   "metadata": {},
   "outputs": [
    {
     "ename": "IndexError",
     "evalue": "list index out of range",
     "output_type": "error",
     "traceback": [
      "\u001b[0;31m---------------------------------------------------------------------------\u001b[0m",
      "\u001b[0;31mIndexError\u001b[0m                                Traceback (most recent call last)",
      "\u001b[0;32m/var/folders/hn/4ftm09pn31591gc29smn543r0000gn/T/ipykernel_60535/2252804897.py\u001b[0m in \u001b[0;36m<module>\u001b[0;34m\u001b[0m\n\u001b[0;32m----> 1\u001b[0;31m \u001b[0ma\u001b[0m\u001b[0;34m[\u001b[0m\u001b[0;36m11\u001b[0m\u001b[0;34m]\u001b[0m\u001b[0;34m.\u001b[0m\u001b[0mclick\u001b[0m\u001b[0;34m(\u001b[0m\u001b[0;34m)\u001b[0m\u001b[0;34m\u001b[0m\u001b[0;34m\u001b[0m\u001b[0m\n\u001b[0m",
      "\u001b[0;31mIndexError\u001b[0m: list index out of range"
     ]
    }
   ],
   "source": [
    "a[11].click()"
   ]
  },
  {
   "cell_type": "code",
   "execution_count": 163,
   "id": "2f352e0c",
   "metadata": {},
   "outputs": [],
   "source": [
    "b = a[0].find_elements(By.XPATH,'//*[@id=\"ct\"]/div[2]/div[2]/div/div[2]')[0]"
   ]
  },
  {
   "cell_type": "code",
   "execution_count": 164,
   "id": "ba74f9ab",
   "metadata": {
    "scrolled": true
   },
   "outputs": [],
   "source": [
    "info = b.find_element(By.CLASS_NAME,'main_info_area').text"
   ]
  },
  {
   "cell_type": "code",
   "execution_count": 166,
   "id": "610efd7a",
   "metadata": {
    "scrolled": true
   },
   "outputs": [],
   "source": [
    "detail = b.find_element(By.CLASS_NAME,'detail_box--summary').text"
   ]
  },
  {
   "cell_type": "code",
   "execution_count": 165,
   "id": "b9a67e4d",
   "metadata": {},
   "outputs": [],
   "source": [
    "agent = b.find_element(By.CLASS_NAME, 'table_td_agent').text"
   ]
  },
  {
   "cell_type": "code",
   "execution_count": 170,
   "id": "4226ac65",
   "metadata": {},
   "outputs": [],
   "source": [
    "element_to_hover_over = a[11].find_element(By.CLASS_NAME, \"item_inner\")"
   ]
  },
  {
   "cell_type": "code",
   "execution_count": 181,
   "id": "23567535",
   "metadata": {
    "scrolled": true
   },
   "outputs": [
    {
     "ename": "StaleElementReferenceException",
     "evalue": "Message: stale element reference: element is not attached to the page document\n  (Session info: chrome=97.0.4692.71)\nStacktrace:\n0   chromedriver                        0x0000000107f07e69 chromedriver + 5160553\n1   chromedriver                        0x0000000107e92593 chromedriver + 4679059\n2   chromedriver                        0x0000000107a462c8 chromedriver + 172744\n3   chromedriver                        0x0000000107a49141 chromedriver + 184641\n4   chromedriver                        0x0000000107a48f61 chromedriver + 184161\n5   chromedriver                        0x0000000107a491fc chromedriver + 184828\n6   chromedriver                        0x0000000107a7b876 chromedriver + 391286\n7   chromedriver                        0x0000000107a7bd21 chromedriver + 392481\n8   chromedriver                        0x0000000107a70667 chromedriver + 345703\n9   chromedriver                        0x0000000107a993ad chromedriver + 512941\n10  chromedriver                        0x0000000107a705b5 chromedriver + 345525\n11  chromedriver                        0x0000000107a9967e chromedriver + 513662\n12  chromedriver                        0x0000000107aac0ab chromedriver + 589995\n13  chromedriver                        0x0000000107a99623 chromedriver + 513571\n14  chromedriver                        0x0000000107a6edce chromedriver + 339406\n15  chromedriver                        0x0000000107a70105 chromedriver + 344325\n16  chromedriver                        0x0000000107ec323e chromedriver + 4878910\n17  chromedriver                        0x0000000107edad17 chromedriver + 4975895\n18  chromedriver                        0x0000000107ee0a3f chromedriver + 4999743\n19  chromedriver                        0x0000000107edb61a chromedriver + 4978202\n20  chromedriver                        0x0000000107eb7bb1 chromedriver + 4832177\n21  chromedriver                        0x0000000107ef7fd8 chromedriver + 5095384\n22  chromedriver                        0x0000000107ef8161 chromedriver + 5095777\n23  chromedriver                        0x0000000107f0f2a8 chromedriver + 5190312\n24  libsystem_pthread.dylib             0x00007ff811ed14f4 _pthread_start + 125\n25  libsystem_pthread.dylib             0x00007ff811ecd00f thread_start + 15\n",
     "output_type": "error",
     "traceback": [
      "\u001b[0;31m---------------------------------------------------------------------------\u001b[0m",
      "\u001b[0;31mStaleElementReferenceException\u001b[0m            Traceback (most recent call last)",
      "\u001b[0;32m/var/folders/hn/4ftm09pn31591gc29smn543r0000gn/T/ipykernel_60535/3734796718.py\u001b[0m in \u001b[0;36m<module>\u001b[0;34m\u001b[0m\n\u001b[0;32m----> 1\u001b[0;31m \u001b[0melement_to_hover_over\u001b[0m \u001b[0;34m=\u001b[0m \u001b[0ma\u001b[0m\u001b[0;34m[\u001b[0m\u001b[0;36m11\u001b[0m\u001b[0;34m]\u001b[0m\u001b[0;34m.\u001b[0m\u001b[0mfind_element\u001b[0m\u001b[0;34m(\u001b[0m\u001b[0mBy\u001b[0m\u001b[0;34m.\u001b[0m\u001b[0mCLASS_NAME\u001b[0m\u001b[0;34m,\u001b[0m \u001b[0;34m\"item_inner\"\u001b[0m\u001b[0;34m)\u001b[0m\u001b[0;34m\u001b[0m\u001b[0;34m\u001b[0m\u001b[0m\n\u001b[0m\u001b[1;32m      2\u001b[0m \u001b[0mhover\u001b[0m \u001b[0;34m=\u001b[0m \u001b[0mActionChains\u001b[0m\u001b[0;34m(\u001b[0m\u001b[0mdriver\u001b[0m\u001b[0;34m)\u001b[0m\u001b[0;34m.\u001b[0m\u001b[0mmove_to_element\u001b[0m\u001b[0;34m(\u001b[0m\u001b[0melement_to_hover_over\u001b[0m\u001b[0;34m)\u001b[0m\u001b[0;34m\u001b[0m\u001b[0;34m\u001b[0m\u001b[0m\n\u001b[1;32m      3\u001b[0m \u001b[0mhover\u001b[0m\u001b[0;34m.\u001b[0m\u001b[0mperform\u001b[0m\u001b[0;34m(\u001b[0m\u001b[0;34m)\u001b[0m\u001b[0;34m\u001b[0m\u001b[0;34m\u001b[0m\u001b[0m\n",
      "\u001b[0;32m~/opt/anaconda3/lib/python3.9/site-packages/selenium/webdriver/remote/webelement.py\u001b[0m in \u001b[0;36mfind_element\u001b[0;34m(self, by, value)\u001b[0m\n\u001b[1;32m    733\u001b[0m             \u001b[0mvalue\u001b[0m \u001b[0;34m=\u001b[0m \u001b[0;34m'[name=\"%s\"]'\u001b[0m \u001b[0;34m%\u001b[0m \u001b[0mvalue\u001b[0m\u001b[0;34m\u001b[0m\u001b[0;34m\u001b[0m\u001b[0m\n\u001b[1;32m    734\u001b[0m \u001b[0;34m\u001b[0m\u001b[0m\n\u001b[0;32m--> 735\u001b[0;31m         return self._execute(Command.FIND_CHILD_ELEMENT,\n\u001b[0m\u001b[1;32m    736\u001b[0m                              {\"using\": by, \"value\": value})['value']\n\u001b[1;32m    737\u001b[0m \u001b[0;34m\u001b[0m\u001b[0m\n",
      "\u001b[0;32m~/opt/anaconda3/lib/python3.9/site-packages/selenium/webdriver/remote/webelement.py\u001b[0m in \u001b[0;36m_execute\u001b[0;34m(self, command, params)\u001b[0m\n\u001b[1;32m    708\u001b[0m             \u001b[0mparams\u001b[0m \u001b[0;34m=\u001b[0m \u001b[0;34m{\u001b[0m\u001b[0;34m}\u001b[0m\u001b[0;34m\u001b[0m\u001b[0;34m\u001b[0m\u001b[0m\n\u001b[1;32m    709\u001b[0m         \u001b[0mparams\u001b[0m\u001b[0;34m[\u001b[0m\u001b[0;34m'id'\u001b[0m\u001b[0;34m]\u001b[0m \u001b[0;34m=\u001b[0m \u001b[0mself\u001b[0m\u001b[0;34m.\u001b[0m\u001b[0m_id\u001b[0m\u001b[0;34m\u001b[0m\u001b[0;34m\u001b[0m\u001b[0m\n\u001b[0;32m--> 710\u001b[0;31m         \u001b[0;32mreturn\u001b[0m \u001b[0mself\u001b[0m\u001b[0;34m.\u001b[0m\u001b[0m_parent\u001b[0m\u001b[0;34m.\u001b[0m\u001b[0mexecute\u001b[0m\u001b[0;34m(\u001b[0m\u001b[0mcommand\u001b[0m\u001b[0;34m,\u001b[0m \u001b[0mparams\u001b[0m\u001b[0;34m)\u001b[0m\u001b[0;34m\u001b[0m\u001b[0;34m\u001b[0m\u001b[0m\n\u001b[0m\u001b[1;32m    711\u001b[0m \u001b[0;34m\u001b[0m\u001b[0m\n\u001b[1;32m    712\u001b[0m     \u001b[0;32mdef\u001b[0m \u001b[0mfind_element\u001b[0m\u001b[0;34m(\u001b[0m\u001b[0mself\u001b[0m\u001b[0;34m,\u001b[0m \u001b[0mby\u001b[0m\u001b[0;34m=\u001b[0m\u001b[0mBy\u001b[0m\u001b[0;34m.\u001b[0m\u001b[0mID\u001b[0m\u001b[0;34m,\u001b[0m \u001b[0mvalue\u001b[0m\u001b[0;34m=\u001b[0m\u001b[0;32mNone\u001b[0m\u001b[0;34m)\u001b[0m\u001b[0;34m:\u001b[0m\u001b[0;34m\u001b[0m\u001b[0;34m\u001b[0m\u001b[0m\n",
      "\u001b[0;32m~/opt/anaconda3/lib/python3.9/site-packages/selenium/webdriver/remote/webdriver.py\u001b[0m in \u001b[0;36mexecute\u001b[0;34m(self, driver_command, params)\u001b[0m\n\u001b[1;32m    422\u001b[0m         \u001b[0mresponse\u001b[0m \u001b[0;34m=\u001b[0m \u001b[0mself\u001b[0m\u001b[0;34m.\u001b[0m\u001b[0mcommand_executor\u001b[0m\u001b[0;34m.\u001b[0m\u001b[0mexecute\u001b[0m\u001b[0;34m(\u001b[0m\u001b[0mdriver_command\u001b[0m\u001b[0;34m,\u001b[0m \u001b[0mparams\u001b[0m\u001b[0;34m)\u001b[0m\u001b[0;34m\u001b[0m\u001b[0;34m\u001b[0m\u001b[0m\n\u001b[1;32m    423\u001b[0m         \u001b[0;32mif\u001b[0m \u001b[0mresponse\u001b[0m\u001b[0;34m:\u001b[0m\u001b[0;34m\u001b[0m\u001b[0;34m\u001b[0m\u001b[0m\n\u001b[0;32m--> 424\u001b[0;31m             \u001b[0mself\u001b[0m\u001b[0;34m.\u001b[0m\u001b[0merror_handler\u001b[0m\u001b[0;34m.\u001b[0m\u001b[0mcheck_response\u001b[0m\u001b[0;34m(\u001b[0m\u001b[0mresponse\u001b[0m\u001b[0;34m)\u001b[0m\u001b[0;34m\u001b[0m\u001b[0;34m\u001b[0m\u001b[0m\n\u001b[0m\u001b[1;32m    425\u001b[0m             response['value'] = self._unwrap_value(\n\u001b[1;32m    426\u001b[0m                 response.get('value', None))\n",
      "\u001b[0;32m~/opt/anaconda3/lib/python3.9/site-packages/selenium/webdriver/remote/errorhandler.py\u001b[0m in \u001b[0;36mcheck_response\u001b[0;34m(self, response)\u001b[0m\n\u001b[1;32m    245\u001b[0m                 \u001b[0malert_text\u001b[0m \u001b[0;34m=\u001b[0m \u001b[0mvalue\u001b[0m\u001b[0;34m[\u001b[0m\u001b[0;34m'alert'\u001b[0m\u001b[0;34m]\u001b[0m\u001b[0;34m.\u001b[0m\u001b[0mget\u001b[0m\u001b[0;34m(\u001b[0m\u001b[0;34m'text'\u001b[0m\u001b[0;34m)\u001b[0m\u001b[0;34m\u001b[0m\u001b[0;34m\u001b[0m\u001b[0m\n\u001b[1;32m    246\u001b[0m             \u001b[0;32mraise\u001b[0m \u001b[0mexception_class\u001b[0m\u001b[0;34m(\u001b[0m\u001b[0mmessage\u001b[0m\u001b[0;34m,\u001b[0m \u001b[0mscreen\u001b[0m\u001b[0;34m,\u001b[0m \u001b[0mstacktrace\u001b[0m\u001b[0;34m,\u001b[0m \u001b[0malert_text\u001b[0m\u001b[0;34m)\u001b[0m  \u001b[0;31m# type: ignore[call-arg]  # mypy is not smart enough here\u001b[0m\u001b[0;34m\u001b[0m\u001b[0;34m\u001b[0m\u001b[0m\n\u001b[0;32m--> 247\u001b[0;31m         \u001b[0;32mraise\u001b[0m \u001b[0mexception_class\u001b[0m\u001b[0;34m(\u001b[0m\u001b[0mmessage\u001b[0m\u001b[0;34m,\u001b[0m \u001b[0mscreen\u001b[0m\u001b[0;34m,\u001b[0m \u001b[0mstacktrace\u001b[0m\u001b[0;34m)\u001b[0m\u001b[0;34m\u001b[0m\u001b[0;34m\u001b[0m\u001b[0m\n\u001b[0m\u001b[1;32m    248\u001b[0m \u001b[0;34m\u001b[0m\u001b[0m\n\u001b[1;32m    249\u001b[0m     \u001b[0;32mdef\u001b[0m \u001b[0m_value_or_default\u001b[0m\u001b[0;34m(\u001b[0m\u001b[0mself\u001b[0m\u001b[0;34m,\u001b[0m \u001b[0mobj\u001b[0m\u001b[0;34m:\u001b[0m \u001b[0mMapping\u001b[0m\u001b[0;34m[\u001b[0m\u001b[0m_KT\u001b[0m\u001b[0;34m,\u001b[0m \u001b[0m_VT\u001b[0m\u001b[0;34m]\u001b[0m\u001b[0;34m,\u001b[0m \u001b[0mkey\u001b[0m\u001b[0;34m:\u001b[0m \u001b[0m_KT\u001b[0m\u001b[0;34m,\u001b[0m \u001b[0mdefault\u001b[0m\u001b[0;34m:\u001b[0m \u001b[0m_VT\u001b[0m\u001b[0;34m)\u001b[0m \u001b[0;34m->\u001b[0m \u001b[0m_VT\u001b[0m\u001b[0;34m:\u001b[0m\u001b[0;34m\u001b[0m\u001b[0;34m\u001b[0m\u001b[0m\n",
      "\u001b[0;31mStaleElementReferenceException\u001b[0m: Message: stale element reference: element is not attached to the page document\n  (Session info: chrome=97.0.4692.71)\nStacktrace:\n0   chromedriver                        0x0000000107f07e69 chromedriver + 5160553\n1   chromedriver                        0x0000000107e92593 chromedriver + 4679059\n2   chromedriver                        0x0000000107a462c8 chromedriver + 172744\n3   chromedriver                        0x0000000107a49141 chromedriver + 184641\n4   chromedriver                        0x0000000107a48f61 chromedriver + 184161\n5   chromedriver                        0x0000000107a491fc chromedriver + 184828\n6   chromedriver                        0x0000000107a7b876 chromedriver + 391286\n7   chromedriver                        0x0000000107a7bd21 chromedriver + 392481\n8   chromedriver                        0x0000000107a70667 chromedriver + 345703\n9   chromedriver                        0x0000000107a993ad chromedriver + 512941\n10  chromedriver                        0x0000000107a705b5 chromedriver + 345525\n11  chromedriver                        0x0000000107a9967e chromedriver + 513662\n12  chromedriver                        0x0000000107aac0ab chromedriver + 589995\n13  chromedriver                        0x0000000107a99623 chromedriver + 513571\n14  chromedriver                        0x0000000107a6edce chromedriver + 339406\n15  chromedriver                        0x0000000107a70105 chromedriver + 344325\n16  chromedriver                        0x0000000107ec323e chromedriver + 4878910\n17  chromedriver                        0x0000000107edad17 chromedriver + 4975895\n18  chromedriver                        0x0000000107ee0a3f chromedriver + 4999743\n19  chromedriver                        0x0000000107edb61a chromedriver + 4978202\n20  chromedriver                        0x0000000107eb7bb1 chromedriver + 4832177\n21  chromedriver                        0x0000000107ef7fd8 chromedriver + 5095384\n22  chromedriver                        0x0000000107ef8161 chromedriver + 5095777\n23  chromedriver                        0x0000000107f0f2a8 chromedriver + 5190312\n24  libsystem_pthread.dylib             0x00007ff811ed14f4 _pthread_start + 125\n25  libsystem_pthread.dylib             0x00007ff811ecd00f thread_start + 15\n"
     ]
    }
   ],
   "source": [
    "element_to_hover_over = a[11].find_element(By.CLASS_NAME, \"item_inner\")\n",
    "hover = ActionChains(driver).move_to_element(element_to_hover_over)\n",
    "hover.perform()"
   ]
  },
  {
   "cell_type": "code",
   "execution_count": 180,
   "id": "66667e9f",
   "metadata": {},
   "outputs": [
    {
     "ename": "TypeError",
     "evalue": "'bytes' object is not callable",
     "output_type": "error",
     "traceback": [
      "\u001b[0;31m---------------------------------------------------------------------------\u001b[0m",
      "\u001b[0;31mTypeError\u001b[0m                                 Traceback (most recent call last)",
      "\u001b[0;32m/var/folders/hn/4ftm09pn31591gc29smn543r0000gn/T/ipykernel_60535/1233976559.py\u001b[0m in \u001b[0;36m<module>\u001b[0;34m\u001b[0m\n\u001b[0;32m----> 1\u001b[0;31m \u001b[0ma\u001b[0m\u001b[0;34m[\u001b[0m\u001b[0;36m11\u001b[0m\u001b[0;34m]\u001b[0m\u001b[0;34m.\u001b[0m\u001b[0mscreenshot_as_png\u001b[0m\u001b[0;34m(\u001b[0m\u001b[0;34m'test.png'\u001b[0m\u001b[0;34m)\u001b[0m\u001b[0;34m\u001b[0m\u001b[0;34m\u001b[0m\u001b[0m\n\u001b[0m",
      "\u001b[0;31mTypeError\u001b[0m: 'bytes' object is not callable"
     ]
    }
   ],
   "source": [
    "a[11].screenshot_as_png('test.png')"
   ]
  },
  {
   "cell_type": "code",
   "execution_count": 52,
   "id": "7dca715a",
   "metadata": {},
   "outputs": [],
   "source": [
    "a.click()"
   ]
  }
 ],
 "metadata": {
  "kernelspec": {
   "display_name": "Python 3 (ipykernel)",
   "language": "python",
   "name": "python3"
  },
  "language_info": {
   "codemirror_mode": {
    "name": "ipython",
    "version": 3
   },
   "file_extension": ".py",
   "mimetype": "text/x-python",
   "name": "python",
   "nbconvert_exporter": "python",
   "pygments_lexer": "ipython3",
   "version": "3.9.7"
  }
 },
 "nbformat": 4,
 "nbformat_minor": 5
}
